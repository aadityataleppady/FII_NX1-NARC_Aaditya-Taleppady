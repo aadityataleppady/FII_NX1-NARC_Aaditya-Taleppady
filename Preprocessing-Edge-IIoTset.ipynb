{
 "cells": [
  {
   "cell_type": "code",
   "execution_count": 2,
   "metadata": {
    "_cell_guid": "b1076dfc-b9ad-4769-8c92-a6c4dae69d19",
    "_uuid": "8f2839f25d086af736a60e9eeb907d3b93b6e0e5",
    "execution": {
     "iopub.execute_input": "2023-11-13T18:50:53.523959Z",
     "iopub.status.busy": "2023-11-13T18:50:53.523371Z",
     "iopub.status.idle": "2023-11-13T18:50:53.891557Z",
     "shell.execute_reply": "2023-11-13T18:50:53.890529Z",
     "shell.execute_reply.started": "2023-11-13T18:50:53.523916Z"
    },
    "trusted": true
   },
   "outputs": [],
   "source": [
    "import pandas as pd\n",
    "import numpy as np"
   ]
  },
  {
   "cell_type": "code",
   "execution_count": 3,
   "metadata": {
    "execution": {
     "iopub.execute_input": "2023-11-13T18:50:53.893690Z",
     "iopub.status.busy": "2023-11-13T18:50:53.893287Z",
     "iopub.status.idle": "2023-11-13T18:50:54.991195Z",
     "shell.execute_reply": "2023-11-13T18:50:54.990114Z",
     "shell.execute_reply.started": "2023-11-13T18:50:53.893660Z"
    },
    "trusted": true
   },
   "outputs": [],
   "source": [
    "from sklearn.utils import shuffle\n",
    "from hashlib import md5\n",
    "from sklearn.preprocessing import LabelEncoder, OneHotEncoder"
   ]
  },
  {
   "cell_type": "code",
   "execution_count": 12,
   "metadata": {
    "execution": {
     "iopub.execute_input": "2023-11-13T18:50:54.993338Z",
     "iopub.status.busy": "2023-11-13T18:50:54.992702Z",
     "iopub.status.idle": "2023-11-13T18:51:39.325718Z",
     "shell.execute_reply": "2023-11-13T18:51:39.324533Z",
     "shell.execute_reply.started": "2023-11-13T18:50:54.993299Z"
    },
    "trusted": true
   },
   "outputs": [
    {
     "name": "stderr",
     "output_type": "stream",
     "text": [
      "<>:1: SyntaxWarning: invalid escape sequence '\\S'\n",
      "<>:1: SyntaxWarning: invalid escape sequence '\\S'\n",
      "C:\\Users\\aadit\\AppData\\Local\\Temp\\ipykernel_37488\\3249241707.py:1: SyntaxWarning: invalid escape sequence '\\S'\n",
      "  df = pd.read_csv(\"C:\\\\Users\\\\aadit\\\\kaggle\\\\input\\\\edgeiiotset-cyber-security-dataset-of-iot-iiot\\\\Edge-IIoTset dataset\\Selected dataset for ML and DL\\\\DNN-EdgeIIoT-dataset.csv\", low_memory = False)\n"
     ]
    }
   ],
   "source": [
    "df = pd.read_csv(\"C:\\\\Users\\\\aadit\\\\kaggle\\\\input\\\\edgeiiotset-cyber-security-dataset-of-iot-iiot\\\\Edge-IIoTset dataset\\Selected dataset for ML and DL\\\\DNN-EdgeIIoT-dataset.csv\", low_memory = False)"
   ]
  },
  {
   "cell_type": "code",
   "execution_count": 13,
   "metadata": {
    "execution": {
     "iopub.execute_input": "2023-11-13T18:51:39.328513Z",
     "iopub.status.busy": "2023-11-13T18:51:39.328174Z",
     "iopub.status.idle": "2023-11-13T18:51:40.093513Z",
     "shell.execute_reply": "2023-11-13T18:51:40.092754Z",
     "shell.execute_reply.started": "2023-11-13T18:51:39.328483Z"
    },
    "trusted": true
   },
   "outputs": [],
   "source": [
    "df = df.rename(columns={'http.request.method': 'http1', 'http.referer': 'http2', 'http.request.version': 'http3', 'dns.qry.name.len': 'dns', 'mqtt.conack.flags': 'mqtt1', 'mqtt.protoname': 'mqtt2', 'mqtt.topic': 'mqtt3'})"
   ]
  },
  {
   "cell_type": "code",
   "execution_count": 14,
   "metadata": {
    "execution": {
     "iopub.execute_input": "2023-11-13T18:51:40.095315Z",
     "iopub.status.busy": "2023-11-13T18:51:40.094518Z",
     "iopub.status.idle": "2023-11-13T18:51:40.099408Z",
     "shell.execute_reply": "2023-11-13T18:51:40.098740Z",
     "shell.execute_reply.started": "2023-11-13T18:51:40.095287Z"
    },
    "trusted": true
   },
   "outputs": [],
   "source": [
    "le_http1 = LabelEncoder()\n",
    "le_http2 = LabelEncoder()\n",
    "le_http3 = LabelEncoder()\n",
    "le_dns = LabelEncoder()\n",
    "le_mqtt1 = LabelEncoder()\n",
    "le_mqtt2 = LabelEncoder()\n",
    "le_mqtt3 = LabelEncoder()"
   ]
  },
  {
   "cell_type": "code",
   "execution_count": 15,
   "metadata": {
    "execution": {
     "iopub.execute_input": "2023-11-13T18:51:40.101294Z",
     "iopub.status.busy": "2023-11-13T18:51:40.100462Z",
     "iopub.status.idle": "2023-11-13T18:51:42.818542Z",
     "shell.execute_reply": "2023-11-13T18:51:42.817404Z",
     "shell.execute_reply.started": "2023-11-13T18:51:40.101255Z"
    },
    "trusted": true
   },
   "outputs": [],
   "source": [
    "df['http1_encoded'] = le_http1.fit_transform(df.http1)\n",
    "df['http2_encoded'] = le_http2.fit_transform(df.http2)\n",
    "df['http3_encoded'] = le_http3.fit_transform(df.http3)\n",
    "df['dns_encoded'] = le_dns.fit_transform(df.dns)\n",
    "df['mqtt1_encoded'] = le_mqtt1.fit_transform(df.mqtt1)\n",
    "df['mqtt2_encoded'] = le_mqtt2.fit_transform(df.mqtt2)\n",
    "df['mqtt3_encoded'] = le_mqtt3.fit_transform(df.mqtt3)"
   ]
  },
  {
   "cell_type": "code",
   "execution_count": 16,
   "metadata": {
    "execution": {
     "iopub.execute_input": "2023-11-13T18:51:42.820805Z",
     "iopub.status.busy": "2023-11-13T18:51:42.819961Z",
     "iopub.status.idle": "2023-11-13T18:51:42.826848Z",
     "shell.execute_reply": "2023-11-13T18:51:42.825575Z",
     "shell.execute_reply.started": "2023-11-13T18:51:42.820765Z"
    },
    "trusted": true
   },
   "outputs": [],
   "source": [
    "http1_ = OneHotEncoder()\n",
    "http2_ = OneHotEncoder()\n",
    "http3_ = OneHotEncoder()\n",
    "dns_ = OneHotEncoder()\n",
    "mqtt1_ = OneHotEncoder()\n",
    "mqtt2_ = OneHotEncoder()\n",
    "mqtt3_ = OneHotEncoder()"
   ]
  },
  {
   "cell_type": "code",
   "execution_count": 17,
   "metadata": {
    "execution": {
     "iopub.execute_input": "2023-11-13T18:51:42.828542Z",
     "iopub.status.busy": "2023-11-13T18:51:42.828242Z",
     "iopub.status.idle": "2023-11-13T18:51:45.165227Z",
     "shell.execute_reply": "2023-11-13T18:51:45.164125Z",
     "shell.execute_reply.started": "2023-11-13T18:51:42.828505Z"
    },
    "trusted": true
   },
   "outputs": [],
   "source": [
    "X1 = http1_.fit_transform(df.http1_encoded.values.reshape(-1,1)).toarray()\n",
    "X2 = http2_.fit_transform(df.http2_encoded.values.reshape(-1,1)).toarray()\n",
    "X3 = http3_.fit_transform(df.http3_encoded.values.reshape(-1,1)).toarray()\n",
    "X4 = dns_.fit_transform(df.dns_encoded.values.reshape(-1,1)).toarray()\n",
    "X5 = mqtt1_.fit_transform(df.mqtt1_encoded.values.reshape(-1,1)).toarray()\n",
    "X6 = mqtt2_.fit_transform(df.mqtt2_encoded.values.reshape(-1,1)).toarray()\n",
    "X7 = mqtt3_.fit_transform(df.mqtt3_encoded.values.reshape(-1,1)).toarray()"
   ]
  },
  {
   "cell_type": "code",
   "execution_count": 18,
   "metadata": {
    "execution": {
     "iopub.execute_input": "2023-11-13T18:51:45.167030Z",
     "iopub.status.busy": "2023-11-13T18:51:45.166694Z",
     "iopub.status.idle": "2023-11-13T18:51:53.361107Z",
     "shell.execute_reply": "2023-11-13T18:51:53.359618Z",
     "shell.execute_reply.started": "2023-11-13T18:51:45.167002Z"
    },
    "trusted": true
   },
   "outputs": [],
   "source": [
    "dfOneHot = pd.DataFrame(X1, columns = [\"http1_\"+str(int(i)) for i in range(X1.shape[1])])\n",
    "df = pd.concat([df, dfOneHot], axis=1)\n",
    "dfOneHot = pd.DataFrame(X2, columns = [\"http2_\"+str(int(i)) for i in range(X2.shape[1])])\n",
    "df = pd.concat([df, dfOneHot], axis=1)\n",
    "dfOneHot = pd.DataFrame(X3, columns = [\"http3_\"+str(int(i)) for i in range(X3.shape[1])])\n",
    "df = pd.concat([df, dfOneHot], axis=1)\n",
    "dfOneHot = pd.DataFrame(X4, columns = [\"dns_\"+str(int(i)) for i in range(X4.shape[1])])\n",
    "df = pd.concat([df, dfOneHot], axis=1)\n",
    "dfOneHot = pd.DataFrame(X5, columns = [\"mqtt1_\"+str(int(i)) for i in range(X5.shape[1])])\n",
    "df = pd.concat([df, dfOneHot], axis=1)\n",
    "dfOneHot = pd.DataFrame(X6, columns = [\"mqtt2_\"+str(int(i)) for i in range(X6.shape[1])])\n",
    "df = pd.concat([df, dfOneHot], axis=1)\n",
    "dfOneHot = pd.DataFrame(X7, columns = [\"mqtt3_\"+str(int(i)) for i in range(X7.shape[1])])\n",
    "df = pd.concat([df, dfOneHot], axis=1)"
   ]
  },
  {
   "cell_type": "code",
   "execution_count": 19,
   "metadata": {
    "execution": {
     "iopub.execute_input": "2023-11-13T18:51:53.366283Z",
     "iopub.status.busy": "2023-11-13T18:51:53.365870Z",
     "iopub.status.idle": "2023-11-13T18:51:54.456727Z",
     "shell.execute_reply": "2023-11-13T18:51:54.455800Z",
     "shell.execute_reply.started": "2023-11-13T18:51:53.366250Z"
    },
    "trusted": true
   },
   "outputs": [
    {
     "data": {
      "text/plain": [
       "(2219201, 119)"
      ]
     },
     "execution_count": 19,
     "metadata": {},
     "output_type": "execute_result"
    }
   ],
   "source": [
    "df.drop(columns=['http1','http2','http3', 'dns','mqtt1','mqtt2', 'mqtt3'], inplace = True )\n",
    "df.shape"
   ]
  },
  {
   "cell_type": "code",
   "execution_count": 20,
   "metadata": {
    "execution": {
     "iopub.execute_input": "2023-11-13T18:51:54.458380Z",
     "iopub.status.busy": "2023-11-13T18:51:54.458097Z",
     "iopub.status.idle": "2023-11-13T18:51:56.101911Z",
     "shell.execute_reply": "2023-11-13T18:51:56.100961Z",
     "shell.execute_reply.started": "2023-11-13T18:51:54.458356Z"
    },
    "trusted": true
   },
   "outputs": [
    {
     "data": {
      "text/plain": [
       "frame.time            0\n",
       "ip.src_host           0\n",
       "ip.dst_host           0\n",
       "arp.dst.proto_ipv4    0\n",
       "arp.opcode            0\n",
       "                     ..\n",
       "mqtt2_1               0\n",
       "mqtt2_2               0\n",
       "mqtt3_0               0\n",
       "mqtt3_1               0\n",
       "mqtt3_2               0\n",
       "Length: 119, dtype: int64"
      ]
     },
     "execution_count": 20,
     "metadata": {},
     "output_type": "execute_result"
    }
   ],
   "source": [
    "df.isnull().sum()"
   ]
  },
  {
   "cell_type": "code",
   "execution_count": 21,
   "metadata": {
    "execution": {
     "iopub.execute_input": "2023-11-13T18:51:56.103567Z",
     "iopub.status.busy": "2023-11-13T18:51:56.103189Z",
     "iopub.status.idle": "2023-11-13T18:52:17.653017Z",
     "shell.execute_reply": "2023-11-13T18:52:17.648642Z",
     "shell.execute_reply.started": "2023-11-13T18:51:56.103538Z"
    },
    "trusted": true
   },
   "outputs": [
    {
     "data": {
      "text/plain": [
       "np.int64(815)"
      ]
     },
     "execution_count": 21,
     "metadata": {},
     "output_type": "execute_result"
    }
   ],
   "source": [
    "df.duplicated().sum()"
   ]
  },
  {
   "cell_type": "code",
   "execution_count": 22,
   "metadata": {
    "execution": {
     "iopub.execute_input": "2023-11-13T18:52:17.657550Z",
     "iopub.status.busy": "2023-11-13T18:52:17.657054Z",
     "iopub.status.idle": "2023-11-13T18:52:34.944465Z",
     "shell.execute_reply": "2023-11-13T18:52:34.943217Z",
     "shell.execute_reply.started": "2023-11-13T18:52:17.657488Z"
    },
    "trusted": true
   },
   "outputs": [],
   "source": [
    "df = df.drop_duplicates()"
   ]
  },
  {
   "cell_type": "code",
   "execution_count": 23,
   "metadata": {
    "execution": {
     "iopub.execute_input": "2023-11-13T18:52:34.946073Z",
     "iopub.status.busy": "2023-11-13T18:52:34.945738Z",
     "iopub.status.idle": "2023-11-13T18:52:48.550447Z",
     "shell.execute_reply": "2023-11-13T18:52:48.549352Z",
     "shell.execute_reply.started": "2023-11-13T18:52:34.946044Z"
    },
    "trusted": true
   },
   "outputs": [
    {
     "name": "stdout",
     "output_type": "stream",
     "text": [
      "Groups of identical columns: [['icmp.unused', 'http.tls_port', 'dns.qry.type', 'mqtt.msg_decoded_as'], ['mqtt.conflag.cleansess', 'mqtt2_2'], ['mqtt.proto_len', 'mqtt.ver'], ['mqtt1_1', 'mqtt2_1', 'mqtt3_1']]\n"
     ]
    }
   ],
   "source": [
    "# Function to create a hash for each column\n",
    "def hash_column(series):\n",
    "    return md5(pd.util.hash_pandas_object(series, index=False).values).hexdigest()\n",
    "\n",
    "# Function to find columns with identical hashes\n",
    "def find_identical_columns_by_hash(df):\n",
    "    hash_dict = {}\n",
    "    for col in df.columns:\n",
    "        col_hash = hash_column(df[col])\n",
    "        if col_hash in hash_dict:\n",
    "            hash_dict[col_hash].append(col)\n",
    "        else:\n",
    "            hash_dict[col_hash] = [col]\n",
    "\n",
    "    return [cols for cols in hash_dict.values() if len(cols) > 1]\n",
    "\n",
    "# Applying the function to the DataFrame\n",
    "identical_column_groups = find_identical_columns_by_hash(df)\n",
    "print(\"Groups of identical columns:\", identical_column_groups)"
   ]
  },
  {
   "cell_type": "code",
   "execution_count": 24,
   "metadata": {
    "execution": {
     "iopub.execute_input": "2023-11-13T18:52:48.552693Z",
     "iopub.status.busy": "2023-11-13T18:52:48.552071Z",
     "iopub.status.idle": "2023-11-13T18:52:52.869262Z",
     "shell.execute_reply": "2023-11-13T18:52:52.868198Z",
     "shell.execute_reply.started": "2023-11-13T18:52:48.552654Z"
    },
    "trusted": true
   },
   "outputs": [],
   "source": [
    "# Groups of identical columns\n",
    "identical_column_groups = [\n",
    "    ['icmp.unused', 'http.tls_port', 'dns.qry.type', 'mqtt.msg_decoded_as'],\n",
    "    ['mqtt.conflag.cleansess', 'mqtt2_2'], \n",
    "    ['mqtt.proto_len', 'mqtt.ver'], \n",
    "    ['mqtt1_1', 'mqtt2_1', 'mqtt3_1']\n",
    "]\n",
    "\n",
    "# Iterate through the list of groups and drop all but the first column\n",
    "for group in identical_column_groups:\n",
    "    # Keep the first column of the group and drop the rest\n",
    "    columns_to_drop = group[1:]  # all columns except the first one\n",
    "    df = df.drop(columns_to_drop, axis=1)"
   ]
  },
  {
   "cell_type": "code",
   "execution_count": 25,
   "metadata": {
    "execution": {
     "iopub.execute_input": "2023-11-13T18:52:52.871293Z",
     "iopub.status.busy": "2023-11-13T18:52:52.870798Z",
     "iopub.status.idle": "2023-11-13T18:52:52.893156Z",
     "shell.execute_reply": "2023-11-13T18:52:52.892000Z",
     "shell.execute_reply.started": "2023-11-13T18:52:52.871254Z"
    },
    "trusted": true
   },
   "outputs": [
    {
     "name": "stdout",
     "output_type": "stream",
     "text": [
      "<class 'pandas.core.frame.DataFrame'>\n",
      "Index: 2218386 entries, 0 to 2219200\n",
      "Columns: 112 entries, frame.time to mqtt3_2\n",
      "dtypes: float64(91), int64(8), object(13)\n",
      "memory usage: 1.9+ GB\n"
     ]
    }
   ],
   "source": [
    "df.info()"
   ]
  },
  {
   "cell_type": "code",
   "execution_count": 26,
   "metadata": {
    "execution": {
     "iopub.execute_input": "2023-11-13T18:52:52.894825Z",
     "iopub.status.busy": "2023-11-13T18:52:52.894537Z",
     "iopub.status.idle": "2023-11-13T18:52:53.016011Z",
     "shell.execute_reply": "2023-11-13T18:52:53.014896Z",
     "shell.execute_reply.started": "2023-11-13T18:52:52.894800Z"
    },
    "trusted": true
   },
   "outputs": [
    {
     "name": "stdout",
     "output_type": "stream",
     "text": [
      "Attack_type\n",
      "Normal                   1615643\n",
      "DDoS_UDP                  121567\n",
      "DDoS_ICMP                 116436\n",
      "SQL_injection              51203\n",
      "Password                   50153\n",
      "Vulnerability_scanner      50110\n",
      "DDoS_TCP                   50062\n",
      "DDoS_HTTP                  49911\n",
      "Uploading                  37634\n",
      "Backdoor                   24862\n",
      "Port_Scanning              22564\n",
      "XSS                        15915\n",
      "Ransomware                 10925\n",
      "Fingerprinting              1001\n",
      "MITM                         400\n",
      "Name: count, dtype: int64\n"
     ]
    }
   ],
   "source": [
    "print(df['Attack_type'].value_counts())"
   ]
  },
  {
   "cell_type": "code",
   "execution_count": 27,
   "metadata": {
    "execution": {
     "iopub.execute_input": "2023-11-13T18:52:53.017396Z",
     "iopub.status.busy": "2023-11-13T18:52:53.017132Z",
     "iopub.status.idle": "2023-11-13T18:52:58.492856Z",
     "shell.execute_reply": "2023-11-13T18:52:58.491816Z",
     "shell.execute_reply.started": "2023-11-13T18:52:53.017372Z"
    },
    "trusted": true
   },
   "outputs": [
    {
     "data": {
      "text/html": [
       "<div>\n",
       "<style scoped>\n",
       "    .dataframe tbody tr th:only-of-type {\n",
       "        vertical-align: middle;\n",
       "    }\n",
       "\n",
       "    .dataframe tbody tr th {\n",
       "        vertical-align: top;\n",
       "    }\n",
       "\n",
       "    .dataframe thead th {\n",
       "        text-align: right;\n",
       "    }\n",
       "</style>\n",
       "<table border=\"1\" class=\"dataframe\">\n",
       "  <thead>\n",
       "    <tr style=\"text-align: right;\">\n",
       "      <th></th>\n",
       "      <th>frame.time</th>\n",
       "      <th>ip.src_host</th>\n",
       "      <th>ip.dst_host</th>\n",
       "      <th>arp.dst.proto_ipv4</th>\n",
       "      <th>arp.src.proto_ipv4</th>\n",
       "      <th>http.file_data</th>\n",
       "      <th>http.request.uri.query</th>\n",
       "      <th>http.request.full_uri</th>\n",
       "      <th>tcp.options</th>\n",
       "      <th>tcp.payload</th>\n",
       "      <th>tcp.srcport</th>\n",
       "      <th>mqtt.msg</th>\n",
       "      <th>Attack_type</th>\n",
       "    </tr>\n",
       "  </thead>\n",
       "  <tbody>\n",
       "    <tr>\n",
       "      <th>count</th>\n",
       "      <td>2218386</td>\n",
       "      <td>2218386</td>\n",
       "      <td>2218386</td>\n",
       "      <td>2218386</td>\n",
       "      <td>2218386</td>\n",
       "      <td>2218386</td>\n",
       "      <td>2218386</td>\n",
       "      <td>2218386</td>\n",
       "      <td>2218386</td>\n",
       "      <td>2218386</td>\n",
       "      <td>2218386</td>\n",
       "      <td>2218386</td>\n",
       "      <td>2218386</td>\n",
       "    </tr>\n",
       "    <tr>\n",
       "      <th>unique</th>\n",
       "      <td>2206364</td>\n",
       "      <td>137167</td>\n",
       "      <td>52425</td>\n",
       "      <td>9</td>\n",
       "      <td>10</td>\n",
       "      <td>2396</td>\n",
       "      <td>5526</td>\n",
       "      <td>11408</td>\n",
       "      <td>242565</td>\n",
       "      <td>274925</td>\n",
       "      <td>61975</td>\n",
       "      <td>136</td>\n",
       "      <td>15</td>\n",
       "    </tr>\n",
       "    <tr>\n",
       "      <th>top</th>\n",
       "      <td>192.168.0.128</td>\n",
       "      <td>192.168.0.128</td>\n",
       "      <td>192.168.0.128</td>\n",
       "      <td>0</td>\n",
       "      <td>0</td>\n",
       "      <td>0.0</td>\n",
       "      <td>0.0</td>\n",
       "      <td>0.0</td>\n",
       "      <td>0</td>\n",
       "      <td>0</td>\n",
       "      <td>1883.0</td>\n",
       "      <td>0</td>\n",
       "      <td>Normal</td>\n",
       "    </tr>\n",
       "    <tr>\n",
       "      <th>freq</th>\n",
       "      <td>11533</td>\n",
       "      <td>962129</td>\n",
       "      <td>958578</td>\n",
       "      <td>2200599</td>\n",
       "      <td>2090565</td>\n",
       "      <td>2052297</td>\n",
       "      <td>2117073</td>\n",
       "      <td>1963460</td>\n",
       "      <td>1453980</td>\n",
       "      <td>1300742</td>\n",
       "      <td>664514</td>\n",
       "      <td>1532627</td>\n",
       "      <td>1615643</td>\n",
       "    </tr>\n",
       "  </tbody>\n",
       "</table>\n",
       "</div>"
      ],
      "text/plain": [
       "           frame.time    ip.src_host    ip.dst_host arp.dst.proto_ipv4  \\\n",
       "count         2218386        2218386        2218386            2218386   \n",
       "unique        2206364         137167          52425                  9   \n",
       "top     192.168.0.128  192.168.0.128  192.168.0.128                  0   \n",
       "freq            11533         962129         958578            2200599   \n",
       "\n",
       "       arp.src.proto_ipv4 http.file_data http.request.uri.query  \\\n",
       "count             2218386        2218386                2218386   \n",
       "unique                 10           2396                   5526   \n",
       "top                     0            0.0                    0.0   \n",
       "freq              2090565        2052297                2117073   \n",
       "\n",
       "       http.request.full_uri tcp.options tcp.payload tcp.srcport mqtt.msg  \\\n",
       "count                2218386     2218386     2218386     2218386  2218386   \n",
       "unique                 11408      242565      274925       61975      136   \n",
       "top                      0.0           0           0      1883.0        0   \n",
       "freq                 1963460     1453980     1300742      664514  1532627   \n",
       "\n",
       "       Attack_type  \n",
       "count      2218386  \n",
       "unique          15  \n",
       "top         Normal  \n",
       "freq       1615643  "
      ]
     },
     "execution_count": 27,
     "metadata": {},
     "output_type": "execute_result"
    }
   ],
   "source": [
    "df_cat = df.select_dtypes(exclude=[np.number])\n",
    "df_cat.describe(include='all')"
   ]
  },
  {
   "cell_type": "code",
   "execution_count": 28,
   "metadata": {
    "execution": {
     "iopub.execute_input": "2023-11-13T18:52:58.494943Z",
     "iopub.status.busy": "2023-11-13T18:52:58.494543Z",
     "iopub.status.idle": "2023-11-13T18:53:10.301248Z",
     "shell.execute_reply": "2023-11-13T18:53:10.300172Z",
     "shell.execute_reply.started": "2023-11-13T18:52:58.494890Z"
    },
    "trusted": true
   },
   "outputs": [],
   "source": [
    "drop_columns = [\"frame.time\", \"ip.src_host\", \"ip.dst_host\", \"arp.dst.proto_ipv4\", \"arp.src.proto_ipv4\",\n",
    "                \"http.file_data\", \"http.request.uri.query\",\n",
    "                \"http.request.full_uri\", \"tcp.options\", \"tcp.payload\",\n",
    "                \"tcp.srcport\", \"mqtt.msg\"]\n",
    "df.drop(drop_columns, axis = 1, inplace = True)\n",
    "df.dropna(axis = 0, how = 'any', inplace = True)\n",
    "df.drop_duplicates(subset = None, keep = \"first\", inplace = True)\n",
    "df = shuffle(df)"
   ]
  },
  {
   "cell_type": "code",
   "execution_count": 29,
   "metadata": {
    "execution": {
     "iopub.execute_input": "2023-11-13T18:53:10.303469Z",
     "iopub.status.busy": "2023-11-13T18:53:10.303079Z",
     "iopub.status.idle": "2023-11-13T18:53:10.320045Z",
     "shell.execute_reply": "2023-11-13T18:53:10.318782Z",
     "shell.execute_reply.started": "2023-11-13T18:53:10.303431Z"
    },
    "trusted": true
   },
   "outputs": [
    {
     "name": "stdout",
     "output_type": "stream",
     "text": [
      "<class 'pandas.core.frame.DataFrame'>\n",
      "Index: 1945449 entries, 1946917 to 29631\n",
      "Data columns (total 100 columns):\n",
      " #   Column                     Dtype  \n",
      "---  ------                     -----  \n",
      " 0   arp.opcode                 float64\n",
      " 1   arp.hw.size                float64\n",
      " 2   icmp.checksum              float64\n",
      " 3   icmp.seq_le                float64\n",
      " 4   icmp.transmit_timestamp    float64\n",
      " 5   icmp.unused                float64\n",
      " 6   http.content_length        float64\n",
      " 7   http.response              float64\n",
      " 8   tcp.ack                    float64\n",
      " 9   tcp.ack_raw                float64\n",
      " 10  tcp.checksum               float64\n",
      " 11  tcp.connection.fin         float64\n",
      " 12  tcp.connection.rst         float64\n",
      " 13  tcp.connection.syn         float64\n",
      " 14  tcp.connection.synack      float64\n",
      " 15  tcp.dstport                float64\n",
      " 16  tcp.flags                  float64\n",
      " 17  tcp.flags.ack              float64\n",
      " 18  tcp.len                    float64\n",
      " 19  tcp.seq                    float64\n",
      " 20  udp.port                   float64\n",
      " 21  udp.stream                 float64\n",
      " 22  udp.time_delta             float64\n",
      " 23  dns.qry.name               float64\n",
      " 24  dns.qry.qu                 float64\n",
      " 25  dns.retransmission         float64\n",
      " 26  dns.retransmit_request     float64\n",
      " 27  dns.retransmit_request_in  float64\n",
      " 28  mqtt.conflag.cleansess     float64\n",
      " 29  mqtt.conflags              float64\n",
      " 30  mqtt.hdrflags              float64\n",
      " 31  mqtt.len                   float64\n",
      " 32  mqtt.msgtype               float64\n",
      " 33  mqtt.proto_len             float64\n",
      " 34  mqtt.topic_len             float64\n",
      " 35  mbtcp.len                  float64\n",
      " 36  mbtcp.trans_id             float64\n",
      " 37  mbtcp.unit_id              float64\n",
      " 38  Attack_label               int64  \n",
      " 39  Attack_type                object \n",
      " 40  http1_encoded              int64  \n",
      " 41  http2_encoded              int64  \n",
      " 42  http3_encoded              int64  \n",
      " 43  dns_encoded                int64  \n",
      " 44  mqtt1_encoded              int64  \n",
      " 45  mqtt2_encoded              int64  \n",
      " 46  mqtt3_encoded              int64  \n",
      " 47  http1_0                    float64\n",
      " 48  http1_1                    float64\n",
      " 49  http1_2                    float64\n",
      " 50  http1_3                    float64\n",
      " 51  http1_4                    float64\n",
      " 52  http1_5                    float64\n",
      " 53  http1_6                    float64\n",
      " 54  http1_7                    float64\n",
      " 55  http1_8                    float64\n",
      " 56  http2_0                    float64\n",
      " 57  http2_1                    float64\n",
      " 58  http2_2                    float64\n",
      " 59  http2_3                    float64\n",
      " 60  http2_4                    float64\n",
      " 61  http3_0                    float64\n",
      " 62  http3_1                    float64\n",
      " 63  http3_2                    float64\n",
      " 64  http3_3                    float64\n",
      " 65  http3_4                    float64\n",
      " 66  http3_5                    float64\n",
      " 67  http3_6                    float64\n",
      " 68  http3_7                    float64\n",
      " 69  http3_8                    float64\n",
      " 70  http3_9                    float64\n",
      " 71  http3_10                   float64\n",
      " 72  http3_11                   float64\n",
      " 73  http3_12                   float64\n",
      " 74  dns_0                      float64\n",
      " 75  dns_1                      float64\n",
      " 76  dns_2                      float64\n",
      " 77  dns_3                      float64\n",
      " 78  dns_4                      float64\n",
      " 79  dns_5                      float64\n",
      " 80  dns_6                      float64\n",
      " 81  dns_7                      float64\n",
      " 82  dns_8                      float64\n",
      " 83  dns_9                      float64\n",
      " 84  mqtt1_0                    float64\n",
      " 85  mqtt1_1                    float64\n",
      " 86  mqtt1_2                    float64\n",
      " 87  mqtt1_3                    float64\n",
      " 88  mqtt1_4                    float64\n",
      " 89  mqtt1_5                    float64\n",
      " 90  mqtt1_6                    float64\n",
      " 91  mqtt1_7                    float64\n",
      " 92  mqtt1_8                    float64\n",
      " 93  mqtt1_9                    float64\n",
      " 94  mqtt1_10                   float64\n",
      " 95  mqtt1_11                   float64\n",
      " 96  mqtt1_12                   float64\n",
      " 97  mqtt2_0                    float64\n",
      " 98  mqtt3_0                    float64\n",
      " 99  mqtt3_2                    float64\n",
      "dtypes: float64(91), int64(8), object(1)\n",
      "memory usage: 1.5+ GB\n"
     ]
    }
   ],
   "source": [
    "df.info()"
   ]
  },
  {
   "cell_type": "code",
   "execution_count": 30,
   "metadata": {
    "execution": {
     "iopub.execute_input": "2023-11-13T18:53:10.321688Z",
     "iopub.status.busy": "2023-11-13T18:53:10.321388Z",
     "iopub.status.idle": "2023-11-13T18:53:10.430725Z",
     "shell.execute_reply": "2023-11-13T18:53:10.429679Z",
     "shell.execute_reply.started": "2023-11-13T18:53:10.321662Z"
    },
    "trusted": true
   },
   "outputs": [
    {
     "name": "stdout",
     "output_type": "stream",
     "text": [
      "Attack_type\n",
      "Normal                   1399624\n",
      "DDoS_UDP                  121567\n",
      "DDoS_ICMP                  67939\n",
      "SQL_injection              50826\n",
      "DDoS_TCP                   50062\n",
      "Vulnerability_scanner      50026\n",
      "Password                   49933\n",
      "DDoS_HTTP                  48544\n",
      "Uploading                  36957\n",
      "Backdoor                   24026\n",
      "Port_Scanning              19977\n",
      "XSS                        15068\n",
      "Ransomware                  9689\n",
      "Fingerprinting               853\n",
      "MITM                         358\n",
      "Name: count, dtype: int64\n"
     ]
    }
   ],
   "source": [
    "print(df['Attack_type'].value_counts())"
   ]
  },
  {
   "cell_type": "code",
   "execution_count": 31,
   "metadata": {
    "execution": {
     "iopub.execute_input": "2023-11-13T18:53:10.432341Z",
     "iopub.status.busy": "2023-11-13T18:53:10.432060Z",
     "iopub.status.idle": "2023-11-13T18:53:11.076552Z",
     "shell.execute_reply": "2023-11-13T18:53:11.075415Z",
     "shell.execute_reply.started": "2023-11-13T18:53:10.432317Z"
    },
    "trusted": true
   },
   "outputs": [],
   "source": [
    "columns_to_drop = ['icmp.unused']\n",
    "df = df.drop(columns=columns_to_drop)"
   ]
  },
  {
   "cell_type": "code",
   "execution_count": 32,
   "metadata": {
    "execution": {
     "iopub.execute_input": "2023-11-13T18:53:11.078462Z",
     "iopub.status.busy": "2023-11-13T18:53:11.078100Z",
     "iopub.status.idle": "2023-11-13T18:53:11.092619Z",
     "shell.execute_reply": "2023-11-13T18:53:11.091563Z",
     "shell.execute_reply.started": "2023-11-13T18:53:11.078428Z"
    },
    "trusted": true
   },
   "outputs": [
    {
     "name": "stdout",
     "output_type": "stream",
     "text": [
      "<class 'pandas.core.frame.DataFrame'>\n",
      "Index: 1945449 entries, 1946917 to 29631\n",
      "Data columns (total 99 columns):\n",
      " #   Column                     Dtype  \n",
      "---  ------                     -----  \n",
      " 0   arp.opcode                 float64\n",
      " 1   arp.hw.size                float64\n",
      " 2   icmp.checksum              float64\n",
      " 3   icmp.seq_le                float64\n",
      " 4   icmp.transmit_timestamp    float64\n",
      " 5   http.content_length        float64\n",
      " 6   http.response              float64\n",
      " 7   tcp.ack                    float64\n",
      " 8   tcp.ack_raw                float64\n",
      " 9   tcp.checksum               float64\n",
      " 10  tcp.connection.fin         float64\n",
      " 11  tcp.connection.rst         float64\n",
      " 12  tcp.connection.syn         float64\n",
      " 13  tcp.connection.synack      float64\n",
      " 14  tcp.dstport                float64\n",
      " 15  tcp.flags                  float64\n",
      " 16  tcp.flags.ack              float64\n",
      " 17  tcp.len                    float64\n",
      " 18  tcp.seq                    float64\n",
      " 19  udp.port                   float64\n",
      " 20  udp.stream                 float64\n",
      " 21  udp.time_delta             float64\n",
      " 22  dns.qry.name               float64\n",
      " 23  dns.qry.qu                 float64\n",
      " 24  dns.retransmission         float64\n",
      " 25  dns.retransmit_request     float64\n",
      " 26  dns.retransmit_request_in  float64\n",
      " 27  mqtt.conflag.cleansess     float64\n",
      " 28  mqtt.conflags              float64\n",
      " 29  mqtt.hdrflags              float64\n",
      " 30  mqtt.len                   float64\n",
      " 31  mqtt.msgtype               float64\n",
      " 32  mqtt.proto_len             float64\n",
      " 33  mqtt.topic_len             float64\n",
      " 34  mbtcp.len                  float64\n",
      " 35  mbtcp.trans_id             float64\n",
      " 36  mbtcp.unit_id              float64\n",
      " 37  Attack_label               int64  \n",
      " 38  Attack_type                object \n",
      " 39  http1_encoded              int64  \n",
      " 40  http2_encoded              int64  \n",
      " 41  http3_encoded              int64  \n",
      " 42  dns_encoded                int64  \n",
      " 43  mqtt1_encoded              int64  \n",
      " 44  mqtt2_encoded              int64  \n",
      " 45  mqtt3_encoded              int64  \n",
      " 46  http1_0                    float64\n",
      " 47  http1_1                    float64\n",
      " 48  http1_2                    float64\n",
      " 49  http1_3                    float64\n",
      " 50  http1_4                    float64\n",
      " 51  http1_5                    float64\n",
      " 52  http1_6                    float64\n",
      " 53  http1_7                    float64\n",
      " 54  http1_8                    float64\n",
      " 55  http2_0                    float64\n",
      " 56  http2_1                    float64\n",
      " 57  http2_2                    float64\n",
      " 58  http2_3                    float64\n",
      " 59  http2_4                    float64\n",
      " 60  http3_0                    float64\n",
      " 61  http3_1                    float64\n",
      " 62  http3_2                    float64\n",
      " 63  http3_3                    float64\n",
      " 64  http3_4                    float64\n",
      " 65  http3_5                    float64\n",
      " 66  http3_6                    float64\n",
      " 67  http3_7                    float64\n",
      " 68  http3_8                    float64\n",
      " 69  http3_9                    float64\n",
      " 70  http3_10                   float64\n",
      " 71  http3_11                   float64\n",
      " 72  http3_12                   float64\n",
      " 73  dns_0                      float64\n",
      " 74  dns_1                      float64\n",
      " 75  dns_2                      float64\n",
      " 76  dns_3                      float64\n",
      " 77  dns_4                      float64\n",
      " 78  dns_5                      float64\n",
      " 79  dns_6                      float64\n",
      " 80  dns_7                      float64\n",
      " 81  dns_8                      float64\n",
      " 82  dns_9                      float64\n",
      " 83  mqtt1_0                    float64\n",
      " 84  mqtt1_1                    float64\n",
      " 85  mqtt1_2                    float64\n",
      " 86  mqtt1_3                    float64\n",
      " 87  mqtt1_4                    float64\n",
      " 88  mqtt1_5                    float64\n",
      " 89  mqtt1_6                    float64\n",
      " 90  mqtt1_7                    float64\n",
      " 91  mqtt1_8                    float64\n",
      " 92  mqtt1_9                    float64\n",
      " 93  mqtt1_10                   float64\n",
      " 94  mqtt1_11                   float64\n",
      " 95  mqtt1_12                   float64\n",
      " 96  mqtt2_0                    float64\n",
      " 97  mqtt3_0                    float64\n",
      " 98  mqtt3_2                    float64\n",
      "dtypes: float64(90), int64(8), object(1)\n",
      "memory usage: 1.4+ GB\n"
     ]
    }
   ],
   "source": [
    "df.info()"
   ]
  },
  {
   "cell_type": "code",
   "execution_count": 33,
   "metadata": {
    "execution": {
     "iopub.execute_input": "2023-11-13T18:53:11.094513Z",
     "iopub.status.busy": "2023-11-13T18:53:11.093879Z",
     "iopub.status.idle": "2023-11-13T18:53:11.205263Z",
     "shell.execute_reply": "2023-11-13T18:53:11.204218Z",
     "shell.execute_reply.started": "2023-11-13T18:53:11.094482Z"
    },
    "trusted": true
   },
   "outputs": [
    {
     "name": "stdout",
     "output_type": "stream",
     "text": [
      "Attack_type\n",
      "Normal                   1399624\n",
      "DDoS_UDP                  121567\n",
      "DDoS_ICMP                  67939\n",
      "SQL_injection              50826\n",
      "DDoS_TCP                   50062\n",
      "Vulnerability_scanner      50026\n",
      "Password                   49933\n",
      "DDoS_HTTP                  48544\n",
      "Uploading                  36957\n",
      "Backdoor                   24026\n",
      "Port_Scanning              19977\n",
      "XSS                        15068\n",
      "Ransomware                  9689\n",
      "Fingerprinting               853\n",
      "MITM                         358\n",
      "Name: count, dtype: int64\n"
     ]
    }
   ],
   "source": [
    "print(df['Attack_type'].value_counts())"
   ]
  },
  {
   "cell_type": "code",
   "execution_count": 34,
   "metadata": {
    "execution": {
     "iopub.execute_input": "2023-11-13T18:53:11.207115Z",
     "iopub.status.busy": "2023-11-13T18:53:11.206776Z",
     "iopub.status.idle": "2023-11-13T18:54:43.176418Z",
     "shell.execute_reply": "2023-11-13T18:54:43.175521Z",
     "shell.execute_reply.started": "2023-11-13T18:53:11.207085Z"
    },
    "trusted": true
   },
   "outputs": [],
   "source": [
    "# Your DataFrame is named 'data' in this example\n",
    "df.to_csv('Edge-IIoTset_112.csv', index=False)"
   ]
  }
 ],
 "metadata": {
  "kernelspec": {
   "display_name": "Python 3",
   "language": "python",
   "name": "python3"
  },
  "language_info": {
   "codemirror_mode": {
    "name": "ipython",
    "version": 3
   },
   "file_extension": ".py",
   "mimetype": "text/x-python",
   "name": "python",
   "nbconvert_exporter": "python",
   "pygments_lexer": "ipython3",
   "version": "3.12.5"
  }
 },
 "nbformat": 4,
 "nbformat_minor": 4
}
