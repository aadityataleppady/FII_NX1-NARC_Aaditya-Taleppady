{
 "cells": [
  {
   "cell_type": "code",
   "execution_count": null,
   "metadata": {
    "_cell_guid": "b1076dfc-b9ad-4769-8c92-a6c4dae69d19",
    "_uuid": "8f2839f25d086af736a60e9eeb907d3b93b6e0e5",
    "execution": {
     "iopub.execute_input": "2023-11-13T18:50:53.523959Z",
     "iopub.status.busy": "2023-11-13T18:50:53.523371Z",
     "iopub.status.idle": "2023-11-13T18:50:53.891557Z",
     "shell.execute_reply": "2023-11-13T18:50:53.890529Z",
     "shell.execute_reply.started": "2023-11-13T18:50:53.523916Z"
    },
    "trusted": true
   },
   "outputs": [],
   "source": [
    "import pandas as pd\n",
    "import numpy as np"
   ]
  },
  {
   "cell_type": "code",
   "execution_count": null,
   "metadata": {
    "execution": {
     "iopub.execute_input": "2023-11-13T18:50:53.893690Z",
     "iopub.status.busy": "2023-11-13T18:50:53.893287Z",
     "iopub.status.idle": "2023-11-13T18:50:54.991195Z",
     "shell.execute_reply": "2023-11-13T18:50:54.990114Z",
     "shell.execute_reply.started": "2023-11-13T18:50:53.893660Z"
    },
    "trusted": true
   },
   "outputs": [],
   "source": [
    "from sklearn.utils import shuffle\n",
    "from hashlib import md5\n",
    "from sklearn.preprocessing import LabelEncoder, OneHotEncoder"
   ]
  },
  {
   "cell_type": "code",
   "execution_count": null,
   "metadata": {
    "execution": {
     "iopub.execute_input": "2023-11-13T18:50:54.993338Z",
     "iopub.status.busy": "2023-11-13T18:50:54.992702Z",
     "iopub.status.idle": "2023-11-13T18:51:39.325718Z",
     "shell.execute_reply": "2023-11-13T18:51:39.324533Z",
     "shell.execute_reply.started": "2023-11-13T18:50:54.993299Z"
    },
    "trusted": true
   },
   "outputs": [],
   "source": [
    "df = pd.read_csv(\"~\\\\kaggle\\\\input\\\\edgeiiotset-cyber-security-dataset-of-iot-iiot\\\\Edge-IIoTset dataset\\Selected dataset for ML and DL\\\\DNN-EdgeIIoT-dataset.csv\", low_memory = False)"
   ]
  },
  {
   "cell_type": "code",
   "execution_count": null,
   "metadata": {
    "execution": {
     "iopub.execute_input": "2023-11-13T18:51:39.328513Z",
     "iopub.status.busy": "2023-11-13T18:51:39.328174Z",
     "iopub.status.idle": "2023-11-13T18:51:40.093513Z",
     "shell.execute_reply": "2023-11-13T18:51:40.092754Z",
     "shell.execute_reply.started": "2023-11-13T18:51:39.328483Z"
    },
    "trusted": true
   },
   "outputs": [],
   "source": [
    "df = df.rename(columns={'http.request.method': 'http1', 'http.referer': 'http2', 'http.request.version': 'http3', 'dns.qry.name.len': 'dns', 'mqtt.conack.flags': 'mqtt1', 'mqtt.protoname': 'mqtt2', 'mqtt.topic': 'mqtt3'})"
   ]
  },
  {
   "cell_type": "code",
   "execution_count": null,
   "metadata": {},
   "outputs": [],
   "source": [
    "print(df.columns.tolist())"
   ]
  },
  {
   "cell_type": "code",
   "execution_count": null,
   "metadata": {},
   "outputs": [],
   "source": [
    "# Layer 7 protocols\n",
    "layer_7_columns = ['http1', 'http2', 'http3', 'dns', 'mqtt1', 'mqtt2', 'mqtt3']\n",
    "\n",
    "# Filter rows for application-layer data\n",
    "df_layer_7 = df[df[layer_7_columns].notna().any(axis=1)]\n",
    "\n",
    "# Layer 7 attacks\n",
    "layer_7_attacks = ['SQL_injection', 'Password', 'DDoS_HTTP', 'Uploading', 'Backdoor', 'XSS', 'Ransomware', 'MITM', 'Normal']\n",
    "\n",
    "# Filter by attack type\n",
    "df_layer_7 = df_layer_7[df_layer_7[\"Attack_type\"].isin(layer_7_attacks)]\n",
    "\n",
    "# Shuffle and reset index\n",
    "df_layer_7 = df_layer_7.reset_index(drop=True)\n",
    "df_layer_7 = shuffle(df_layer_7)\n",
    "\n",
    "df_layer_7.head()\n",
    "print(df_layer_7['Attack_type'].value_counts())\n"
   ]
  },
  {
   "cell_type": "code",
   "execution_count": null,
   "metadata": {
    "execution": {
     "iopub.execute_input": "2023-11-13T18:51:40.095315Z",
     "iopub.status.busy": "2023-11-13T18:51:40.094518Z",
     "iopub.status.idle": "2023-11-13T18:51:40.099408Z",
     "shell.execute_reply": "2023-11-13T18:51:40.098740Z",
     "shell.execute_reply.started": "2023-11-13T18:51:40.095287Z"
    },
    "trusted": true
   },
   "outputs": [],
   "source": [
    "le_http1 = LabelEncoder()\n",
    "le_http2 = LabelEncoder()\n",
    "le_http3 = LabelEncoder()\n",
    "le_dns = LabelEncoder()\n",
    "le_mqtt1 = LabelEncoder()\n",
    "le_mqtt2 = LabelEncoder()\n",
    "le_mqtt3 = LabelEncoder()"
   ]
  },
  {
   "cell_type": "code",
   "execution_count": null,
   "metadata": {
    "execution": {
     "iopub.execute_input": "2023-11-13T18:51:40.101294Z",
     "iopub.status.busy": "2023-11-13T18:51:40.100462Z",
     "iopub.status.idle": "2023-11-13T18:51:42.818542Z",
     "shell.execute_reply": "2023-11-13T18:51:42.817404Z",
     "shell.execute_reply.started": "2023-11-13T18:51:40.101255Z"
    },
    "trusted": true
   },
   "outputs": [],
   "source": [
    "df_layer_7['http1_encoded'] = le_http1.fit_transform(df_layer_7['http1'])\n",
    "df_layer_7['http2_encoded'] = le_http2.fit_transform(df_layer_7['http2'])\n",
    "df_layer_7['http3_encoded'] = le_http3.fit_transform(df_layer_7['http3'])\n",
    "df_layer_7['dns_encoded'] = le_dns.fit_transform(df_layer_7['dns'])\n",
    "df_layer_7['mqtt1_encoded'] = le_mqtt1.fit_transform(df_layer_7['mqtt1'])\n",
    "df_layer_7['mqtt2_encoded'] = le_mqtt2.fit_transform(df_layer_7['mqtt2'])\n",
    "df_layer_7['mqtt3_encoded'] = le_mqtt3.fit_transform(df_layer_7['mqtt3'])"
   ]
  },
  {
   "cell_type": "code",
   "execution_count": null,
   "metadata": {
    "execution": {
     "iopub.execute_input": "2023-11-13T18:51:42.820805Z",
     "iopub.status.busy": "2023-11-13T18:51:42.819961Z",
     "iopub.status.idle": "2023-11-13T18:51:42.826848Z",
     "shell.execute_reply": "2023-11-13T18:51:42.825575Z",
     "shell.execute_reply.started": "2023-11-13T18:51:42.820765Z"
    },
    "trusted": true
   },
   "outputs": [],
   "source": [
    "http1_ = OneHotEncoder()\n",
    "http2_ = OneHotEncoder()\n",
    "http3_ = OneHotEncoder()\n",
    "dns_ = OneHotEncoder()\n",
    "mqtt1_ = OneHotEncoder()\n",
    "mqtt2_ = OneHotEncoder()\n",
    "mqtt3_ = OneHotEncoder()"
   ]
  },
  {
   "cell_type": "code",
   "execution_count": null,
   "metadata": {
    "execution": {
     "iopub.execute_input": "2023-11-13T18:51:42.828542Z",
     "iopub.status.busy": "2023-11-13T18:51:42.828242Z",
     "iopub.status.idle": "2023-11-13T18:51:45.165227Z",
     "shell.execute_reply": "2023-11-13T18:51:45.164125Z",
     "shell.execute_reply.started": "2023-11-13T18:51:42.828505Z"
    },
    "trusted": true
   },
   "outputs": [],
   "source": [
    "X1 = http1_.fit_transform(df_layer_7.http1_encoded.values.reshape(-1,1)).toarray()\n",
    "X2 = http2_.fit_transform(df_layer_7.http2_encoded.values.reshape(-1,1)).toarray()\n",
    "X3 = http3_.fit_transform(df_layer_7.http3_encoded.values.reshape(-1,1)).toarray()\n",
    "X4 = dns_.fit_transform(df_layer_7.dns_encoded.values.reshape(-1,1)).toarray()\n",
    "X5 = mqtt1_.fit_transform(df_layer_7.mqtt1_encoded.values.reshape(-1,1)).toarray()\n",
    "X6 = mqtt2_.fit_transform(df_layer_7.mqtt2_encoded.values.reshape(-1,1)).toarray()\n",
    "X7 = mqtt3_.fit_transform(df_layer_7.mqtt3_encoded.values.reshape(-1,1)).toarray()"
   ]
  },
  {
   "cell_type": "code",
   "execution_count": null,
   "metadata": {
    "execution": {
     "iopub.execute_input": "2023-11-13T18:51:45.167030Z",
     "iopub.status.busy": "2023-11-13T18:51:45.166694Z",
     "iopub.status.idle": "2023-11-13T18:51:53.361107Z",
     "shell.execute_reply": "2023-11-13T18:51:53.359618Z",
     "shell.execute_reply.started": "2023-11-13T18:51:45.167002Z"
    },
    "trusted": true
   },
   "outputs": [],
   "source": [
    "dfOneHot = pd.DataFrame(X1, columns = [\"http1_\"+str(int(i)) for i in range(X1.shape[1])])\n",
    "df_layer_7 = pd.concat([df_layer_7, dfOneHot], axis=1)\n",
    "dfOneHot = pd.DataFrame(X2, columns = [\"http2_\"+str(int(i)) for i in range(X2.shape[1])])\n",
    "df_layer_7 = pd.concat([df_layer_7, dfOneHot], axis=1)\n",
    "dfOneHot = pd.DataFrame(X3, columns = [\"http3_\"+str(int(i)) for i in range(X3.shape[1])])\n",
    "df_layer_7 = pd.concat([df_layer_7, dfOneHot], axis=1)\n",
    "dfOneHot = pd.DataFrame(X4, columns = [\"dns_\"+str(int(i)) for i in range(X4.shape[1])])\n",
    "df_layer_7 = pd.concat([df_layer_7, dfOneHot], axis=1)\n",
    "dfOneHot = pd.DataFrame(X5, columns = [\"mqtt1_\"+str(int(i)) for i in range(X5.shape[1])])\n",
    "df_layer_7 = pd.concat([df_layer_7, dfOneHot], axis=1)\n",
    "dfOneHot = pd.DataFrame(X6, columns = [\"mqtt2_\"+str(int(i)) for i in range(X6.shape[1])])\n",
    "df_layer_7 = pd.concat([df_layer_7, dfOneHot], axis=1)\n",
    "dfOneHot = pd.DataFrame(X7, columns = [\"mqtt3_\"+str(int(i)) for i in range(X7.shape[1])])\n",
    "df_layer_7 = pd.concat([df_layer_7, dfOneHot], axis=1)"
   ]
  },
  {
   "cell_type": "code",
   "execution_count": null,
   "metadata": {
    "execution": {
     "iopub.execute_input": "2023-11-13T18:51:53.366283Z",
     "iopub.status.busy": "2023-11-13T18:51:53.365870Z",
     "iopub.status.idle": "2023-11-13T18:51:54.456727Z",
     "shell.execute_reply": "2023-11-13T18:51:54.455800Z",
     "shell.execute_reply.started": "2023-11-13T18:51:53.366250Z"
    },
    "trusted": true
   },
   "outputs": [],
   "source": [
    "df_layer_7.drop(columns=['http1','http2','http3', 'dns','mqtt1','mqtt2', 'mqtt3'], inplace = True )\n",
    "df_layer_7.shape"
   ]
  },
  {
   "cell_type": "code",
   "execution_count": null,
   "metadata": {
    "execution": {
     "iopub.execute_input": "2023-11-13T18:51:54.458380Z",
     "iopub.status.busy": "2023-11-13T18:51:54.458097Z",
     "iopub.status.idle": "2023-11-13T18:51:56.101911Z",
     "shell.execute_reply": "2023-11-13T18:51:56.100961Z",
     "shell.execute_reply.started": "2023-11-13T18:51:54.458356Z"
    },
    "trusted": true
   },
   "outputs": [],
   "source": [
    "df_layer_7.isnull().sum()"
   ]
  },
  {
   "cell_type": "code",
   "execution_count": null,
   "metadata": {
    "execution": {
     "iopub.execute_input": "2023-11-13T18:51:56.103567Z",
     "iopub.status.busy": "2023-11-13T18:51:56.103189Z",
     "iopub.status.idle": "2023-11-13T18:52:17.653017Z",
     "shell.execute_reply": "2023-11-13T18:52:17.648642Z",
     "shell.execute_reply.started": "2023-11-13T18:51:56.103538Z"
    },
    "trusted": true
   },
   "outputs": [],
   "source": [
    "df_layer_7.duplicated().sum()"
   ]
  },
  {
   "cell_type": "code",
   "execution_count": null,
   "metadata": {
    "execution": {
     "iopub.execute_input": "2023-11-13T18:52:17.657550Z",
     "iopub.status.busy": "2023-11-13T18:52:17.657054Z",
     "iopub.status.idle": "2023-11-13T18:52:34.944465Z",
     "shell.execute_reply": "2023-11-13T18:52:34.943217Z",
     "shell.execute_reply.started": "2023-11-13T18:52:17.657488Z"
    },
    "trusted": true
   },
   "outputs": [],
   "source": [
    "df_layer_7 = df_layer_7.drop_duplicates()"
   ]
  },
  {
   "cell_type": "code",
   "execution_count": null,
   "metadata": {
    "execution": {
     "iopub.execute_input": "2023-11-13T18:52:34.946073Z",
     "iopub.status.busy": "2023-11-13T18:52:34.945738Z",
     "iopub.status.idle": "2023-11-13T18:52:48.550447Z",
     "shell.execute_reply": "2023-11-13T18:52:48.549352Z",
     "shell.execute_reply.started": "2023-11-13T18:52:34.946044Z"
    },
    "trusted": true
   },
   "outputs": [],
   "source": [
    "# Function to create a hash for each column\n",
    "def hash_column(series):\n",
    "    return md5(pd.util.hash_pandas_object(series, index=False).values).hexdigest()\n",
    "\n",
    "# Function to find columns with identical hashes\n",
    "def find_identical_columns_by_hash(df):\n",
    "    hash_dict = {}\n",
    "    for col in df_layer_7.columns:\n",
    "        col_hash = hash_column(df_layer_7[col])\n",
    "        if col_hash in hash_dict:\n",
    "            hash_dict[col_hash].append(col)\n",
    "        else:\n",
    "            hash_dict[col_hash] = [col]\n",
    "\n",
    "    return [cols for cols in hash_dict.values() if len(cols) > 1]\n",
    "\n",
    "# Applying the function to the DataFrame\n",
    "identical_column_groups = find_identical_columns_by_hash(df_layer_7)\n",
    "print(\"Groups of identical columns:\", identical_column_groups)"
   ]
  },
  {
   "cell_type": "code",
   "execution_count": null,
   "metadata": {
    "execution": {
     "iopub.execute_input": "2023-11-13T18:52:48.552693Z",
     "iopub.status.busy": "2023-11-13T18:52:48.552071Z",
     "iopub.status.idle": "2023-11-13T18:52:52.869262Z",
     "shell.execute_reply": "2023-11-13T18:52:52.868198Z",
     "shell.execute_reply.started": "2023-11-13T18:52:48.552654Z"
    },
    "trusted": true
   },
   "outputs": [],
   "source": [
    "# Groups of identical columns\n",
    "identical_column_groups = [\n",
    "    ['icmp.unused', 'http.tls_port', 'dns.qry.type', 'mqtt.msg_decoded_as'],\n",
    "    ['mqtt.conflag.cleansess', 'mqtt2_2'], \n",
    "    ['mqtt.proto_len', 'mqtt.ver'], \n",
    "    ['mqtt1_1', 'mqtt2_1', 'mqtt3_1']\n",
    "]\n",
    "\n",
    "# Iterate through the list of groups and drop all but the first column\n",
    "for group in identical_column_groups:\n",
    "    # Keep the first column of the group and drop the rest\n",
    "    columns_to_drop = group[1:]  # all columns except the first one\n",
    "    df_layer_7 = df_layer_7.drop(columns_to_drop, axis=1)"
   ]
  },
  {
   "cell_type": "code",
   "execution_count": null,
   "metadata": {
    "execution": {
     "iopub.execute_input": "2023-11-13T18:52:52.871293Z",
     "iopub.status.busy": "2023-11-13T18:52:52.870798Z",
     "iopub.status.idle": "2023-11-13T18:52:52.893156Z",
     "shell.execute_reply": "2023-11-13T18:52:52.892000Z",
     "shell.execute_reply.started": "2023-11-13T18:52:52.871254Z"
    },
    "trusted": true
   },
   "outputs": [],
   "source": [
    "df_layer_7.info()"
   ]
  },
  {
   "cell_type": "code",
   "execution_count": null,
   "metadata": {
    "execution": {
     "iopub.execute_input": "2023-11-13T18:52:52.894825Z",
     "iopub.status.busy": "2023-11-13T18:52:52.894537Z",
     "iopub.status.idle": "2023-11-13T18:52:53.016011Z",
     "shell.execute_reply": "2023-11-13T18:52:53.014896Z",
     "shell.execute_reply.started": "2023-11-13T18:52:52.894800Z"
    },
    "trusted": true
   },
   "outputs": [],
   "source": [
    "print(df_layer_7['Attack_type'].value_counts())"
   ]
  },
  {
   "cell_type": "code",
   "execution_count": null,
   "metadata": {
    "execution": {
     "iopub.execute_input": "2023-11-13T18:52:53.017396Z",
     "iopub.status.busy": "2023-11-13T18:52:53.017132Z",
     "iopub.status.idle": "2023-11-13T18:52:58.492856Z",
     "shell.execute_reply": "2023-11-13T18:52:58.491816Z",
     "shell.execute_reply.started": "2023-11-13T18:52:53.017372Z"
    },
    "trusted": true
   },
   "outputs": [],
   "source": [
    "df_cat = df_layer_7.select_dtypes(exclude=[np.number])\n",
    "df_cat.describe(include='all')"
   ]
  },
  {
   "cell_type": "code",
   "execution_count": null,
   "metadata": {
    "execution": {
     "iopub.execute_input": "2023-11-13T18:52:58.494943Z",
     "iopub.status.busy": "2023-11-13T18:52:58.494543Z",
     "iopub.status.idle": "2023-11-13T18:53:10.301248Z",
     "shell.execute_reply": "2023-11-13T18:53:10.300172Z",
     "shell.execute_reply.started": "2023-11-13T18:52:58.494890Z"
    },
    "trusted": true
   },
   "outputs": [],
   "source": [
    "drop_columns = [\"frame.time\", \"ip.src_host\", \"ip.dst_host\", \"arp.dst.proto_ipv4\", \"arp.src.proto_ipv4\",\n",
    "                \"http.file_data\", \"http.request.uri.query\",\n",
    "                \"http.request.full_uri\", \"tcp.options\", \"tcp.payload\",\n",
    "                \"tcp.srcport\", \"mqtt.msg\"]\n",
    "df_layer_7.drop(drop_columns, axis = 1, inplace = True)\n",
    "df_layer_7.dropna(axis = 0, how = 'any', inplace = True)\n",
    "df_layer_7.drop_duplicates(subset = None, keep = \"first\", inplace = True)\n",
    "df_layer_7 = shuffle(df_layer_7)"
   ]
  },
  {
   "cell_type": "code",
   "execution_count": null,
   "metadata": {
    "execution": {
     "iopub.execute_input": "2023-11-13T18:53:10.303469Z",
     "iopub.status.busy": "2023-11-13T18:53:10.303079Z",
     "iopub.status.idle": "2023-11-13T18:53:10.320045Z",
     "shell.execute_reply": "2023-11-13T18:53:10.318782Z",
     "shell.execute_reply.started": "2023-11-13T18:53:10.303431Z"
    },
    "trusted": true
   },
   "outputs": [],
   "source": [
    "df_layer_7.info()"
   ]
  },
  {
   "cell_type": "code",
   "execution_count": null,
   "metadata": {
    "execution": {
     "iopub.execute_input": "2023-11-13T18:53:10.321688Z",
     "iopub.status.busy": "2023-11-13T18:53:10.321388Z",
     "iopub.status.idle": "2023-11-13T18:53:10.430725Z",
     "shell.execute_reply": "2023-11-13T18:53:10.429679Z",
     "shell.execute_reply.started": "2023-11-13T18:53:10.321662Z"
    },
    "trusted": true
   },
   "outputs": [],
   "source": [
    "print(df_layer_7['Attack_type'].value_counts())"
   ]
  },
  {
   "cell_type": "code",
   "execution_count": null,
   "metadata": {
    "execution": {
     "iopub.execute_input": "2023-11-13T18:53:10.432341Z",
     "iopub.status.busy": "2023-11-13T18:53:10.432060Z",
     "iopub.status.idle": "2023-11-13T18:53:11.076552Z",
     "shell.execute_reply": "2023-11-13T18:53:11.075415Z",
     "shell.execute_reply.started": "2023-11-13T18:53:10.432317Z"
    },
    "trusted": true
   },
   "outputs": [],
   "source": [
    "columns_to_drop = ['icmp.unused']\n",
    "df_layer_7 = df_layer_7.drop(columns=columns_to_drop)"
   ]
  },
  {
   "cell_type": "code",
   "execution_count": null,
   "metadata": {
    "execution": {
     "iopub.execute_input": "2023-11-13T18:53:11.078462Z",
     "iopub.status.busy": "2023-11-13T18:53:11.078100Z",
     "iopub.status.idle": "2023-11-13T18:53:11.092619Z",
     "shell.execute_reply": "2023-11-13T18:53:11.091563Z",
     "shell.execute_reply.started": "2023-11-13T18:53:11.078428Z"
    },
    "trusted": true
   },
   "outputs": [],
   "source": [
    "df_layer_7.info()"
   ]
  },
  {
   "cell_type": "code",
   "execution_count": null,
   "metadata": {
    "execution": {
     "iopub.execute_input": "2023-11-13T18:53:11.094513Z",
     "iopub.status.busy": "2023-11-13T18:53:11.093879Z",
     "iopub.status.idle": "2023-11-13T18:53:11.205263Z",
     "shell.execute_reply": "2023-11-13T18:53:11.204218Z",
     "shell.execute_reply.started": "2023-11-13T18:53:11.094482Z"
    },
    "trusted": true
   },
   "outputs": [],
   "source": [
    "print(df_layer_7['Attack_type'].value_counts())"
   ]
  },
  {
   "cell_type": "code",
   "execution_count": null,
   "metadata": {
    "execution": {
     "iopub.execute_input": "2023-11-13T18:53:11.207115Z",
     "iopub.status.busy": "2023-11-13T18:53:11.206776Z",
     "iopub.status.idle": "2023-11-13T18:54:43.176418Z",
     "shell.execute_reply": "2023-11-13T18:54:43.175521Z",
     "shell.execute_reply.started": "2023-11-13T18:53:11.207085Z"
    },
    "trusted": true
   },
   "outputs": [],
   "source": [
    "# Your DataFrame is named 'data' in this example\n",
    "df_layer_7.to_csv('Edge-IIoTset_112.csv', index=False)"
   ]
  }
 ],
 "metadata": {
  "kernelspec": {
   "display_name": "Python 3",
   "language": "python",
   "name": "python3"
  },
  "language_info": {
   "codemirror_mode": {
    "name": "ipython",
    "version": 3
   },
   "file_extension": ".py",
   "mimetype": "text/x-python",
   "name": "python",
   "nbconvert_exporter": "python",
   "pygments_lexer": "ipython3",
   "version": "3.12.5"
  }
 },
 "nbformat": 4,
 "nbformat_minor": 4
}
