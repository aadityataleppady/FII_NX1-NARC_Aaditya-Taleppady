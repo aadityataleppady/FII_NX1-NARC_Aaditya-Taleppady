{
 "cells": [
  {
   "cell_type": "code",
   "execution_count": null,
   "metadata": {
    "_cell_guid": "b1076dfc-b9ad-4769-8c92-a6c4dae69d19",
    "_uuid": "8f2839f25d086af736a60e9eeb907d3b93b6e0e5",
    "execution": {
     "iopub.execute_input": "2023-11-15T09:52:27.783130Z",
     "iopub.status.busy": "2023-11-15T09:52:27.782029Z",
     "iopub.status.idle": "2023-11-15T09:52:28.990416Z",
     "shell.execute_reply": "2023-11-15T09:52:28.989464Z",
     "shell.execute_reply.started": "2023-11-15T09:52:27.783085Z"
    },
    "trusted": true
   },
   "outputs": [],
   "source": [
    "import pandas as pd\n",
    "import numpy as np\n",
    "import time\n",
    "import matplotlib.pyplot as plt\n",
    "import seaborn as sns"
   ]
  },
  {
   "cell_type": "code",
   "execution_count": null,
   "metadata": {
    "execution": {
     "iopub.execute_input": "2023-11-15T09:52:28.993667Z",
     "iopub.status.busy": "2023-11-15T09:52:28.992629Z",
     "iopub.status.idle": "2023-11-15T09:52:39.975216Z",
     "shell.execute_reply": "2023-11-15T09:52:39.974213Z",
     "shell.execute_reply.started": "2023-11-15T09:52:28.993630Z"
    },
    "trusted": true
   },
   "outputs": [],
   "source": [
    "from sklearn.feature_selection import SelectKBest, chi2\n",
    "from sklearn.model_selection import train_test_split\n",
    "from sklearn.preprocessing import StandardScaler\n",
    "from keras.models import Sequential, Model\n",
    "from keras.layers import Dense, Dropout, Conv1D, MaxPooling1D, Flatten, LSTM, GRU, Bidirectional, Average, Input\n",
    "from tensorflow.keras.optimizers import Adam\n",
    "from sklearn.metrics import classification_report\n",
    "from sklearn.metrics import confusion_matrix\n",
    "from tensorflow.keras.utils import plot_model"
   ]
  },
  {
   "cell_type": "code",
   "execution_count": null,
   "metadata": {
    "execution": {
     "iopub.execute_input": "2023-11-15T09:52:39.977111Z",
     "iopub.status.busy": "2023-11-15T09:52:39.976418Z",
     "iopub.status.idle": "2023-11-15T09:53:20.624885Z",
     "shell.execute_reply": "2023-11-15T09:53:20.623985Z",
     "shell.execute_reply.started": "2023-11-15T09:52:39.977075Z"
    },
    "trusted": true
   },
   "outputs": [],
   "source": [
    "df = pd.read_csv(\"Edge-IIoTset_112.csv\", low_memory = False)"
   ]
  },
  {
   "cell_type": "code",
   "execution_count": null,
   "metadata": {
    "execution": {
     "iopub.execute_input": "2023-11-15T09:53:20.626343Z",
     "iopub.status.busy": "2023-11-15T09:53:20.626049Z",
     "iopub.status.idle": "2023-11-15T09:53:20.655809Z",
     "shell.execute_reply": "2023-11-15T09:53:20.654915Z",
     "shell.execute_reply.started": "2023-11-15T09:53:20.626318Z"
    },
    "trusted": true
   },
   "outputs": [],
   "source": [
    "df.info()"
   ]
  },
  {
   "cell_type": "code",
   "execution_count": null,
   "metadata": {
    "execution": {
     "iopub.execute_input": "2023-11-15T09:53:20.659817Z",
     "iopub.status.busy": "2023-11-15T09:53:20.659110Z",
     "iopub.status.idle": "2023-11-15T09:53:33.228528Z",
     "shell.execute_reply": "2023-11-15T09:53:33.227511Z",
     "shell.execute_reply.started": "2023-11-15T09:53:20.659783Z"
    },
    "trusted": true
   },
   "outputs": [],
   "source": [
    "df['Attack_type'] = df['Attack_type'].str.replace('DDoS_HTTP', 'DDoS')\n",
    "\n",
    "df['Attack_type'] = df['Attack_type'].str.replace('MITM', 'MITM')\n",
    "\n",
    "df['Attack_type'] = df['Attack_type'].str.replace('XSS', 'Injection')\n",
    "df['Attack_type'] = df['Attack_type'].str.replace('SQL_injection', 'Injection')\n",
    "df['Attack_type'] = df['Attack_type'].str.replace('Uploading', 'Injection')\n",
    "\n",
    "df['Attack_type'] = df['Attack_type'].str.replace('Backdoor', 'Malware')\n",
    "df['Attack_type'] = df['Attack_type'].str.replace('Password', 'Malware')\n",
    "df['Attack_type'] = df['Attack_type'].str.replace('Ransomware', 'Malware')"
   ]
  },
  {
   "cell_type": "code",
   "execution_count": null,
   "metadata": {
    "execution": {
     "iopub.execute_input": "2023-11-15T09:53:33.230657Z",
     "iopub.status.busy": "2023-11-15T09:53:33.230269Z",
     "iopub.status.idle": "2023-11-15T09:53:33.478763Z",
     "shell.execute_reply": "2023-11-15T09:53:33.477751Z",
     "shell.execute_reply.started": "2023-11-15T09:53:33.230622Z"
    },
    "trusted": true
   },
   "outputs": [],
   "source": [
    "print(df['Attack_type'].value_counts())"
   ]
  },
  {
   "cell_type": "code",
   "execution_count": null,
   "metadata": {
    "execution": {
     "iopub.execute_input": "2023-11-15T09:53:33.480592Z",
     "iopub.status.busy": "2023-11-15T09:53:33.480266Z",
     "iopub.status.idle": "2023-11-15T09:53:33.710482Z",
     "shell.execute_reply": "2023-11-15T09:53:33.709473Z",
     "shell.execute_reply.started": "2023-11-15T09:53:33.480567Z"
    },
    "trusted": true
   },
   "outputs": [],
   "source": [
    "# Creating a dictionary of Types\n",
    "attacks = {'Normal':0, 'DDoS':1, 'Injection':2, 'MITM':3, 'Malware':4}\n",
    "df['Attack_type'] = df['Attack_type'].map(attacks)"
   ]
  },
  {
   "cell_type": "code",
   "execution_count": null,
   "metadata": {
    "execution": {
     "iopub.execute_input": "2023-11-15T09:53:33.712301Z",
     "iopub.status.busy": "2023-11-15T09:53:33.711946Z",
     "iopub.status.idle": "2023-11-15T09:53:34.248281Z",
     "shell.execute_reply": "2023-11-15T09:53:34.247407Z",
     "shell.execute_reply.started": "2023-11-15T09:53:33.712269Z"
    },
    "trusted": true
   },
   "outputs": [],
   "source": [
    "X = df.drop(columns=['Attack_label', 'Attack_type'])\n",
    "y = df['Attack_type']"
   ]
  },
  {
   "cell_type": "code",
   "execution_count": null,
   "metadata": {
    "execution": {
     "iopub.execute_input": "2023-11-15T09:53:34.250042Z",
     "iopub.status.busy": "2023-11-15T09:53:34.249618Z",
     "iopub.status.idle": "2023-11-15T09:53:37.678788Z",
     "shell.execute_reply": "2023-11-15T09:53:37.678000Z",
     "shell.execute_reply.started": "2023-11-15T09:53:34.250007Z"
    },
    "trusted": true
   },
   "outputs": [],
   "source": [
    "# Apply the Chi-Squared test\n",
    "X = X.select_dtypes(include=[np.number])\n",
    "chi_selector = SelectKBest(chi2, k='all')  # Set k to the desired number of features\n",
    "X_kbest = chi_selector.fit_transform(X, y)"
   ]
  },
  {
   "cell_type": "code",
   "execution_count": null,
   "metadata": {
    "execution": {
     "iopub.execute_input": "2023-11-15T09:53:37.680155Z",
     "iopub.status.busy": "2023-11-15T09:53:37.679873Z",
     "iopub.status.idle": "2023-11-15T09:53:37.782022Z",
     "shell.execute_reply": "2023-11-15T09:53:37.781158Z",
     "shell.execute_reply.started": "2023-11-15T09:53:37.680130Z"
    },
    "trusted": true
   },
   "outputs": [],
   "source": [
    "# Get the scores for each feature\n",
    "chi_scores = chi_selector.scores_\n",
    "\n",
    "# Combine scores with feature names\n",
    "chi_scores = pd.DataFrame({'feature': X.columns, 'score': chi_scores})\n",
    "\n",
    "# Sort the features by their scores\n",
    "chi_scores = chi_scores.sort_values(by='score', ascending=False)\n",
    "\n",
    "print(chi_scores)"
   ]
  },
  {
   "cell_type": "code",
   "execution_count": null,
   "metadata": {
    "execution": {
     "iopub.execute_input": "2023-11-15T09:53:37.783858Z",
     "iopub.status.busy": "2023-11-15T09:53:37.783449Z",
     "iopub.status.idle": "2023-11-15T09:53:37.788410Z",
     "shell.execute_reply": "2023-11-15T09:53:37.787465Z",
     "shell.execute_reply.started": "2023-11-15T09:53:37.783830Z"
    },
    "trusted": true
   },
   "outputs": [],
   "source": [
    "selected_features = chi_scores['feature'].tolist()[:79]  # Select top k features"
   ]
  },
  {
   "cell_type": "code",
   "execution_count": null,
   "metadata": {
    "execution": {
     "iopub.execute_input": "2023-11-15T09:53:37.789883Z",
     "iopub.status.busy": "2023-11-15T09:53:37.789589Z",
     "iopub.status.idle": "2023-11-15T09:53:41.184554Z",
     "shell.execute_reply": "2023-11-15T09:53:41.183700Z",
     "shell.execute_reply.started": "2023-11-15T09:53:37.789852Z"
    },
    "trusted": true
   },
   "outputs": [],
   "source": [
    "# Split the data into train (80%) and test (20%) sets\n",
    "X_train, X_test, y_train, y_test = train_test_split(X[selected_features], y, test_size=0.2, random_state=42)\n",
    "\n",
    "# Split the training data further into train (80%) and validation (20%) sets\n",
    "X_train, X_val, y_train, y_val = train_test_split(X_train, y_train, test_size=0.125, random_state=42)"
   ]
  },
  {
   "cell_type": "code",
   "execution_count": null,
   "metadata": {
    "execution": {
     "iopub.execute_input": "2023-11-15T09:53:41.185956Z",
     "iopub.status.busy": "2023-11-15T09:53:41.185670Z",
     "iopub.status.idle": "2023-11-15T09:53:41.191152Z",
     "shell.execute_reply": "2023-11-15T09:53:41.190212Z",
     "shell.execute_reply.started": "2023-11-15T09:53:41.185931Z"
    },
    "trusted": true
   },
   "outputs": [],
   "source": [
    "print(\"X_train shape:\", X_train.shape)\n",
    "print(\"X_val shape:\", X_val.shape)\n",
    "print(\"X_test shape:\", X_test.shape)"
   ]
  },
  {
   "cell_type": "code",
   "execution_count": null,
   "metadata": {
    "execution": {
     "iopub.execute_input": "2023-11-15T09:53:41.195018Z",
     "iopub.status.busy": "2023-11-15T09:53:41.194718Z",
     "iopub.status.idle": "2023-11-15T09:53:43.537842Z",
     "shell.execute_reply": "2023-11-15T09:53:43.536862Z",
     "shell.execute_reply.started": "2023-11-15T09:53:41.194989Z"
    },
    "trusted": true
   },
   "outputs": [],
   "source": [
    "scaler = StandardScaler().fit(X_train)\n",
    "X_train = scaler.transform(X_train)\n",
    "X_val = scaler.transform(X_val)\n",
    "X_test = scaler.transform(X_test)"
   ]
  },
  {
   "cell_type": "code",
   "execution_count": null,
   "metadata": {},
   "outputs": [],
   "source": [
    "def cnn_lstm_gru_model(input_shape, num_classes):\n",
    "    \n",
    "    model = Sequential([\n",
    "        Conv1D(filters=32, kernel_size=3, activation='relu', input_shape=input_shape),        \n",
    "        MaxPooling1D(pool_size=2),\n",
    "        \n",
    "        Conv1D(filters=64, kernel_size=3, activation='relu'),\n",
    "        MaxPooling1D(pool_size=2),\n",
    "        \n",
    "        LSTM(64, return_sequences=True),\n",
    "        GRU(64, return_sequences=False),\n",
    "        \n",
    "        Flatten(),\n",
    "        \n",
    "        Dense(128, activation='relu'),\n",
    "        Dropout(0.5),\n",
    "        Dense(num_classes, activation='softmax')\n",
    "    ])\n",
    "\n",
    "    model.compile(optimizer='adam', loss='sparse_categorical_crossentropy', metrics=['accuracy'])\n",
    "    return model"
   ]
  },
  {
   "cell_type": "code",
   "execution_count": null,
   "metadata": {},
   "outputs": [],
   "source": [
    "input_shape = (X_train.shape[1], 1)\n",
    "num_classes = 5\n",
    "model_cnn_lstm_gru = cnn_lstm_gru_model(input_shape, num_classes)\n",
    "model_cnn_lstm_gru.summary()\n",
    "plot_model(model_cnn_lstm_gru)"
   ]
  },
  {
   "cell_type": "code",
   "execution_count": null,
   "metadata": {},
   "outputs": [],
   "source": [
    "train_start_time = time.time()\n",
    "# Train the model\n",
    "history_cnn_lstm_gru = model_cnn_lstm_gru.fit(X_train, y_train, validation_data=(X_val, y_val), epochs=50, batch_size=32)\n",
    "# Record the ending time\n",
    "train_end_time = time.time()\n",
    "\n",
    "# Record the starting time for testing\n",
    "test_start_time = time.time()\n",
    "# Evaluate the model\n",
    "loss, accuracy = model_cnn_lstm_gru.evaluate(X_test, y_test, batch_size=32)\n",
    "# Record the ending time for testing\n",
    "test_end_time = time.time()\n",
    "\n",
    "print(f'Test Loss: {loss:.4f}')\n",
    "print(f'Test Accuracy: {accuracy:.4f}')\n",
    "\n",
    "# Calculate and print the training time\n",
    "train_time = train_end_time - train_start_time\n",
    "print(f\"Training time: {train_time:.2f} seconds\")\n",
    "\n",
    "# Calculate and print the testing time\n",
    "test_time = test_end_time - test_start_time\n",
    "print(f\"Testing time: {test_time:.2f} seconds\")"
   ]
  },
  {
   "cell_type": "code",
   "execution_count": null,
   "metadata": {
    "execution": {
     "iopub.execute_input": "2023-11-15T09:53:43.539890Z",
     "iopub.status.busy": "2023-11-15T09:53:43.539160Z",
     "iopub.status.idle": "2023-11-15T09:53:43.547273Z",
     "shell.execute_reply": "2023-11-15T09:53:43.546430Z",
     "shell.execute_reply.started": "2023-11-15T09:53:43.539852Z"
    },
    "trusted": true
   },
   "outputs": [],
   "source": [
    "def cnn_lstm_bigru_model(input_shape, num_classes):\n",
    "    \n",
    "    model = Sequential([\n",
    "        Conv1D(filters=32, kernel_size=3, activation='relu', input_shape=input_shape),        \n",
    "        MaxPooling1D(pool_size=2),\n",
    "        \n",
    "        Conv1D(filters=64, kernel_size=3, activation='relu'),\n",
    "        MaxPooling1D(pool_size=2),\n",
    "        \n",
    "        LSTM(64, return_sequences=True),\n",
    "        Bidirectional(GRU(64, return_sequences=False)),\n",
    "        \n",
    "        Dense(128, activation='relu'),\n",
    "        Dropout(0.5),\n",
    "        Dense(num_classes, activation='softmax')\n",
    "    ])\n",
    "\n",
    "    model.compile(optimizer='adam', loss='sparse_categorical_crossentropy', metrics=['accuracy'])\n",
    "    return model"
   ]
  },
  {
   "cell_type": "code",
   "execution_count": null,
   "metadata": {
    "execution": {
     "iopub.execute_input": "2023-11-15T09:53:43.548844Z",
     "iopub.status.busy": "2023-11-15T09:53:43.548536Z",
     "iopub.status.idle": "2023-11-15T09:53:46.713682Z",
     "shell.execute_reply": "2023-11-15T09:53:46.712727Z",
     "shell.execute_reply.started": "2023-11-15T09:53:43.548819Z"
    },
    "trusted": true
   },
   "outputs": [],
   "source": [
    "input_shape = (X_train.shape[1], 1)\n",
    "num_classes = 5\n",
    "model_cnn_lstm_bigru = cnn_lstm_bigru_model(input_shape, num_classes)\n",
    "model_cnn_lstm_bigru.summary()\n",
    "plot_model(model_cnn_lstm_bigru)"
   ]
  },
  {
   "cell_type": "code",
   "execution_count": null,
   "metadata": {},
   "outputs": [],
   "source": [
    "train_start_time = time.time()\n",
    "# Train the model\n",
    "history_cnn_lstm_bigru = model_cnn_lstm_bigru.fit(X_train, y_train, validation_data=(X_val, y_val), epochs=50, batch_size=32)\n",
    "# Record the ending time\n",
    "train_end_time = time.time()\n",
    "\n",
    "# Record the starting time for testing\n",
    "test_start_time = time.time()\n",
    "# Evaluate the model\n",
    "loss, accuracy = model_cnn_lstm_bigru.evaluate(X_test, y_test, batch_size=32)\n",
    "# Record the ending time for testing\n",
    "test_end_time = time.time()\n",
    "\n",
    "print(f'Test Loss: {loss:.4f}')\n",
    "print(f'Test Accuracy: {accuracy:.4f}')\n",
    "\n",
    "# Calculate and print the training time\n",
    "train_time = train_end_time - train_start_time\n",
    "print(f\"Training time: {train_time:.2f} seconds\")\n",
    "\n",
    "# Calculate and print the testing time\n",
    "test_time = test_end_time - test_start_time\n",
    "print(f\"Testing time: {test_time:.2f} seconds\")"
   ]
  },
  {
   "cell_type": "code",
   "execution_count": null,
   "metadata": {},
   "outputs": [],
   "source": [
    "def cnn_lstm_model(input_shape, num_classes):\n",
    "    \n",
    "    model = Sequential([\n",
    "        Conv1D(filters=32, kernel_size=3, activation='relu', input_shape=input_shape),        \n",
    "        MaxPooling1D(pool_size=2),\n",
    "        \n",
    "        Conv1D(filters=64, kernel_size=3, activation='relu'),\n",
    "        MaxPooling1D(pool_size=2),\n",
    "        \n",
    "        LSTM(64, return_sequences=False),\n",
    "        \n",
    "        Dense(128, activation='relu'),\n",
    "        Dropout(0.5),\n",
    "        Dense(num_classes, activation='softmax')\n",
    "    ])\n",
    "\n",
    "    model.compile(optimizer='adam', loss='sparse_categorical_crossentropy', metrics=['accuracy'])\n",
    "    return model"
   ]
  },
  {
   "cell_type": "code",
   "execution_count": null,
   "metadata": {},
   "outputs": [],
   "source": [
    "input_shape = (X_train.shape[1], 1)\n",
    "num_classes = 5\n",
    "model_cnn_lstm = cnn_lstm_model(input_shape, num_classes)\n",
    "model_cnn_lstm.summary()\n",
    "plot_model(model_cnn_lstm)"
   ]
  },
  {
   "cell_type": "code",
   "execution_count": null,
   "metadata": {
    "execution": {
     "iopub.execute_input": "2023-11-15T09:53:46.715246Z",
     "iopub.status.busy": "2023-11-15T09:53:46.714961Z",
     "iopub.status.idle": "2023-11-15T14:01:12.559408Z",
     "shell.execute_reply": "2023-11-15T14:01:12.558588Z",
     "shell.execute_reply.started": "2023-11-15T09:53:46.715220Z"
    },
    "trusted": true
   },
   "outputs": [],
   "source": [
    "train_start_time = time.time()\n",
    "# Train the model\n",
    "history_cnn_lstm = model_cnn_lstm.fit(X_train, y_train, validation_data=(X_val, y_val), epochs=50, batch_size=32)\n",
    "# Record the ending time\n",
    "train_end_time = time.time()\n",
    "\n",
    "# Record the starting time for testing\n",
    "test_start_time = time.time()\n",
    "# Evaluate the model\n",
    "loss, accuracy = model_cnn_lstm.evaluate(X_test, y_test, batch_size=32)\n",
    "# Record the ending time for testing\n",
    "test_end_time = time.time()\n",
    "\n",
    "print(f'Test Loss: {loss:.4f}')\n",
    "print(f'Test Accuracy: {accuracy:.4f}')\n",
    "\n",
    "# Calculate and print the training time\n",
    "train_time = train_end_time - train_start_time\n",
    "print(f\"Training time: {train_time:.2f} seconds\")\n",
    "\n",
    "# Calculate and print the testing time\n",
    "test_time = test_end_time - test_start_time\n",
    "print(f\"Testing time: {test_time:.2f} seconds\")"
   ]
  },
  {
   "cell_type": "code",
   "execution_count": null,
   "metadata": {
    "execution": {
     "iopub.execute_input": "2023-11-15T14:01:12.560932Z",
     "iopub.status.busy": "2023-11-15T14:01:12.560638Z",
     "iopub.status.idle": "2023-11-15T14:01:12.882737Z",
     "shell.execute_reply": "2023-11-15T14:01:12.881925Z",
     "shell.execute_reply.started": "2023-11-15T14:01:12.560905Z"
    },
    "trusted": true
   },
   "outputs": [],
   "source": [
    "# Plot the training and validation accuracy over the epochs\n",
    "\n",
    "# CNN-LSTM-GRU\n",
    "plt.plot(history_cnn_lstm_gru.history['accuracy'])\n",
    "plt.plot(history_cnn_lstm_gru.history['val_accuracy'])\n",
    "plt.title('Model accuracy')\n",
    "plt.ylabel('Accuracy')\n",
    "plt.xlabel('Epoch')\n",
    "plt.legend(['Train', 'Validation'], loc='upper left')\n",
    "plt.show()\n",
    "\n",
    "# CNN-LSTM-BiGRU\n",
    "plt.plot(history_cnn_lstm_bigru.history['accuracy'])\n",
    "plt.plot(history_cnn_lstm_bigru.history['val_accuracy'])\n",
    "plt.title('Model accuracy')\n",
    "plt.ylabel('Accuracy')\n",
    "plt.xlabel('Epoch')\n",
    "plt.legend(['Train', 'Validation'], loc='upper left')\n",
    "plt.show()\n",
    "\n",
    "# CNN-LSTM\n",
    "plt.plot(history_cnn_lstm.history['accuracy'])\n",
    "plt.plot(history_cnn_lstm.history['val_accuracy'])\n",
    "plt.title('Model accuracy')\n",
    "plt.ylabel('Accuracy')\n",
    "plt.xlabel('Epoch')\n",
    "plt.legend(['Train', 'Validation'], loc='upper left')\n",
    "plt.show()"
   ]
  },
  {
   "cell_type": "code",
   "execution_count": null,
   "metadata": {
    "execution": {
     "iopub.execute_input": "2023-11-15T14:01:12.883933Z",
     "iopub.status.busy": "2023-11-15T14:01:12.883684Z",
     "iopub.status.idle": "2023-11-15T14:01:13.098858Z",
     "shell.execute_reply": "2023-11-15T14:01:13.098097Z",
     "shell.execute_reply.started": "2023-11-15T14:01:12.883911Z"
    },
    "trusted": true
   },
   "outputs": [],
   "source": [
    "# Plot the training and validation loss over the epochs\n",
    "\n",
    "# CNN-LSTM-GRU\n",
    "plt.plot(history_cnn_lstm_gru.history['loss'])\n",
    "plt.plot(history_cnn_lstm_gru.history['val_loss'])\n",
    "plt.title('Model loss')\n",
    "plt.ylabel('Loss')\n",
    "plt.xlabel('Epoch')\n",
    "plt.legend(['Train', 'Validation'], loc='upper left')\n",
    "plt.show()\n",
    "\n",
    "# CNN-LSTM-BiGRU\n",
    "plt.plot(history_cnn_lstm_bigru.history['loss'])\n",
    "plt.plot(history_cnn_lstm_bigru.history['val_loss'])\n",
    "plt.title('Model loss')\n",
    "plt.ylabel('Loss')\n",
    "plt.xlabel('Epoch')\n",
    "plt.legend(['Train', 'Validation'], loc='upper left')\n",
    "plt.show()\n",
    "\n",
    "# CNN-LSTM\n",
    "plt.plot(history_cnn_lstm.history['loss'])\n",
    "plt.plot(history_cnn_lstm.history['val_loss'])\n",
    "plt.title('Model loss')\n",
    "plt.ylabel('Loss')\n",
    "plt.xlabel('Epoch')\n",
    "plt.legend(['Train', 'Validation'], loc='upper left')\n",
    "plt.show()"
   ]
  },
  {
   "cell_type": "code",
   "execution_count": null,
   "metadata": {
    "execution": {
     "iopub.execute_input": "2023-11-15T14:01:13.100081Z",
     "iopub.status.busy": "2023-11-15T14:01:13.099829Z",
     "iopub.status.idle": "2023-11-15T14:01:55.557016Z",
     "shell.execute_reply": "2023-11-15T14:01:55.555972Z",
     "shell.execute_reply.started": "2023-11-15T14:01:13.100059Z"
    },
    "trusted": true
   },
   "outputs": [],
   "source": [
    "# Make predictions for each model\n",
    "y_pred_cnn_lstm_gru = model_cnn_lstm_gru.predict(np.expand_dims(X_test, axis=2))\n",
    "y_pred_cnn_lstm_bigru = model_cnn_lstm_bigru.predict(np.expand_dims(X_test, axis=2))\n",
    "y_pred_cnn_lstm = model_cnn_lstm.predict(np.expand_dims(X_test, axis=2))"
   ]
  },
  {
   "cell_type": "code",
   "execution_count": null,
   "metadata": {
    "execution": {
     "iopub.execute_input": "2023-11-15T14:01:55.559052Z",
     "iopub.status.busy": "2023-11-15T14:01:55.558665Z",
     "iopub.status.idle": "2023-11-15T14:01:56.092047Z",
     "shell.execute_reply": "2023-11-15T14:01:56.091137Z",
     "shell.execute_reply.started": "2023-11-15T14:01:55.559013Z"
    },
    "trusted": true
   },
   "outputs": [],
   "source": [
    "# CNN-LSTM-GRU-------------------------------------------------------------------------------------------------------------------------------------------\n",
    "\n",
    "\n",
    "y_pred_classes_cnn_lstm_gru = np.argmax(y_pred_cnn_lstm_gru, axis=1)\n",
    "# Inverse the 'attacks' dictionary to map back numbers to names\n",
    "inverse_attacks = {v: k for k, v in attacks.items()}\n",
    "# Generate the classification report with attack names instead of numbers\n",
    "class_report = classification_report(y_test, y_pred_classes_cnn_lstm_gru, target_names=[inverse_attacks[i] for i in range(len(inverse_attacks))])\n",
    "print(class_report)\n",
    "\n",
    "\n",
    "# CNN-LSTM-BiGRU-------------------------------------------------------------------------------------------------------------------------------------------\n",
    "\n",
    "\n",
    "y_pred_classes_cnn_lstm_bigru = np.argmax(y_pred_cnn_lstm_bigru, axis=1)\n",
    "# Inverse the 'attacks' dictionary to map back numbers to names\n",
    "inverse_attacks = {v: k for k, v in attacks.items()}\n",
    "# Generate the classification report with attack names instead of numbers\n",
    "class_report = classification_report(y_test, y_pred_classes_cnn_lstm_bigru, target_names=[inverse_attacks[i] for i in range(len(inverse_attacks))])\n",
    "print(class_report)\n",
    "\n",
    "\n",
    "# CNN-LSTM-------------------------------------------------------------------------------------------------------------------------------------------\n",
    "\n",
    "\n",
    "y_pred_classes_cnn_lstm = np.argmax(y_pred_cnn_lstm, axis=1)\n",
    "# Inverse the 'attacks' dictionary to map back numbers to names\n",
    "inverse_attacks = {v: k for k, v in attacks.items()}\n",
    "# Generate the classification report with attack names instead of numbers\n",
    "class_report = classification_report(y_test, y_pred_classes_cnn_lstm, target_names=[inverse_attacks[i] for i in range(len(inverse_attacks))])\n",
    "print(class_report)"
   ]
  },
  {
   "cell_type": "code",
   "execution_count": null,
   "metadata": {
    "execution": {
     "iopub.execute_input": "2023-11-15T14:01:56.093773Z",
     "iopub.status.busy": "2023-11-15T14:01:56.093386Z",
     "iopub.status.idle": "2023-11-15T14:01:56.522102Z",
     "shell.execute_reply": "2023-11-15T14:01:56.521189Z",
     "shell.execute_reply.started": "2023-11-15T14:01:56.093739Z"
    },
    "trusted": true
   },
   "outputs": [],
   "source": [
    "# CNN-LSTM-GRU-------------------------------------------------------------------------------------------------------------------------------------------\n",
    "\n",
    "\n",
    "# Compute the confusion matrix\n",
    "conf_mat = confusion_matrix(y_test, y_pred_classes_cnn_lstm_gru)\n",
    "# Convert the 'attacks' dictionary to a list of class names ordered by the class number\n",
    "class_names_ordered = [attack for attack, number in sorted(attacks.items(), key=lambda item: item[1])]\n",
    "# Plot the heatmap using seaborn\n",
    "plt.figure(figsize=(15, 10))\n",
    "sns.heatmap(conf_mat, annot=True, fmt=\"d\", cmap=\"Blues\", xticklabels=class_names_ordered, yticklabels=class_names_ordered)\n",
    "plt.xlabel('Predicted Labels')\n",
    "plt.ylabel('True Labels')\n",
    "plt.title('CNN-LSTM-GRU Confusion Matrix')\n",
    "plt.show()\n",
    "\n",
    "\n",
    "# CNN-LSTM-BiGRU-------------------------------------------------------------------------------------------------------------------------------------------\n",
    "\n",
    "\n",
    "# Compute the confusion matrix\n",
    "conf_mat = confusion_matrix(y_test, y_pred_classes_cnn_lstm_bigru)\n",
    "# Convert the 'attacks' dictionary to a list of class names ordered by the class number\n",
    "class_names_ordered = [attack for attack, number in sorted(attacks.items(), key=lambda item: item[1])]\n",
    "# Plot the heatmap using seaborn\n",
    "plt.figure(figsize=(15, 10))\n",
    "sns.heatmap(conf_mat, annot=True, fmt=\"d\", cmap=\"Blues\", xticklabels=class_names_ordered, yticklabels=class_names_ordered)\n",
    "plt.xlabel('Predicted Labels')\n",
    "plt.ylabel('True Labels')\n",
    "plt.title('CNN-LSTM-BiGRU Confusion Matrix')\n",
    "plt.show()\n",
    "\n",
    "\n",
    "# CNN-LSTM-------------------------------------------------------------------------------------------------------------------------------------------\n",
    "\n",
    "\n",
    "# Compute the confusion matrix\n",
    "conf_mat = confusion_matrix(y_test, y_pred_classes_cnn_lstm)\n",
    "# Convert the 'attacks' dictionary to a list of class names ordered by the class number\n",
    "class_names_ordered = [attack for attack, number in sorted(attacks.items(), key=lambda item: item[1])]\n",
    "# Plot the heatmap using seaborn\n",
    "plt.figure(figsize=(15, 10))\n",
    "sns.heatmap(conf_mat, annot=True, fmt=\"d\", cmap=\"Blues\", xticklabels=class_names_ordered, yticklabels=class_names_ordered)\n",
    "plt.xlabel('Predicted Labels')\n",
    "plt.ylabel('True Labels')\n",
    "plt.title('CNN-LSTM Confusion Matrix')\n",
    "plt.show()"
   ]
  },
  {
   "cell_type": "code",
   "execution_count": null,
   "metadata": {
    "execution": {
     "iopub.execute_input": "2023-11-15T14:01:56.523595Z",
     "iopub.status.busy": "2023-11-15T14:01:56.523277Z",
     "iopub.status.idle": "2023-11-15T14:01:57.015152Z",
     "shell.execute_reply": "2023-11-15T14:01:57.014249Z",
     "shell.execute_reply.started": "2023-11-15T14:01:56.523569Z"
    },
    "trusted": true
   },
   "outputs": [],
   "source": [
    "# CNN-LSTM-GRU-------------------------------------------------------------------------------------------------------------------------------------------\n",
    "\n",
    "\n",
    "# Compute the confusion matrix\n",
    "conf_mat = confusion_matrix(y_test, y_pred_classes_cnn_lstm_gru)\n",
    "# Normalize the confusion matrix by dividing each value by the sum of its row (i.e., the number of true instances for each label)\n",
    "conf_mat_normalized = conf_mat.astype('float') / conf_mat.sum(axis=1)[:, np.newaxis]\n",
    "# Convert the 'attacks' dictionary to a list of class names ordered by the class number\n",
    "class_names_ordered = [attack for attack, number in sorted(attacks.items(), key=lambda item: item[1])]\n",
    "# Plot the heatmap using seaborn\n",
    "plt.figure(figsize=(15, 10))\n",
    "sns.heatmap(conf_mat_normalized, annot=True, fmt=\".2%\", cmap=\"Blues\", xticklabels=class_names_ordered, yticklabels=class_names_ordered)\n",
    "plt.xlabel('Predicted Labels')\n",
    "plt.ylabel('True Labels')\n",
    "plt.title('CNN-LSTM-GRU Normalized Confusion Matrix as Percentages')\n",
    "plt.show()\n",
    "\n",
    "\n",
    "# CNN-LSTM-BiGRU------------------------------------------------------------------------------------------------------------------------------------------\n",
    "\n",
    "\n",
    "# Compute the confusion matrix\n",
    "conf_mat = confusion_matrix(y_test, y_pred_classes_cnn_lstm_bigru)\n",
    "# Normalize the confusion matrix by dividing each value by the sum of its row (i.e., the number of true instances for each label)\n",
    "conf_mat_normalized = conf_mat.astype('float') / conf_mat.sum(axis=1)[:, np.newaxis]\n",
    "# Convert the 'attacks' dictionary to a list of class names ordered by the class number\n",
    "class_names_ordered = [attack for attack, number in sorted(attacks.items(), key=lambda item: item[1])]\n",
    "# Plot the heatmap using seaborn\n",
    "plt.figure(figsize=(15, 10))\n",
    "sns.heatmap(conf_mat_normalized, annot=True, fmt=\".2%\", cmap=\"Blues\", xticklabels=class_names_ordered, yticklabels=class_names_ordered)\n",
    "plt.xlabel('Predicted Labels')\n",
    "plt.ylabel('True Labels')\n",
    "plt.title('CNN-LSTM-BiGRUNormalized Confusion Matrix as Percentages')\n",
    "plt.show()\n",
    "\n",
    "\n",
    "# CNN-LSTM------------------------------------------------------------------------------------------------------------------------------------------------\n",
    "\n",
    "\n",
    "# Compute the confusion matrix\n",
    "conf_mat = confusion_matrix(y_test, y_pred_classes_cnn_lstm)\n",
    "# Normalize the confusion matrix by dividing each value by the sum of its row (i.e., the number of true instances for each label)\n",
    "conf_mat_normalized = conf_mat.astype('float') / conf_mat.sum(axis=1)[:, np.newaxis]\n",
    "# Convert the 'attacks' dictionary to a list of class names ordered by the class number\n",
    "class_names_ordered = [attack for attack, number in sorted(attacks.items(), key=lambda item: item[1])]\n",
    "# Plot the heatmap using seaborn\n",
    "plt.figure(figsize=(15, 10))\n",
    "sns.heatmap(conf_mat_normalized, annot=True, fmt=\".2%\", cmap=\"Blues\", xticklabels=class_names_ordered, yticklabels=class_names_ordered)\n",
    "plt.xlabel('Predicted Labels')\n",
    "plt.ylabel('True Labels')\n",
    "plt.title('CNN-LSTM Normalized Confusion Matrix as Percentages')\n",
    "plt.show()"
   ]
  },
  {
   "cell_type": "code",
   "execution_count": null,
   "metadata": {},
   "outputs": [],
   "source": [
    "num_classes = 5\n",
    "\n",
    "# Get predictions for training sets\n",
    "pred_cnn_lstm_bigru_train = model_cnn_lstm_bigru.predict(np.expand_dims(X_train, axis=2))\n",
    "pred_cnn_lstm_gru_train = model_cnn_lstm_gru.predict(np.expand_dims(X_train, axis=2))\n",
    "\n",
    "# Get predictions for validation sets\n",
    "pred_cnn_lstm_bigru_val = model_cnn_lstm_bigru.predict(np.expand_dims(X_val, axis=2))\n",
    "pred_cnn_lstm_gru_val = model_cnn_lstm_gru.predict(np.expand_dims(X_val, axis=2))\n",
    "\n",
    "# Concatenate predictions for validation sets\n",
    "X_conc_val = np.concatenate([pred_cnn_lstm_bigru_val, pred_cnn_lstm_gru_val], axis=1)\n",
    "\n",
    "# Concatenate predictions for training sets\n",
    "X_conc_train = np.concatenate([pred_cnn_lstm_bigru_train, pred_cnn_lstm_gru_train], axis=1)\n",
    "\n",
    "# Concatenate predictions for test sets\n",
    "X_conc_test = np.concatenate([y_pred_cnn_lstm_bigru, y_pred_cnn_lstm_gru], axis=1)\n",
    "\n",
    "# Define the ensemble model\n",
    "ensemble_model = Sequential([\n",
    "    Dense(64, activation='relu', input_shape=(X_conc_train.shape[1],)),\n",
    "    Dropout(0.5),\n",
    "    Dense(num_classes, activation='softmax')\n",
    "])\n",
    "\n",
    "ensemble_model.compile(optimizer='adam', loss='sparse_categorical_crossentropy', metrics=['accuracy'])"
   ]
  },
  {
   "cell_type": "code",
   "execution_count": null,
   "metadata": {},
   "outputs": [],
   "source": [
    "# Train the ensemble model\n",
    "\n",
    "train_start_time = time.time()\n",
    "\n",
    "ensemble_model.fit(X_conc_train, y_train, validation_data=(X_conc_val, y_val), epochs=50, batch_size=32)\n",
    "\n",
    "# Record the ending time\n",
    "train_end_time = time.time()\n",
    "\n",
    "# Record the starting time for testing\n",
    "test_start_time = time.time()\n",
    "\n",
    "# Evaluate the model\n",
    "loss, accuracy = ensemble_model.evaluate(X_conc_test, y_test, batch_size=32)\n",
    "# Record the ending time for testing\n",
    "test_end_time = time.time()\n",
    "\n",
    "print(f'Test Loss: {loss:.4f}')\n",
    "print(f'Test Accuracy: {accuracy:.4f}')\n",
    "\n",
    "# Calculate and print the training time\n",
    "train_time = train_end_time - train_start_time\n",
    "print(f\"Training time: {train_time:.2f} seconds\")\n",
    "\n",
    "# Calculate and print the testing time\n",
    "test_time = test_end_time - test_start_time\n",
    "print(f\"Testing time: {test_time:.2f} seconds\")"
   ]
  },
  {
   "cell_type": "code",
   "execution_count": null,
   "metadata": {},
   "outputs": [],
   "source": [
    "# Get predicted class labels\n",
    "final_pred = np.argmax(ensemble_model.predict(X_conc_test), axis=1)\n",
    "\n",
    "# Print the classification report\n",
    "print(\"Classification Report:\")\n",
    "print(classification_report(y_test, final_pred))\n",
    "\n",
    "# confusion matrix\n",
    "conf_mat = confusion_matrix(y_test, final_pred)\n",
    "\n",
    "# Normalize the confusion matrix by dividing each value by the sum of its row (i.e., the number of true instances for each label)\n",
    "conf_mat_normalized = conf_mat.astype('float') / conf_mat.sum(axis=1)[:, np.newaxis]\n",
    "\n",
    "# Convert the 'attacks' dictionary to a list of class names ordered by the class number\n",
    "class_names_ordered = [attack for attack, number in sorted(attacks.items(), key=lambda item: item[1])]\n",
    "\n",
    "# Plot the heatmap using seaborn\n",
    "plt.figure(figsize=(15, 10))\n",
    "sns.heatmap(conf_mat_normalized, annot=True, fmt=\".2%\", cmap=\"Blues\", xticklabels=class_names_ordered, yticklabels=class_names_ordered)\n",
    "plt.xlabel('Predicted Labels')\n",
    "plt.ylabel('True Labels')\n",
    "plt.title('Ensemble Model Normalized Confusion Matrix as Percentages')\n",
    "plt.show()"
   ]
  }
 ],
 "metadata": {
  "kaggle": {
   "accelerator": "none",
   "dataSources": [
    {
     "datasetId": 3920517,
     "sourceId": 6960620,
     "sourceType": "datasetVersion"
    }
   ],
   "dockerImageVersionId": 30579,
   "isGpuEnabled": false,
   "isInternetEnabled": true,
   "language": "python",
   "sourceType": "notebook"
  },
  "kernelspec": {
   "display_name": "Python 3",
   "language": "python",
   "name": "python3"
  },
  "language_info": {
   "codemirror_mode": {
    "name": "ipython",
    "version": 3
   },
   "file_extension": ".py",
   "mimetype": "text/x-python",
   "name": "python",
   "nbconvert_exporter": "python",
   "pygments_lexer": "ipython3",
   "version": "3.12.5"
  }
 },
 "nbformat": 4,
 "nbformat_minor": 4
}
