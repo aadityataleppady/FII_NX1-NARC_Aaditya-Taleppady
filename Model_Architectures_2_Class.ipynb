{
 "cells": [
  {
   "cell_type": "code",
   "execution_count": null,
   "metadata": {
    "_cell_guid": "b1076dfc-b9ad-4769-8c92-a6c4dae69d19",
    "_uuid": "8f2839f25d086af736a60e9eeb907d3b93b6e0e5",
    "execution": {
     "iopub.execute_input": "2023-11-28T07:48:17.132910Z",
     "iopub.status.busy": "2023-11-28T07:48:17.131881Z",
     "iopub.status.idle": "2023-11-28T07:48:17.137734Z",
     "shell.execute_reply": "2023-11-28T07:48:17.136649Z",
     "shell.execute_reply.started": "2023-11-28T07:48:17.132876Z"
    },
    "trusted": true
   },
   "outputs": [],
   "source": [
    "import pandas as pd\n",
    "import numpy as np\n",
    "import time\n",
    "import matplotlib.pyplot as plt\n",
    "import seaborn as sns"
   ]
  },
  {
   "cell_type": "code",
   "execution_count": null,
   "metadata": {
    "execution": {
     "iopub.execute_input": "2023-11-28T07:48:17.140564Z",
     "iopub.status.busy": "2023-11-28T07:48:17.140035Z",
     "iopub.status.idle": "2023-11-28T07:48:17.147895Z",
     "shell.execute_reply": "2023-11-28T07:48:17.146968Z",
     "shell.execute_reply.started": "2023-11-28T07:48:17.140536Z"
    },
    "trusted": true
   },
   "outputs": [],
   "source": [
    "from sklearn.feature_selection import SelectKBest, chi2\n",
    "from sklearn.model_selection import train_test_split\n",
    "from sklearn.preprocessing import StandardScaler\n",
    "from keras.models import Sequential, Model\n",
    "from keras.layers import Dense, Dropout, Conv1D, MaxPooling1D, Flatten, LSTM, GRU, Bidirectional, Average, Input\n",
    "from tensorflow.keras.optimizers import Adam\n",
    "from sklearn.metrics import classification_report\n",
    "from sklearn.metrics import confusion_matrix\n",
    "from tensorflow.keras.utils import plot_model"
   ]
  },
  {
   "cell_type": "code",
   "execution_count": null,
   "metadata": {
    "execution": {
     "iopub.execute_input": "2023-11-28T07:48:17.149595Z",
     "iopub.status.busy": "2023-11-28T07:48:17.149261Z",
     "iopub.status.idle": "2023-11-28T07:48:54.883519Z",
     "shell.execute_reply": "2023-11-28T07:48:54.882470Z",
     "shell.execute_reply.started": "2023-11-28T07:48:17.149570Z"
    },
    "trusted": true
   },
   "outputs": [],
   "source": [
    "df = pd.read_csv(\"Edge-IIoTset_112.csv\", low_memory = False)"
   ]
  },
  {
   "cell_type": "code",
   "execution_count": null,
   "metadata": {
    "execution": {
     "iopub.execute_input": "2023-11-28T07:48:54.885083Z",
     "iopub.status.busy": "2023-11-28T07:48:54.884777Z",
     "iopub.status.idle": "2023-11-28T07:48:54.901384Z",
     "shell.execute_reply": "2023-11-28T07:48:54.900466Z",
     "shell.execute_reply.started": "2023-11-28T07:48:54.885058Z"
    },
    "trusted": true
   },
   "outputs": [],
   "source": [
    "df.info()"
   ]
  },
  {
   "cell_type": "code",
   "execution_count": null,
   "metadata": {
    "execution": {
     "iopub.execute_input": "2023-11-28T07:48:54.904703Z",
     "iopub.status.busy": "2023-11-28T07:48:54.904393Z",
     "iopub.status.idle": "2023-11-28T07:48:55.126954Z",
     "shell.execute_reply": "2023-11-28T07:48:55.125831Z",
     "shell.execute_reply.started": "2023-11-28T07:48:54.904671Z"
    },
    "trusted": true
   },
   "outputs": [],
   "source": [
    "print(df['Attack_type'].value_counts())"
   ]
  },
  {
   "cell_type": "code",
   "execution_count": null,
   "metadata": {
    "execution": {
     "iopub.execute_input": "2023-11-28T07:48:55.128641Z",
     "iopub.status.busy": "2023-11-28T07:48:55.128302Z",
     "iopub.status.idle": "2023-11-28T07:48:55.330235Z",
     "shell.execute_reply": "2023-11-28T07:48:55.329379Z",
     "shell.execute_reply.started": "2023-11-28T07:48:55.128614Z"
    },
    "trusted": true
   },
   "outputs": [],
   "source": [
    "# Creating a dictionary of Types\n",
    "attacks = {'Normal': 0,'MITM': 1, 'Uploading': 2, 'Ransomware': 3, 'SQL_injection': 4,\n",
    "       'DDoS_HTTP': 5, 'Password': 6, 'Backdoor': 7, 'XSS': 8}\n",
    "df['Attack_type'] = df['Attack_type'].map(attacks)"
   ]
  },
  {
   "cell_type": "code",
   "execution_count": null,
   "metadata": {
    "execution": {
     "iopub.execute_input": "2023-11-28T07:48:55.331811Z",
     "iopub.status.busy": "2023-11-28T07:48:55.331488Z",
     "iopub.status.idle": "2023-11-28T07:48:55.875076Z",
     "shell.execute_reply": "2023-11-28T07:48:55.873973Z",
     "shell.execute_reply.started": "2023-11-28T07:48:55.331784Z"
    },
    "trusted": true
   },
   "outputs": [],
   "source": [
    "X = df.drop(columns=['Attack_label', 'Attack_type'])\n",
    "y = df['Attack_label']"
   ]
  },
  {
   "cell_type": "code",
   "execution_count": null,
   "metadata": {
    "execution": {
     "iopub.execute_input": "2023-11-28T07:48:55.876583Z",
     "iopub.status.busy": "2023-11-28T07:48:55.876282Z",
     "iopub.status.idle": "2023-11-28T07:48:58.770538Z",
     "shell.execute_reply": "2023-11-28T07:48:58.769495Z",
     "shell.execute_reply.started": "2023-11-28T07:48:55.876557Z"
    },
    "trusted": true
   },
   "outputs": [],
   "source": [
    "X = X.select_dtypes(include=[np.number])\n",
    "# Apply the Chi-Squared test\n",
    "chi_selector = SelectKBest(chi2, k='all')  # Set k to the desired number of features\n",
    "X_kbest = chi_selector.fit_transform(X, y)"
   ]
  },
  {
   "cell_type": "code",
   "execution_count": null,
   "metadata": {
    "execution": {
     "iopub.execute_input": "2023-11-28T07:48:58.772104Z",
     "iopub.status.busy": "2023-11-28T07:48:58.771759Z",
     "iopub.status.idle": "2023-11-28T07:48:58.782467Z",
     "shell.execute_reply": "2023-11-28T07:48:58.781469Z",
     "shell.execute_reply.started": "2023-11-28T07:48:58.772076Z"
    },
    "trusted": true
   },
   "outputs": [],
   "source": [
    "# Get the scores for each feature\n",
    "chi_scores = chi_selector.scores_\n",
    "\n",
    "# Combine scores with feature names\n",
    "chi_scores = pd.DataFrame({'feature': X.columns, 'score': chi_scores})\n",
    "\n",
    "# Sort the features by their scores\n",
    "chi_scores = chi_scores.sort_values(by='score', ascending=False)\n",
    "\n",
    "print(chi_scores)\n",
    "print(len(chi_scores))"
   ]
  },
  {
   "cell_type": "code",
   "execution_count": null,
   "metadata": {
    "execution": {
     "iopub.execute_input": "2023-11-28T07:48:58.784138Z",
     "iopub.status.busy": "2023-11-28T07:48:58.783852Z",
     "iopub.status.idle": "2023-11-28T07:48:58.796267Z",
     "shell.execute_reply": "2023-11-28T07:48:58.795366Z",
     "shell.execute_reply.started": "2023-11-28T07:48:58.784114Z"
    },
    "trusted": true
   },
   "outputs": [],
   "source": [
    "selected_features = chi_scores['feature'].tolist()[:79]  # Select top k features"
   ]
  },
  {
   "cell_type": "code",
   "execution_count": null,
   "metadata": {
    "execution": {
     "iopub.execute_input": "2023-11-28T07:48:58.797661Z",
     "iopub.status.busy": "2023-11-28T07:48:58.797384Z",
     "iopub.status.idle": "2023-11-28T07:49:02.595550Z",
     "shell.execute_reply": "2023-11-28T07:49:02.594507Z",
     "shell.execute_reply.started": "2023-11-28T07:48:58.797629Z"
    },
    "trusted": true
   },
   "outputs": [],
   "source": [
    "# Split the data into train (80%) and test (20%) sets\n",
    "X_train, X_test, y_train, y_test = train_test_split(X[selected_features], y, test_size=0.2, random_state=42)\n",
    "\n",
    "# Split the training data further into train (80%) and validation (20%) sets\n",
    "X_train, X_val, y_train, y_val = train_test_split(X_train, y_train, test_size=0.125, random_state=42)"
   ]
  },
  {
   "cell_type": "code",
   "execution_count": null,
   "metadata": {
    "execution": {
     "iopub.execute_input": "2023-11-28T07:49:02.597169Z",
     "iopub.status.busy": "2023-11-28T07:49:02.596821Z",
     "iopub.status.idle": "2023-11-28T07:49:02.602980Z",
     "shell.execute_reply": "2023-11-28T07:49:02.602047Z",
     "shell.execute_reply.started": "2023-11-28T07:49:02.597140Z"
    },
    "trusted": true
   },
   "outputs": [],
   "source": [
    "print(\"X_train shape:\", X_train.shape)\n",
    "print(\"X_val shape:\", X_val.shape)\n",
    "print(\"X_test shape:\", X_test.shape)\n",
    "\n",
    "print(\"y_train shape:\", y_train.shape)"
   ]
  },
  {
   "cell_type": "code",
   "execution_count": null,
   "metadata": {
    "execution": {
     "iopub.execute_input": "2023-11-28T07:49:02.604637Z",
     "iopub.status.busy": "2023-11-28T07:49:02.604292Z",
     "iopub.status.idle": "2023-11-28T07:49:05.310503Z",
     "shell.execute_reply": "2023-11-28T07:49:05.309475Z",
     "shell.execute_reply.started": "2023-11-28T07:49:02.604605Z"
    },
    "trusted": true
   },
   "outputs": [],
   "source": [
    "scaler = StandardScaler().fit(X_train)\n",
    "X_train = scaler.transform(X_train)\n",
    "X_val = scaler.transform(X_val)\n",
    "X_test = scaler.transform(X_test)"
   ]
  },
  {
   "cell_type": "code",
   "execution_count": null,
   "metadata": {},
   "outputs": [],
   "source": [
    "def cnn_lstm_gru_model(input_shape, num_classes):\n",
    "    \n",
    "    model_cnn_lstm_gru = Sequential([\n",
    "        Conv1D(filters=32, kernel_size=3, activation='relu', input_shape=input_shape),        \n",
    "        MaxPooling1D(pool_size=2),\n",
    "        \n",
    "        Conv1D(filters=64, kernel_size=3, activation='relu'),\n",
    "        MaxPooling1D(pool_size=2),\n",
    "        \n",
    "        LSTM(64, return_sequences=True),\n",
    "        GRU(64, return_sequences=False),\n",
    "        \n",
    "        Flatten(),\n",
    "        \n",
    "        Dense(128, activation='relu'),\n",
    "        Dropout(0.5),\n",
    "        Dense(num_classes, activation='sigmoid')\n",
    "    ])\n",
    "\n",
    "    model_cnn_lstm_gru.compile(optimizer='adam', loss='binary_crossentropy', metrics=['accuracy'])\n",
    "    return model_cnn_lstm_gru\n",
    "\n",
    "input_shape = (X_train.shape[1], 1)\n",
    "num_classes = 1\n",
    "model_cnn_lstm_gru = cnn_lstm_gru_model(input_shape, num_classes)\n",
    "model_cnn_lstm_gru.summary()\n",
    "plot_model(model_cnn_lstm_gru)"
   ]
  },
  {
   "cell_type": "code",
   "execution_count": null,
   "metadata": {},
   "outputs": [],
   "source": [
    "train_start_time = time.time()\n",
    "# Train the model\n",
    "history_cnn_lstm_gru = model_cnn_lstm_gru.fit(X_train, y_train, validation_data=(X_val, y_val), epochs=6, batch_size=32)\n",
    "# Record the ending time\n",
    "train_end_time = time.time()\n",
    "\n",
    "# Record the starting time for testing\n",
    "test_start_time = time.time()\n",
    "# Evaluate the model\n",
    "loss, accuracy = model_cnn_lstm_gru.evaluate(X_test, y_test, batch_size=32)\n",
    "# Record the ending time for testing\n",
    "test_end_time = time.time()\n",
    "\n",
    "print(f'Test Loss: {loss:.4f}')\n",
    "print(f'Test Accuracy: {accuracy:.4f}')\n",
    "\n",
    "# Calculate and print the training time\n",
    "train_time = train_end_time - train_start_time\n",
    "print(f\"Training time: {train_time:.2f} seconds\")\n",
    "\n",
    "# Calculate and print the testing time\n",
    "test_time = test_end_time - test_start_time\n",
    "print(f\"Testing time: {test_time:.2f} seconds\")"
   ]
  },
  {
   "cell_type": "code",
   "execution_count": null,
   "metadata": {
    "execution": {
     "iopub.execute_input": "2023-11-28T07:49:05.315493Z",
     "iopub.status.busy": "2023-11-28T07:49:05.315082Z",
     "iopub.status.idle": "2023-11-28T07:49:06.010971Z",
     "shell.execute_reply": "2023-11-28T07:49:06.009598Z",
     "shell.execute_reply.started": "2023-11-28T07:49:05.315467Z"
    },
    "trusted": true
   },
   "outputs": [],
   "source": [
    "def cnn_lstm_bigru_model(input_shape, num_classes):\n",
    "    \n",
    "    model = Sequential([\n",
    "        Conv1D(filters=32, kernel_size=3, activation='relu', input_shape=input_shape),        \n",
    "        MaxPooling1D(pool_size=2),\n",
    "        \n",
    "        Conv1D(filters=64, kernel_size=3, activation='relu'),\n",
    "        MaxPooling1D(pool_size=2),\n",
    "        \n",
    "        LSTM(64, return_sequences=True),\n",
    "        Bidirectional(GRU(64, return_sequences=False)),\n",
    "        \n",
    "        Dense(128, activation='relu'),\n",
    "        Dropout(0.5),\n",
    "        Dense(num_classes, activation='sigmoid')\n",
    "    ])\n",
    "\n",
    "    model.compile(optimizer='adam', loss='binary_crossentropy', metrics=['accuracy'])\n",
    "    return model\n",
    "\n",
    "input_shape = (X_train.shape[1], 1)\n",
    "num_classes = 1\n",
    "model_cnn_lstm_bigru = cnn_lstm_bigru_model(input_shape, num_classes)\n",
    "model_cnn_lstm_bigru.summary()\n",
    "plot_model(model_cnn_lstm_bigru)"
   ]
  },
  {
   "cell_type": "code",
   "execution_count": null,
   "metadata": {},
   "outputs": [],
   "source": [
    "train_start_time = time.time()\n",
    "# Train the model\n",
    "history_cnn_lstm_bigru = model_cnn_lstm_bigru.fit(X_train, y_train, validation_data=(X_val, y_val), epochs=6, batch_size=32)\n",
    "# Record the ending time\n",
    "train_end_time = time.time()\n",
    "\n",
    "# Record the starting time for testing\n",
    "test_start_time = time.time()\n",
    "# Evaluate the model\n",
    "loss, accuracy = model_cnn_lstm_bigru.evaluate(X_test, y_test, batch_size=32)\n",
    "# Record the ending time for testing\n",
    "test_end_time = time.time()\n",
    "\n",
    "print(f'Test Loss: {loss:.4f}')\n",
    "print(f'Test Accuracy: {accuracy:.4f}')\n",
    "\n",
    "# Calculate and print the training time\n",
    "train_time = train_end_time - train_start_time\n",
    "print(f\"Training time: {train_time:.2f} seconds\")\n",
    "\n",
    "# Calculate and print the testing time\n",
    "test_time = test_end_time - test_start_time\n",
    "print(f\"Testing time: {test_time:.2f} seconds\")"
   ]
  },
  {
   "cell_type": "code",
   "execution_count": null,
   "metadata": {},
   "outputs": [],
   "source": [
    "def cnn_lstm_model(input_shape, num_classes):\n",
    "    \n",
    "    model = Sequential([\n",
    "        Conv1D(filters=32, kernel_size=3, activation='relu', input_shape=input_shape),        \n",
    "        MaxPooling1D(pool_size=2),\n",
    "        \n",
    "        Conv1D(filters=64, kernel_size=3, activation='relu'),\n",
    "        MaxPooling1D(pool_size=2),\n",
    "        \n",
    "        LSTM(64, return_sequences=False),\n",
    "        \n",
    "        Dense(128, activation='relu'),\n",
    "        Dropout(0.5),\n",
    "        Dense(num_classes, activation='sigmoid')\n",
    "    ])\n",
    "\n",
    "    model.compile(optimizer='adam', loss='binary_crossentropy', metrics=['accuracy'])\n",
    "    return model\n",
    "\n",
    "input_shape = (X_train.shape[1], 1)\n",
    "num_classes = 1\n",
    "model_cnn_lstm = cnn_lstm_model(input_shape, num_classes)\n",
    "model_cnn_lstm.summary()\n",
    "plot_model(model_cnn_lstm)"
   ]
  },
  {
   "cell_type": "code",
   "execution_count": null,
   "metadata": {
    "execution": {
     "iopub.execute_input": "2023-11-28T07:49:06.013801Z",
     "iopub.status.busy": "2023-11-28T07:49:06.013043Z",
     "iopub.status.idle": "2023-11-28T08:23:15.000539Z",
     "shell.execute_reply": "2023-11-28T08:23:14.999621Z",
     "shell.execute_reply.started": "2023-11-28T07:49:06.013760Z"
    },
    "trusted": true
   },
   "outputs": [],
   "source": [
    "train_start_time = time.time()\n",
    "# Train the model\n",
    "history_cnn_lstm = model_cnn_lstm.fit(X_train, y_train, validation_data=(X_val, y_val), epochs=6, batch_size=32)\n",
    "# Record the ending time\n",
    "train_end_time = time.time()\n",
    "\n",
    "# Record the starting time for testing\n",
    "test_start_time = time.time()\n",
    "# Evaluate the model\n",
    "loss, accuracy = model_cnn_lstm.evaluate(X_test, y_test, batch_size=32)\n",
    "# Record the ending time for testing\n",
    "test_end_time = time.time()\n",
    "\n",
    "print(f'Test Loss: {loss:.4f}')\n",
    "print(f'Test Accuracy: {accuracy:.4f}')\n",
    "\n",
    "# Calculate and print the training time\n",
    "train_time = train_end_time - train_start_time\n",
    "print(f\"Training time: {train_time:.2f} seconds\")\n",
    "\n",
    "# Calculate and print the testing time\n",
    "test_time = test_end_time - test_start_time\n",
    "print(f\"Testing time: {test_time:.2f} seconds\")"
   ]
  },
  {
   "cell_type": "code",
   "execution_count": null,
   "metadata": {
    "execution": {
     "iopub.execute_input": "2023-11-28T08:23:15.002005Z",
     "iopub.status.busy": "2023-11-28T08:23:15.001722Z",
     "iopub.status.idle": "2023-11-28T08:23:15.307316Z",
     "shell.execute_reply": "2023-11-28T08:23:15.306377Z",
     "shell.execute_reply.started": "2023-11-28T08:23:15.001980Z"
    },
    "trusted": true
   },
   "outputs": [],
   "source": [
    "# Plot the training and validation accuracy over the epochs\n",
    "\n",
    "# CNN-LSTM-GRU\n",
    "plt.plot(history_cnn_lstm_gru.history['accuracy'])\n",
    "plt.plot(history_cnn_lstm_gru.history['val_accuracy'])\n",
    "plt.title('CNN-LSTM-GRU Model accuracy')\n",
    "plt.ylabel('Accuracy')\n",
    "plt.xlabel('Epoch')\n",
    "plt.legend(['Train', 'Test'], loc='upper left')\n",
    "plt.show()\n",
    "\n",
    "# CNN-LSTM-BiGRU\n",
    "plt.plot(history_cnn_lstm_bigru.history['accuracy'])\n",
    "plt.plot(history_cnn_lstm_bigru.history['val_accuracy'])\n",
    "plt.title('CNN-LSTM-BiGRU Model accuracy')\n",
    "plt.ylabel('Accuracy')\n",
    "plt.xlabel('Epoch')\n",
    "plt.legend(['Train', 'Test'], loc='upper left')\n",
    "plt.show()\n",
    "\n",
    "# CNN-LSTM\n",
    "plt.plot(history_cnn_lstm.history['accuracy'])\n",
    "plt.plot(history_cnn_lstm.history['val_accuracy'])\n",
    "plt.title('CNN-LSTM Model accuracy')\n",
    "plt.ylabel('Accuracy')\n",
    "plt.xlabel('Epoch')\n",
    "plt.legend(['Train', 'Test'], loc='upper left')\n",
    "plt.show()"
   ]
  },
  {
   "cell_type": "code",
   "execution_count": null,
   "metadata": {
    "execution": {
     "iopub.execute_input": "2023-11-28T08:23:15.308847Z",
     "iopub.status.busy": "2023-11-28T08:23:15.308542Z",
     "iopub.status.idle": "2023-11-28T08:23:15.531850Z",
     "shell.execute_reply": "2023-11-28T08:23:15.530930Z",
     "shell.execute_reply.started": "2023-11-28T08:23:15.308821Z"
    },
    "trusted": true
   },
   "outputs": [],
   "source": [
    "# Plot the training and validation loss over the epochs\n",
    "\n",
    "# CNN-LSTM-GRU\n",
    "plt.plot(history_cnn_lstm_gru.history['loss'])\n",
    "plt.plot(history_cnn_lstm_gru.history['val_loss'])\n",
    "plt.title('CNN-LSTM-GRU Model loss')\n",
    "plt.ylabel('Loss')\n",
    "plt.xlabel('Epoch')\n",
    "plt.legend(['Train', 'Test'], loc='upper left')\n",
    "plt.show()\n",
    "\n",
    "# CNN-LSTM-BiGRU\n",
    "plt.plot(history_cnn_lstm_bigru.history['loss'])\n",
    "plt.plot(history_cnn_lstm_bigru.history['val_loss'])\n",
    "plt.title('CNN-LSTM-BiGRU Model loss')\n",
    "plt.ylabel('Loss')\n",
    "plt.xlabel('Epoch')\n",
    "plt.legend(['Train', 'Test'], loc='upper left')\n",
    "plt.show()\n",
    "\n",
    "# CNN-LSTM\n",
    "plt.plot(history_cnn_lstm.history['loss'])\n",
    "plt.plot(history_cnn_lstm.history['val_loss'])\n",
    "plt.title('CNN-LSTM Model loss')\n",
    "plt.ylabel('Loss')\n",
    "plt.xlabel('Epoch')\n",
    "plt.legend(['Train', 'Test'], loc='upper left')\n",
    "plt.show()"
   ]
  },
  {
   "cell_type": "code",
   "execution_count": null,
   "metadata": {},
   "outputs": [],
   "source": [
    "# Make predictions for each model\n",
    "y_pred_cnn_lstm_gru = model_cnn_lstm_gru.predict(X_test)\n",
    "y_pred_cnn_lstm_bigru = model_cnn_lstm_bigru.predict(X_test)\n",
    "y_pred_cnn_lstm = model_cnn_lstm.predict(X_test)"
   ]
  },
  {
   "cell_type": "code",
   "execution_count": null,
   "metadata": {},
   "outputs": [],
   "source": [
    "# Print classification reports for each model\n",
    "print(classification_report(y_test, np.round(y_pred_cnn_lstm_gru), target_names=['No Intrusion', 'Intrusion']))\n",
    "print(classification_report(y_test, np.round(y_pred_cnn_lstm_bigru), target_names=['No Intrusion', 'Intrusion']))\n",
    "print(classification_report(y_test, np.round(y_pred_cnn_lstm), target_names=['No Intrusion', 'Intrusion']))"
   ]
  },
  {
   "cell_type": "code",
   "execution_count": null,
   "metadata": {},
   "outputs": [],
   "source": [
    "# CNN-LSTM-GRU---------------------------------------------------------------------------------------------------------------------------------------------------------------------------------------------------------------\n",
    "\n",
    "\n",
    "# Compute the confusion matrix\n",
    "conf_mat = confusion_matrix(y_test, np.round(y_pred_cnn_lstm_gru))\n",
    "# Define the class labels\n",
    "class_labels = ['No Intrusion', 'Intrusion']\n",
    "# Create a heatmap plot of the confusion matrix\n",
    "sns.heatmap(conf_mat, annot=True, fmt='d', cmap='Blues', xticklabels=class_labels, yticklabels=class_labels)\n",
    "# Set the plot labels and title\n",
    "plt.xlabel('Predicted Label')\n",
    "plt.ylabel('True Label')\n",
    "plt.title('CNN-LSTM-GRUConfusion Matrix')\n",
    "# Show the plot\n",
    "plt.show()\n",
    "\n",
    "\n",
    "# CNN-LSTM-BiGRU---------------------------------------------------------------------------------------------------------------------------------------------------------------------------------------------------------------\n",
    "\n",
    "\n",
    "# Compute the confusion matrix\n",
    "conf_mat = confusion_matrix(y_test, np.round(y_pred_cnn_lstm_bigru))\n",
    "# Define the class labels\n",
    "class_labels = ['No Intrusion', 'Intrusion']\n",
    "# Create a heatmap plot of the confusion matrix\n",
    "sns.heatmap(conf_mat, annot=True, fmt='d', cmap='Blues', xticklabels=class_labels, yticklabels=class_labels)\n",
    "# Set the plot labels and title\n",
    "plt.xlabel('Predicted Label')\n",
    "plt.ylabel('True Label')\n",
    "plt.title('CNN-LSTM-BiGRU Confusion Matrix')\n",
    "# Show the plot\n",
    "plt.show()\n",
    "\n",
    "\n",
    "# CNN-LSTM---------------------------------------------------------------------------------------------------------------------------------------------------------------------------------------------------------------\n",
    "\n",
    "\n",
    "# Compute the confusion matrix\n",
    "conf_mat = confusion_matrix(y_test, np.round(y_pred_cnn_lstm))\n",
    "# Define the class labels\n",
    "class_labels = ['No Intrusion', 'Intrusion']\n",
    "# Create a heatmap plot of the confusion matrix\n",
    "sns.heatmap(conf_mat, annot=True, fmt='d', cmap='Blues', xticklabels=class_labels, yticklabels=class_labels)\n",
    "# Set the plot labels and title\n",
    "plt.xlabel('Predicted Label')\n",
    "plt.ylabel('True Label')\n",
    "plt.title('CNN-LSTM Confusion Matrix')\n",
    "# Show the plot\n",
    "plt.show()\n",
    "plt.savefig('con_max.jpg')"
   ]
  },
  {
   "cell_type": "code",
   "execution_count": null,
   "metadata": {},
   "outputs": [],
   "source": [
    "# CNN-LSTM-GRU---------------------------------------------------------------------------------------------------------------------------------------------------------------------------------------------------------------\n",
    "\n",
    "\n",
    "# Predict the test set\n",
    "y_pred_gru = (y_pred_cnn_lstm_gru > 0.5).astype(int)\n",
    "# Compute confusion matrix\n",
    "cm = confusion_matrix(y_test, y_pred_gru)\n",
    "cm_norm = cm.astype('float') / cm.sum(axis=1)[:, np.newaxis]\n",
    "# Define the class labels\n",
    "class_labels = ['No Intrusion', 'Intrusion']\n",
    "# Print confusion matrix as heatmap with percentages\n",
    "plt.figure(figsize=(8, 6))\n",
    "sns.heatmap(cm_norm, annot=True, cmap='Blues', xticklabels=class_labels, yticklabels=class_labels, fmt='.2%')\n",
    "plt.xlabel('Predicted labels')\n",
    "plt.ylabel('True labels')\n",
    "plt.title('CNN-LSTM-GRU Normalized Confusion Matrix as Percentages')\n",
    "plt.show()\n",
    "\n",
    "\n",
    "# CNN-LSTM-BiGRU---------------------------------------------------------------------------------------------------------------------------------------------------------------------------------------------------------------\n",
    "\n",
    "\n",
    "# Predict the test set\n",
    "y_pred_bigru = (y_pred_cnn_lstm_bigru > 0.5).astype(int)\n",
    "# Compute confusion matrix\n",
    "cm = confusion_matrix(y_test, y_pred_bigru)\n",
    "cm_norm = cm.astype('float') / cm.sum(axis=1)[:, np.newaxis]\n",
    "# Define the class labels\n",
    "class_labels = ['No Intrusion', 'Intrusion']\n",
    "# Print confusion matrix as heatmap with percentages\n",
    "plt.figure(figsize=(8, 6))\n",
    "sns.heatmap(cm_norm, annot=True, cmap='Blues', xticklabels=class_labels, yticklabels=class_labels, fmt='.2%')\n",
    "plt.xlabel('Predicted labels')\n",
    "plt.ylabel('True labels')\n",
    "plt.title('CNN-LSTM-BiGRU Normalized Confusion Matrix as Percentages')\n",
    "plt.show()\n",
    "\n",
    "\n",
    "# CNN-LSTM---------------------------------------------------------------------------------------------------------------------------------------------------------------------------------------------------------------\n",
    "\n",
    "\n",
    "# Predict the test set\n",
    "y_pred_lstm = (y_pred_cnn_lstm > 0.5).astype(int)\n",
    "# Compute confusion matrix\n",
    "cm = confusion_matrix(y_test, y_pred_lstm)\n",
    "cm_norm = cm.astype('float') / cm.sum(axis=1)[:, np.newaxis]\n",
    "# Define the class labels\n",
    "class_labels = ['No Intrusion', 'Intrusion']\n",
    "# Print confusion matrix as heatmap with percentages\n",
    "plt.figure(figsize=(8, 6))\n",
    "sns.heatmap(cm_norm, annot=True, cmap='Blues', xticklabels=class_labels, yticklabels=class_labels, fmt='.2%')\n",
    "plt.xlabel('Predicted labels')\n",
    "plt.ylabel('True labels')\n",
    "plt.title('CNN-LSTM Normalized Confusion Matrix as Percentages')\n",
    "plt.show()"
   ]
  },
  {
   "cell_type": "code",
   "execution_count": null,
   "metadata": {},
   "outputs": [],
   "source": [
    "num_classes = 1\n",
    "\n",
    "# Get predictions for training sets\n",
    "pred_cnn_lstm_bigru_train = model_cnn_lstm_bigru.predict(X_train)\n",
    "pred_cnn_lstm_gru_train = model_cnn_lstm_gru.predict(X_train)\n",
    "\n",
    "# Get predictions for validation sets\n",
    "pred_cnn_lstm_bigru_val = model_cnn_lstm_bigru.predict(X_val)\n",
    "pred_cnn_lstm_gru_val = model_cnn_lstm_gru.predict(X_val)\n",
    "\n",
    "# Concatenate predictions for training sets\n",
    "X_conc_train = np.concatenate([pred_cnn_lstm_bigru_train, pred_cnn_lstm_gru_train], axis=1)\n",
    "\n",
    "# Concatenate predictions for validation sets\n",
    "X_conc_val = np.concatenate([pred_cnn_lstm_bigru_val, pred_cnn_lstm_gru_val], axis=1)\n",
    "\n",
    "# Concatenate predictions for test sets\n",
    "X_conc_test = np.concatenate([y_pred_cnn_lstm_bigru, y_pred_cnn_lstm_gru], axis=1)"
   ]
  },
  {
   "cell_type": "code",
   "execution_count": null,
   "metadata": {},
   "outputs": [],
   "source": [
    "# Define the ensemble model\n",
    "ensemble_model = Sequential([\n",
    "    Dense(64, activation='relu', input_shape=(X_conc_train.shape[1],)),\n",
    "    Dropout(0.5),\n",
    "    Dense(num_classes, activation='sigmoid')\n",
    "])\n",
    "\n",
    "ensemble_model.compile(optimizer='adam', loss='binary_crossentropy', metrics=['accuracy'])"
   ]
  },
  {
   "cell_type": "code",
   "execution_count": null,
   "metadata": {},
   "outputs": [],
   "source": [
    "# Train the ensemble model\n",
    "\n",
    "train_start_time = time.time()\n",
    "# Train the model\n",
    "ensemble_model.fit(X_conc_train, y_train, validation_data=(X_conc_val, y_val), epochs=6, batch_size=32)\n",
    "# Record the ending time\n",
    "train_end_time = time.time()\n",
    "\n",
    "# Record the starting time for testing\n",
    "test_start_time = time.time()\n",
    "# Evaluate the model\n",
    "loss, accuracy = ensemble_model.evaluate(X_conc_test, y_test, batch_size=32)\n",
    "# Record the ending time for testing\n",
    "test_end_time = time.time()\n",
    "\n",
    "print(f'Test Loss: {loss:.4f}')\n",
    "print(f'Test Accuracy: {accuracy:.4f}')\n",
    "\n",
    "# Calculate and print the training time\n",
    "train_time = train_end_time - train_start_time\n",
    "print(f\"Training time: {train_time:.2f} seconds\")\n",
    "\n",
    "# Calculate and print the testing time\n",
    "test_time = test_end_time - test_start_time\n",
    "print(f\"Testing time: {test_time:.2f} seconds\")"
   ]
  },
  {
   "cell_type": "code",
   "execution_count": null,
   "metadata": {},
   "outputs": [],
   "source": [
    "# Get predictions from the ensemble model\n",
    "y_prob = ensemble_model.predict(X_conc_test)\n",
    "\n",
    "# Convert probabilities to binary predictions\n",
    "final_pred = (y_prob > 0.5).astype(int).flatten()\n",
    "\n",
    "# Print classification report for the ensemble model\n",
    "print(\"Classification Report:\")\n",
    "print(classification_report(y_test, final_pred))\n",
    "\n",
    "# confusion matrix\n",
    "print(\"Confusion Matrix:\")\n",
    "cm = confusion_matrix(y_test, final_pred)\n",
    "cm_norm = cm.astype('float') / cm.sum(axis=1)[:, np.newaxis]\n",
    "# Define the class labels\n",
    "class_labels = ['No Intrusion', 'Intrusion']\n",
    "# Print confusion matrix as heatmap with percentages\n",
    "plt.figure(figsize=(8, 6))\n",
    "sns.heatmap(cm_norm, annot=True, cmap='Blues', xticklabels=class_labels, yticklabels=class_labels, fmt='.2%')\n",
    "plt.xlabel('Predicted labels')\n",
    "plt.ylabel('True labels')\n",
    "plt.title('Ensemble Model Normalized Confusion Matrix as Percentages')\n",
    "plt.show()"
   ]
  }
 ],
 "metadata": {
  "kaggle": {
   "accelerator": "none",
   "dataSources": [
    {
     "datasetId": 3920517,
     "sourceId": 6960620,
     "sourceType": "datasetVersion"
    }
   ],
   "dockerImageVersionId": 30579,
   "isGpuEnabled": false,
   "isInternetEnabled": true,
   "language": "python",
   "sourceType": "notebook"
  },
  "kernelspec": {
   "display_name": "Python 3",
   "language": "python",
   "name": "python3"
  },
  "language_info": {
   "codemirror_mode": {
    "name": "ipython",
    "version": 3
   },
   "file_extension": ".py",
   "mimetype": "text/x-python",
   "name": "python",
   "nbconvert_exporter": "python",
   "pygments_lexer": "ipython3",
   "version": "3.12.5"
  }
 },
 "nbformat": 4,
 "nbformat_minor": 4
}
