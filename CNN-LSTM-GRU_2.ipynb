{
 "cells": [
  {
   "cell_type": "code",
   "execution_count": 1,
   "metadata": {
    "_cell_guid": "b1076dfc-b9ad-4769-8c92-a6c4dae69d19",
    "_uuid": "8f2839f25d086af736a60e9eeb907d3b93b6e0e5",
    "execution": {
     "iopub.execute_input": "2023-11-28T07:48:17.132910Z",
     "iopub.status.busy": "2023-11-28T07:48:17.131881Z",
     "iopub.status.idle": "2023-11-28T07:48:17.137734Z",
     "shell.execute_reply": "2023-11-28T07:48:17.136649Z",
     "shell.execute_reply.started": "2023-11-28T07:48:17.132876Z"
    },
    "trusted": true
   },
   "outputs": [
    {
     "name": "stderr",
     "output_type": "stream",
     "text": [
      "c:\\Users\\aadit\\AppData\\Local\\Programs\\Python\\Python312\\Lib\\site-packages\\tqdm\\auto.py:21: TqdmWarning: IProgress not found. Please update jupyter and ipywidgets. See https://ipywidgets.readthedocs.io/en/stable/user_install.html\n",
      "  from .autonotebook import tqdm as notebook_tqdm\n"
     ]
    }
   ],
   "source": [
    "import pandas as pd\n",
    "import numpy as np\n",
    "import time\n",
    "import matplotlib.pyplot as plt\n",
    "import seaborn as sns\n",
    "import shap"
   ]
  },
  {
   "cell_type": "code",
   "execution_count": 3,
   "metadata": {
    "execution": {
     "iopub.execute_input": "2023-11-28T07:48:17.140564Z",
     "iopub.status.busy": "2023-11-28T07:48:17.140035Z",
     "iopub.status.idle": "2023-11-28T07:48:17.147895Z",
     "shell.execute_reply": "2023-11-28T07:48:17.146968Z",
     "shell.execute_reply.started": "2023-11-28T07:48:17.140536Z"
    },
    "trusted": true
   },
   "outputs": [],
   "source": [
    "from sklearn.feature_selection import SelectKBest, chi2\n",
    "from sklearn.model_selection import train_test_split\n",
    "from sklearn.preprocessing import StandardScaler\n",
    "from keras.models import Sequential\n",
    "from keras.layers import Dense, Dropout, Conv1D, MaxPooling1D, Flatten, LSTM, GRU, Bidirectional\n",
    "from tensorflow.keras.optimizers import Adam\n",
    "from sklearn.metrics import classification_report\n",
    "from sklearn.metrics import confusion_matrix\n",
    "from tensorflow.keras.utils import plot_model"
   ]
  },
  {
   "cell_type": "code",
   "execution_count": 4,
   "metadata": {
    "execution": {
     "iopub.execute_input": "2023-11-28T07:48:17.149595Z",
     "iopub.status.busy": "2023-11-28T07:48:17.149261Z",
     "iopub.status.idle": "2023-11-28T07:48:54.883519Z",
     "shell.execute_reply": "2023-11-28T07:48:54.882470Z",
     "shell.execute_reply.started": "2023-11-28T07:48:17.149570Z"
    },
    "trusted": true
   },
   "outputs": [
    {
     "name": "stderr",
     "output_type": "stream",
     "text": [
      "<>:1: SyntaxWarning: invalid escape sequence '\\S'\n",
      "<>:1: SyntaxWarning: invalid escape sequence '\\S'\n",
      "C:\\Users\\aadit\\AppData\\Local\\Temp\\ipykernel_16492\\3834739954.py:1: SyntaxWarning: invalid escape sequence '\\S'\n",
      "  df = pd.read_csv(\"~\\\\kaggle\\\\input\\\\edgeiiotset-cyber-security-dataset-of-iot-iiot\\\\Edge-IIoTset dataset\\Selected dataset for ML and DL\\\\DNN-EdgeIIoT-dataset.csv\", low_memory = False)\n"
     ]
    }
   ],
   "source": [
    "df = pd.read_csv(\"~\\\\kaggle\\\\input\\\\edgeiiotset-cyber-security-dataset-of-iot-iiot\\\\Edge-IIoTset dataset\\Selected dataset for ML and DL\\\\DNN-EdgeIIoT-dataset.csv\", low_memory = False)"
   ]
  },
  {
   "cell_type": "code",
   "execution_count": 5,
   "metadata": {
    "execution": {
     "iopub.execute_input": "2023-11-28T07:48:54.885083Z",
     "iopub.status.busy": "2023-11-28T07:48:54.884777Z",
     "iopub.status.idle": "2023-11-28T07:48:54.901384Z",
     "shell.execute_reply": "2023-11-28T07:48:54.900466Z",
     "shell.execute_reply.started": "2023-11-28T07:48:54.885058Z"
    },
    "trusted": true
   },
   "outputs": [
    {
     "name": "stdout",
     "output_type": "stream",
     "text": [
      "<class 'pandas.core.frame.DataFrame'>\n",
      "RangeIndex: 2219201 entries, 0 to 2219200\n",
      "Data columns (total 63 columns):\n",
      " #   Column                     Dtype  \n",
      "---  ------                     -----  \n",
      " 0   frame.time                 object \n",
      " 1   ip.src_host                object \n",
      " 2   ip.dst_host                object \n",
      " 3   arp.dst.proto_ipv4         object \n",
      " 4   arp.opcode                 float64\n",
      " 5   arp.hw.size                float64\n",
      " 6   arp.src.proto_ipv4         object \n",
      " 7   icmp.checksum              float64\n",
      " 8   icmp.seq_le                float64\n",
      " 9   icmp.transmit_timestamp    float64\n",
      " 10  icmp.unused                float64\n",
      " 11  http.file_data             object \n",
      " 12  http.content_length        float64\n",
      " 13  http.request.uri.query     object \n",
      " 14  http.request.method        object \n",
      " 15  http.referer               object \n",
      " 16  http.request.full_uri      object \n",
      " 17  http.request.version       object \n",
      " 18  http.response              float64\n",
      " 19  http.tls_port              float64\n",
      " 20  tcp.ack                    float64\n",
      " 21  tcp.ack_raw                float64\n",
      " 22  tcp.checksum               float64\n",
      " 23  tcp.connection.fin         float64\n",
      " 24  tcp.connection.rst         float64\n",
      " 25  tcp.connection.syn         float64\n",
      " 26  tcp.connection.synack      float64\n",
      " 27  tcp.dstport                float64\n",
      " 28  tcp.flags                  float64\n",
      " 29  tcp.flags.ack              float64\n",
      " 30  tcp.len                    float64\n",
      " 31  tcp.options                object \n",
      " 32  tcp.payload                object \n",
      " 33  tcp.seq                    float64\n",
      " 34  tcp.srcport                object \n",
      " 35  udp.port                   float64\n",
      " 36  udp.stream                 float64\n",
      " 37  udp.time_delta             float64\n",
      " 38  dns.qry.name               float64\n",
      " 39  dns.qry.name.len           object \n",
      " 40  dns.qry.qu                 float64\n",
      " 41  dns.qry.type               float64\n",
      " 42  dns.retransmission         float64\n",
      " 43  dns.retransmit_request     float64\n",
      " 44  dns.retransmit_request_in  float64\n",
      " 45  mqtt.conack.flags          object \n",
      " 46  mqtt.conflag.cleansess     float64\n",
      " 47  mqtt.conflags              float64\n",
      " 48  mqtt.hdrflags              float64\n",
      " 49  mqtt.len                   float64\n",
      " 50  mqtt.msg_decoded_as        float64\n",
      " 51  mqtt.msg                   object \n",
      " 52  mqtt.msgtype               float64\n",
      " 53  mqtt.proto_len             float64\n",
      " 54  mqtt.protoname             object \n",
      " 55  mqtt.topic                 object \n",
      " 56  mqtt.topic_len             float64\n",
      " 57  mqtt.ver                   float64\n",
      " 58  mbtcp.len                  float64\n",
      " 59  mbtcp.trans_id             float64\n",
      " 60  mbtcp.unit_id              float64\n",
      " 61  Attack_label               int64  \n",
      " 62  Attack_type                object \n",
      "dtypes: float64(42), int64(1), object(20)\n",
      "memory usage: 1.0+ GB\n"
     ]
    }
   ],
   "source": [
    "df.info()"
   ]
  },
  {
   "cell_type": "code",
   "execution_count": 6,
   "metadata": {
    "execution": {
     "iopub.execute_input": "2023-11-28T07:48:54.904703Z",
     "iopub.status.busy": "2023-11-28T07:48:54.904393Z",
     "iopub.status.idle": "2023-11-28T07:48:55.126954Z",
     "shell.execute_reply": "2023-11-28T07:48:55.125831Z",
     "shell.execute_reply.started": "2023-11-28T07:48:54.904671Z"
    },
    "trusted": true
   },
   "outputs": [
    {
     "name": "stdout",
     "output_type": "stream",
     "text": [
      "Attack_type\n",
      "Normal                   1615643\n",
      "DDoS_UDP                  121568\n",
      "DDoS_ICMP                 116436\n",
      "SQL_injection              51203\n",
      "Password                   50153\n",
      "Vulnerability_scanner      50110\n",
      "DDoS_TCP                   50062\n",
      "DDoS_HTTP                  49911\n",
      "Uploading                  37634\n",
      "Backdoor                   24862\n",
      "Port_Scanning              22564\n",
      "XSS                        15915\n",
      "Ransomware                 10925\n",
      "MITM                        1214\n",
      "Fingerprinting              1001\n",
      "Name: count, dtype: int64\n"
     ]
    }
   ],
   "source": [
    "print(df['Attack_type'].value_counts())"
   ]
  },
  {
   "cell_type": "code",
   "execution_count": 7,
   "metadata": {
    "execution": {
     "iopub.execute_input": "2023-11-28T07:48:55.128641Z",
     "iopub.status.busy": "2023-11-28T07:48:55.128302Z",
     "iopub.status.idle": "2023-11-28T07:48:55.330235Z",
     "shell.execute_reply": "2023-11-28T07:48:55.329379Z",
     "shell.execute_reply.started": "2023-11-28T07:48:55.128614Z"
    },
    "trusted": true
   },
   "outputs": [],
   "source": [
    "# Creating a dictionary of Types\n",
    "attacks = {'Normal': 0,'MITM': 1, 'Uploading': 2, 'Ransomware': 3, 'SQL_injection': 4,\n",
    "       'DDoS_HTTP': 5, 'DDoS_TCP': 6, 'Password': 7, 'Port_Scanning': 8,\n",
    "       'Vulnerability_scanner': 9, 'Backdoor': 10, 'XSS': 11, 'Fingerprinting': 12,\n",
    "       'DDoS_UDP': 13, 'DDoS_ICMP': 14}\n",
    "df['Attack_type'] = df['Attack_type'].map(attacks)"
   ]
  },
  {
   "cell_type": "code",
   "execution_count": 8,
   "metadata": {
    "execution": {
     "iopub.execute_input": "2023-11-28T07:48:55.331811Z",
     "iopub.status.busy": "2023-11-28T07:48:55.331488Z",
     "iopub.status.idle": "2023-11-28T07:48:55.875076Z",
     "shell.execute_reply": "2023-11-28T07:48:55.873973Z",
     "shell.execute_reply.started": "2023-11-28T07:48:55.331784Z"
    },
    "trusted": true
   },
   "outputs": [],
   "source": [
    "X = df.drop(columns=['Attack_label', 'Attack_type'])\n",
    "y = df['Attack_label']"
   ]
  },
  {
   "cell_type": "code",
   "execution_count": 11,
   "metadata": {
    "execution": {
     "iopub.execute_input": "2023-11-28T07:48:55.876583Z",
     "iopub.status.busy": "2023-11-28T07:48:55.876282Z",
     "iopub.status.idle": "2023-11-28T07:48:58.770538Z",
     "shell.execute_reply": "2023-11-28T07:48:58.769495Z",
     "shell.execute_reply.started": "2023-11-28T07:48:55.876557Z"
    },
    "trusted": true
   },
   "outputs": [],
   "source": [
    "# Apply the Chi-Squared test\n",
    "X = X.select_dtypes(include=[np.number])\n",
    "chi_selector = SelectKBest(chi2, k='all')  # Set k to the desired number of features\n",
    "X_kbest = chi_selector.fit_transform(X, y)"
   ]
  },
  {
   "cell_type": "code",
   "execution_count": 12,
   "metadata": {
    "execution": {
     "iopub.execute_input": "2023-11-28T07:48:58.772104Z",
     "iopub.status.busy": "2023-11-28T07:48:58.771759Z",
     "iopub.status.idle": "2023-11-28T07:48:58.782467Z",
     "shell.execute_reply": "2023-11-28T07:48:58.781469Z",
     "shell.execute_reply.started": "2023-11-28T07:48:58.772076Z"
    },
    "trusted": true
   },
   "outputs": [
    {
     "name": "stdout",
     "output_type": "stream",
     "text": [
      "                      feature         score\n",
      "10                tcp.ack_raw  1.620400e+14\n",
      "9                     tcp.ack  7.995480e+13\n",
      "20                    tcp.seq  7.141371e+12\n",
      "22                 udp.stream  4.273613e+11\n",
      "24               dns.qry.name  4.380512e+10\n",
      "4     icmp.transmit_timestamp  1.709412e+10\n",
      "3                 icmp.seq_le  1.124575e+10\n",
      "2               icmp.checksum  1.027802e+10\n",
      "16                tcp.dstport  6.401918e+09\n",
      "11               tcp.checksum  2.585162e+09\n",
      "6         http.content_length  2.856330e+07\n",
      "21                   udp.port  2.375208e+07\n",
      "19                    tcp.len  1.310122e+07\n",
      "32              mqtt.hdrflags  9.924011e+06\n",
      "33                   mqtt.len  1.643743e+06\n",
      "17                  tcp.flags  1.438213e+06\n",
      "37             mqtt.topic_len  7.442977e+05\n",
      "35               mqtt.msgtype  6.202507e+05\n",
      "25                 dns.qry.qu  1.936297e+05\n",
      "23             udp.time_delta  1.915608e+05\n",
      "36             mqtt.proto_len  1.240780e+05\n",
      "38                   mqtt.ver  1.240780e+05\n",
      "7               http.response  8.727381e+04\n",
      "18              tcp.flags.ack  8.255941e+04\n",
      "31              mqtt.conflags  6.203900e+04\n",
      "30     mqtt.conflag.cleansess  3.101950e+04\n",
      "14         tcp.connection.syn  2.836563e+04\n",
      "12         tcp.connection.fin  1.777189e+04\n",
      "27         dns.retransmission  9.781593e+03\n",
      "15      tcp.connection.synack  9.297587e+03\n",
      "1                 arp.hw.size  7.341170e+03\n",
      "13         tcp.connection.rst  4.815618e+03\n",
      "40             mbtcp.trans_id  4.286732e+03\n",
      "0                  arp.opcode  2.593871e+03\n",
      "39                  mbtcp.len  1.075886e+03\n",
      "41              mbtcp.unit_id  7.807642e+01\n",
      "28     dns.retransmit_request  1.830500e+01\n",
      "29  dns.retransmit_request_in  1.494286e+01\n",
      "5                 icmp.unused           NaN\n",
      "8               http.tls_port           NaN\n",
      "26               dns.qry.type           NaN\n",
      "34        mqtt.msg_decoded_as           NaN\n"
     ]
    }
   ],
   "source": [
    "# Get the scores for each feature\n",
    "chi_scores = chi_selector.scores_\n",
    "\n",
    "# Combine scores with feature names\n",
    "chi_scores = pd.DataFrame({'feature': X.columns, 'score': chi_scores})\n",
    "\n",
    "# Sort the features by their scores\n",
    "chi_scores = chi_scores.sort_values(by='score', ascending=False)\n",
    "\n",
    "print(chi_scores)"
   ]
  },
  {
   "cell_type": "code",
   "execution_count": 13,
   "metadata": {
    "execution": {
     "iopub.execute_input": "2023-11-28T07:48:58.784138Z",
     "iopub.status.busy": "2023-11-28T07:48:58.783852Z",
     "iopub.status.idle": "2023-11-28T07:48:58.796267Z",
     "shell.execute_reply": "2023-11-28T07:48:58.795366Z",
     "shell.execute_reply.started": "2023-11-28T07:48:58.784114Z"
    },
    "trusted": true
   },
   "outputs": [],
   "source": [
    "selected_features = chi_scores['feature'].tolist()[:93]  # Select top k features"
   ]
  },
  {
   "cell_type": "code",
   "execution_count": 14,
   "metadata": {
    "execution": {
     "iopub.execute_input": "2023-11-28T07:48:58.797661Z",
     "iopub.status.busy": "2023-11-28T07:48:58.797384Z",
     "iopub.status.idle": "2023-11-28T07:49:02.595550Z",
     "shell.execute_reply": "2023-11-28T07:49:02.594507Z",
     "shell.execute_reply.started": "2023-11-28T07:48:58.797629Z"
    },
    "trusted": true
   },
   "outputs": [],
   "source": [
    "# Split the data into train (80%) and test (20%) sets\n",
    "X_train, X_test, y_train, y_test = train_test_split(X[selected_features], y, test_size=0.2, random_state=42)\n",
    "\n",
    "# Split the training data further into train (80%) and validation (20%) sets\n",
    "X_train, X_val, y_train, y_val = train_test_split(X_train, y_train, test_size=0.125, random_state=42)"
   ]
  },
  {
   "cell_type": "code",
   "execution_count": 15,
   "metadata": {
    "execution": {
     "iopub.execute_input": "2023-11-28T07:49:02.597169Z",
     "iopub.status.busy": "2023-11-28T07:49:02.596821Z",
     "iopub.status.idle": "2023-11-28T07:49:02.602980Z",
     "shell.execute_reply": "2023-11-28T07:49:02.602047Z",
     "shell.execute_reply.started": "2023-11-28T07:49:02.597140Z"
    },
    "trusted": true
   },
   "outputs": [
    {
     "name": "stdout",
     "output_type": "stream",
     "text": [
      "X_train shape: (1553440, 42)\n",
      "X_val shape: (221920, 42)\n",
      "X_test shape: (443841, 42)\n",
      "y_train shape: (1553440,)\n"
     ]
    }
   ],
   "source": [
    "print(\"X_train shape:\", X_train.shape)\n",
    "print(\"X_val shape:\", X_val.shape)\n",
    "print(\"X_test shape:\", X_test.shape)\n",
    "\n",
    "print(\"y_train shape:\", y_train.shape)"
   ]
  },
  {
   "cell_type": "code",
   "execution_count": 16,
   "metadata": {
    "execution": {
     "iopub.execute_input": "2023-11-28T07:49:02.604637Z",
     "iopub.status.busy": "2023-11-28T07:49:02.604292Z",
     "iopub.status.idle": "2023-11-28T07:49:05.310503Z",
     "shell.execute_reply": "2023-11-28T07:49:05.309475Z",
     "shell.execute_reply.started": "2023-11-28T07:49:02.604605Z"
    },
    "trusted": true
   },
   "outputs": [],
   "source": [
    "scaler = StandardScaler().fit(X_train)\n",
    "X_train = scaler.transform(X_train)\n",
    "X_val = scaler.transform(X_val)\n",
    "X_test = scaler.transform(X_test)"
   ]
  },
  {
   "cell_type": "code",
   "execution_count": 17,
   "metadata": {
    "execution": {
     "iopub.execute_input": "2023-11-28T07:49:05.315493Z",
     "iopub.status.busy": "2023-11-28T07:49:05.315082Z",
     "iopub.status.idle": "2023-11-28T07:49:06.010971Z",
     "shell.execute_reply": "2023-11-28T07:49:06.009598Z",
     "shell.execute_reply.started": "2023-11-28T07:49:05.315467Z"
    },
    "trusted": true
   },
   "outputs": [
    {
     "name": "stderr",
     "output_type": "stream",
     "text": [
      "c:\\Users\\aadit\\AppData\\Local\\Programs\\Python\\Python312\\Lib\\site-packages\\keras\\src\\layers\\convolutional\\base_conv.py:107: UserWarning: Do not pass an `input_shape`/`input_dim` argument to a layer. When using Sequential models, prefer using an `Input(shape)` object as the first layer in the model instead.\n",
      "  super().__init__(activity_regularizer=activity_regularizer, **kwargs)\n"
     ]
    },
    {
     "data": {
      "text/html": [
       "<pre style=\"white-space:pre;overflow-x:auto;line-height:normal;font-family:Menlo,'DejaVu Sans Mono',consolas,'Courier New',monospace\"><span style=\"font-weight: bold\">Model: \"sequential\"</span>\n",
       "</pre>\n"
      ],
      "text/plain": [
       "\u001b[1mModel: \"sequential\"\u001b[0m\n"
      ]
     },
     "metadata": {},
     "output_type": "display_data"
    },
    {
     "data": {
      "text/html": [
       "<pre style=\"white-space:pre;overflow-x:auto;line-height:normal;font-family:Menlo,'DejaVu Sans Mono',consolas,'Courier New',monospace\">┏━━━━━━━━━━━━━━━━━━━━━━━━━━━━━━━━━┳━━━━━━━━━━━━━━━━━━━━━━━━┳━━━━━━━━━━━━━━━┓\n",
       "┃<span style=\"font-weight: bold\"> Layer (type)                    </span>┃<span style=\"font-weight: bold\"> Output Shape           </span>┃<span style=\"font-weight: bold\">       Param # </span>┃\n",
       "┡━━━━━━━━━━━━━━━━━━━━━━━━━━━━━━━━━╇━━━━━━━━━━━━━━━━━━━━━━━━╇━━━━━━━━━━━━━━━┩\n",
       "│ conv1d (<span style=\"color: #0087ff; text-decoration-color: #0087ff\">Conv1D</span>)                 │ (<span style=\"color: #00d7ff; text-decoration-color: #00d7ff\">None</span>, <span style=\"color: #00af00; text-decoration-color: #00af00\">40</span>, <span style=\"color: #00af00; text-decoration-color: #00af00\">32</span>)         │           <span style=\"color: #00af00; text-decoration-color: #00af00\">128</span> │\n",
       "├─────────────────────────────────┼────────────────────────┼───────────────┤\n",
       "│ max_pooling1d (<span style=\"color: #0087ff; text-decoration-color: #0087ff\">MaxPooling1D</span>)    │ (<span style=\"color: #00d7ff; text-decoration-color: #00d7ff\">None</span>, <span style=\"color: #00af00; text-decoration-color: #00af00\">20</span>, <span style=\"color: #00af00; text-decoration-color: #00af00\">32</span>)         │             <span style=\"color: #00af00; text-decoration-color: #00af00\">0</span> │\n",
       "├─────────────────────────────────┼────────────────────────┼───────────────┤\n",
       "│ conv1d_1 (<span style=\"color: #0087ff; text-decoration-color: #0087ff\">Conv1D</span>)               │ (<span style=\"color: #00d7ff; text-decoration-color: #00d7ff\">None</span>, <span style=\"color: #00af00; text-decoration-color: #00af00\">18</span>, <span style=\"color: #00af00; text-decoration-color: #00af00\">64</span>)         │         <span style=\"color: #00af00; text-decoration-color: #00af00\">6,208</span> │\n",
       "├─────────────────────────────────┼────────────────────────┼───────────────┤\n",
       "│ max_pooling1d_1 (<span style=\"color: #0087ff; text-decoration-color: #0087ff\">MaxPooling1D</span>)  │ (<span style=\"color: #00d7ff; text-decoration-color: #00d7ff\">None</span>, <span style=\"color: #00af00; text-decoration-color: #00af00\">9</span>, <span style=\"color: #00af00; text-decoration-color: #00af00\">64</span>)          │             <span style=\"color: #00af00; text-decoration-color: #00af00\">0</span> │\n",
       "├─────────────────────────────────┼────────────────────────┼───────────────┤\n",
       "│ lstm (<span style=\"color: #0087ff; text-decoration-color: #0087ff\">LSTM</span>)                     │ (<span style=\"color: #00d7ff; text-decoration-color: #00d7ff\">None</span>, <span style=\"color: #00af00; text-decoration-color: #00af00\">9</span>, <span style=\"color: #00af00; text-decoration-color: #00af00\">64</span>)          │        <span style=\"color: #00af00; text-decoration-color: #00af00\">33,024</span> │\n",
       "├─────────────────────────────────┼────────────────────────┼───────────────┤\n",
       "│ bidirectional (<span style=\"color: #0087ff; text-decoration-color: #0087ff\">Bidirectional</span>)   │ (<span style=\"color: #00d7ff; text-decoration-color: #00d7ff\">None</span>, <span style=\"color: #00af00; text-decoration-color: #00af00\">128</span>)            │        <span style=\"color: #00af00; text-decoration-color: #00af00\">49,920</span> │\n",
       "├─────────────────────────────────┼────────────────────────┼───────────────┤\n",
       "│ dense (<span style=\"color: #0087ff; text-decoration-color: #0087ff\">Dense</span>)                   │ (<span style=\"color: #00d7ff; text-decoration-color: #00d7ff\">None</span>, <span style=\"color: #00af00; text-decoration-color: #00af00\">128</span>)            │        <span style=\"color: #00af00; text-decoration-color: #00af00\">16,512</span> │\n",
       "├─────────────────────────────────┼────────────────────────┼───────────────┤\n",
       "│ dropout (<span style=\"color: #0087ff; text-decoration-color: #0087ff\">Dropout</span>)               │ (<span style=\"color: #00d7ff; text-decoration-color: #00d7ff\">None</span>, <span style=\"color: #00af00; text-decoration-color: #00af00\">128</span>)            │             <span style=\"color: #00af00; text-decoration-color: #00af00\">0</span> │\n",
       "├─────────────────────────────────┼────────────────────────┼───────────────┤\n",
       "│ dense_1 (<span style=\"color: #0087ff; text-decoration-color: #0087ff\">Dense</span>)                 │ (<span style=\"color: #00d7ff; text-decoration-color: #00d7ff\">None</span>, <span style=\"color: #00af00; text-decoration-color: #00af00\">1</span>)              │           <span style=\"color: #00af00; text-decoration-color: #00af00\">129</span> │\n",
       "└─────────────────────────────────┴────────────────────────┴───────────────┘\n",
       "</pre>\n"
      ],
      "text/plain": [
       "┏━━━━━━━━━━━━━━━━━━━━━━━━━━━━━━━━━┳━━━━━━━━━━━━━━━━━━━━━━━━┳━━━━━━━━━━━━━━━┓\n",
       "┃\u001b[1m \u001b[0m\u001b[1mLayer (type)                   \u001b[0m\u001b[1m \u001b[0m┃\u001b[1m \u001b[0m\u001b[1mOutput Shape          \u001b[0m\u001b[1m \u001b[0m┃\u001b[1m \u001b[0m\u001b[1m      Param #\u001b[0m\u001b[1m \u001b[0m┃\n",
       "┡━━━━━━━━━━━━━━━━━━━━━━━━━━━━━━━━━╇━━━━━━━━━━━━━━━━━━━━━━━━╇━━━━━━━━━━━━━━━┩\n",
       "│ conv1d (\u001b[38;5;33mConv1D\u001b[0m)                 │ (\u001b[38;5;45mNone\u001b[0m, \u001b[38;5;34m40\u001b[0m, \u001b[38;5;34m32\u001b[0m)         │           \u001b[38;5;34m128\u001b[0m │\n",
       "├─────────────────────────────────┼────────────────────────┼───────────────┤\n",
       "│ max_pooling1d (\u001b[38;5;33mMaxPooling1D\u001b[0m)    │ (\u001b[38;5;45mNone\u001b[0m, \u001b[38;5;34m20\u001b[0m, \u001b[38;5;34m32\u001b[0m)         │             \u001b[38;5;34m0\u001b[0m │\n",
       "├─────────────────────────────────┼────────────────────────┼───────────────┤\n",
       "│ conv1d_1 (\u001b[38;5;33mConv1D\u001b[0m)               │ (\u001b[38;5;45mNone\u001b[0m, \u001b[38;5;34m18\u001b[0m, \u001b[38;5;34m64\u001b[0m)         │         \u001b[38;5;34m6,208\u001b[0m │\n",
       "├─────────────────────────────────┼────────────────────────┼───────────────┤\n",
       "│ max_pooling1d_1 (\u001b[38;5;33mMaxPooling1D\u001b[0m)  │ (\u001b[38;5;45mNone\u001b[0m, \u001b[38;5;34m9\u001b[0m, \u001b[38;5;34m64\u001b[0m)          │             \u001b[38;5;34m0\u001b[0m │\n",
       "├─────────────────────────────────┼────────────────────────┼───────────────┤\n",
       "│ lstm (\u001b[38;5;33mLSTM\u001b[0m)                     │ (\u001b[38;5;45mNone\u001b[0m, \u001b[38;5;34m9\u001b[0m, \u001b[38;5;34m64\u001b[0m)          │        \u001b[38;5;34m33,024\u001b[0m │\n",
       "├─────────────────────────────────┼────────────────────────┼───────────────┤\n",
       "│ bidirectional (\u001b[38;5;33mBidirectional\u001b[0m)   │ (\u001b[38;5;45mNone\u001b[0m, \u001b[38;5;34m128\u001b[0m)            │        \u001b[38;5;34m49,920\u001b[0m │\n",
       "├─────────────────────────────────┼────────────────────────┼───────────────┤\n",
       "│ dense (\u001b[38;5;33mDense\u001b[0m)                   │ (\u001b[38;5;45mNone\u001b[0m, \u001b[38;5;34m128\u001b[0m)            │        \u001b[38;5;34m16,512\u001b[0m │\n",
       "├─────────────────────────────────┼────────────────────────┼───────────────┤\n",
       "│ dropout (\u001b[38;5;33mDropout\u001b[0m)               │ (\u001b[38;5;45mNone\u001b[0m, \u001b[38;5;34m128\u001b[0m)            │             \u001b[38;5;34m0\u001b[0m │\n",
       "├─────────────────────────────────┼────────────────────────┼───────────────┤\n",
       "│ dense_1 (\u001b[38;5;33mDense\u001b[0m)                 │ (\u001b[38;5;45mNone\u001b[0m, \u001b[38;5;34m1\u001b[0m)              │           \u001b[38;5;34m129\u001b[0m │\n",
       "└─────────────────────────────────┴────────────────────────┴───────────────┘\n"
      ]
     },
     "metadata": {},
     "output_type": "display_data"
    },
    {
     "data": {
      "text/html": [
       "<pre style=\"white-space:pre;overflow-x:auto;line-height:normal;font-family:Menlo,'DejaVu Sans Mono',consolas,'Courier New',monospace\"><span style=\"font-weight: bold\"> Total params: </span><span style=\"color: #00af00; text-decoration-color: #00af00\">105,921</span> (413.75 KB)\n",
       "</pre>\n"
      ],
      "text/plain": [
       "\u001b[1m Total params: \u001b[0m\u001b[38;5;34m105,921\u001b[0m (413.75 KB)\n"
      ]
     },
     "metadata": {},
     "output_type": "display_data"
    },
    {
     "data": {
      "text/html": [
       "<pre style=\"white-space:pre;overflow-x:auto;line-height:normal;font-family:Menlo,'DejaVu Sans Mono',consolas,'Courier New',monospace\"><span style=\"font-weight: bold\"> Trainable params: </span><span style=\"color: #00af00; text-decoration-color: #00af00\">105,921</span> (413.75 KB)\n",
       "</pre>\n"
      ],
      "text/plain": [
       "\u001b[1m Trainable params: \u001b[0m\u001b[38;5;34m105,921\u001b[0m (413.75 KB)\n"
      ]
     },
     "metadata": {},
     "output_type": "display_data"
    },
    {
     "data": {
      "text/html": [
       "<pre style=\"white-space:pre;overflow-x:auto;line-height:normal;font-family:Menlo,'DejaVu Sans Mono',consolas,'Courier New',monospace\"><span style=\"font-weight: bold\"> Non-trainable params: </span><span style=\"color: #00af00; text-decoration-color: #00af00\">0</span> (0.00 B)\n",
       "</pre>\n"
      ],
      "text/plain": [
       "\u001b[1m Non-trainable params: \u001b[0m\u001b[38;5;34m0\u001b[0m (0.00 B)\n"
      ]
     },
     "metadata": {},
     "output_type": "display_data"
    },
    {
     "name": "stdout",
     "output_type": "stream",
     "text": [
      "You must install pydot (`pip install pydot`) for `plot_model` to work.\n"
     ]
    }
   ],
   "source": [
    "def cnn_lstm_bigru_model(input_shape, num_classes):\n",
    "    \n",
    "    model = Sequential([\n",
    "        Conv1D(filters=32, kernel_size=3, activation='relu', input_shape=input_shape),        \n",
    "        MaxPooling1D(pool_size=2),\n",
    "        \n",
    "        Conv1D(filters=64, kernel_size=3, activation='relu'),\n",
    "        MaxPooling1D(pool_size=2),\n",
    "        \n",
    "        LSTM(64, return_sequences=True),\n",
    "        Bidirectional(GRU(64, return_sequences=False)),\n",
    "        \n",
    "        Dense(128, activation='relu'),\n",
    "        Dropout(0.5),\n",
    "        Dense(num_classes, activation='sigmoid')\n",
    "    ])\n",
    "\n",
    "    model.compile(optimizer='adam', loss='binary_crossentropy', metrics=['accuracy'])\n",
    "    return model\n",
    "\n",
    "input_shape = (X_train.shape[1], 1)\n",
    "num_classes = 1\n",
    "model = cnn_lstm_bigru_model(input_shape, num_classes)\n",
    "model.summary()\n",
    "plot_model(model)"
   ]
  },
  {
   "cell_type": "code",
   "execution_count": 18,
   "metadata": {
    "execution": {
     "iopub.execute_input": "2023-11-28T07:49:06.013801Z",
     "iopub.status.busy": "2023-11-28T07:49:06.013043Z",
     "iopub.status.idle": "2023-11-28T08:23:15.000539Z",
     "shell.execute_reply": "2023-11-28T08:23:14.999621Z",
     "shell.execute_reply.started": "2023-11-28T07:49:06.013760Z"
    },
    "trusted": true
   },
   "outputs": [
    {
     "name": "stdout",
     "output_type": "stream",
     "text": [
      "Epoch 1/6\n",
      "\u001b[1m48545/48545\u001b[0m \u001b[32m━━━━━━━━━━━━━━━━━━━━\u001b[0m\u001b[37m\u001b[0m \u001b[1m999s\u001b[0m 20ms/step - accuracy: 0.9554 - loss: 0.1274 - val_accuracy: 0.9821 - val_loss: 0.0550\n",
      "Epoch 2/6\n",
      "\u001b[1m48545/48545\u001b[0m \u001b[32m━━━━━━━━━━━━━━━━━━━━\u001b[0m\u001b[37m\u001b[0m \u001b[1m1123s\u001b[0m 22ms/step - accuracy: 0.9813 - loss: 0.0574 - val_accuracy: 0.9833 - val_loss: 0.0510\n",
      "Epoch 3/6\n",
      "\u001b[1m48545/48545\u001b[0m \u001b[32m━━━━━━━━━━━━━━━━━━━━\u001b[0m\u001b[37m\u001b[0m \u001b[1m1057s\u001b[0m 22ms/step - accuracy: 0.9826 - loss: 0.0543 - val_accuracy: 0.9840 - val_loss: 0.0487\n",
      "Epoch 4/6\n",
      "\u001b[1m48545/48545\u001b[0m \u001b[32m━━━━━━━━━━━━━━━━━━━━\u001b[0m\u001b[37m\u001b[0m \u001b[1m1048s\u001b[0m 22ms/step - accuracy: 0.9827 - loss: 0.0537 - val_accuracy: 0.9838 - val_loss: 0.0497\n",
      "Epoch 5/6\n",
      "\u001b[1m48545/48545\u001b[0m \u001b[32m━━━━━━━━━━━━━━━━━━━━\u001b[0m\u001b[37m\u001b[0m \u001b[1m1196s\u001b[0m 25ms/step - accuracy: 0.9833 - loss: 0.0522 - val_accuracy: 0.9844 - val_loss: 0.0503\n",
      "Epoch 6/6\n",
      "\u001b[1m48545/48545\u001b[0m \u001b[32m━━━━━━━━━━━━━━━━━━━━\u001b[0m\u001b[37m\u001b[0m \u001b[1m1280s\u001b[0m 26ms/step - accuracy: 0.9833 - loss: 0.0521 - val_accuracy: 0.9835 - val_loss: 0.0512\n",
      "\u001b[1m13871/13871\u001b[0m \u001b[32m━━━━━━━━━━━━━━━━━━━━\u001b[0m\u001b[37m\u001b[0m \u001b[1m242s\u001b[0m 17ms/step - accuracy: 0.9835 - loss: 0.0516\n",
      "Test Loss: 0.0517\n",
      "Test Accuracy: 0.9836\n",
      "Training time: 6704.56 seconds\n",
      "Testing time: 247.10 seconds\n"
     ]
    }
   ],
   "source": [
    "train_start_time = time.time()\n",
    "# Train the model\n",
    "history = model.fit(X_train, y_train, validation_data=(X_val, y_val), epochs=6, batch_size=32)\n",
    "# Record the ending time\n",
    "train_end_time = time.time()\n",
    "\n",
    "# Record the starting time for testing\n",
    "test_start_time = time.time()\n",
    "# Evaluate the model\n",
    "loss, accuracy = model.evaluate(X_test, y_test, batch_size=32)\n",
    "# Record the ending time for testing\n",
    "test_end_time = time.time()\n",
    "\n",
    "print(f'Test Loss: {loss:.4f}')\n",
    "print(f'Test Accuracy: {accuracy:.4f}')\n",
    "\n",
    "# Calculate and print the training time\n",
    "train_time = train_end_time - train_start_time\n",
    "print(f\"Training time: {train_time:.2f} seconds\")\n",
    "\n",
    "# Calculate and print the testing time\n",
    "test_time = test_end_time - test_start_time\n",
    "print(f\"Testing time: {test_time:.2f} seconds\")"
   ]
  },
  {
   "cell_type": "code",
   "execution_count": 29,
   "metadata": {
    "execution": {
     "iopub.execute_input": "2023-11-28T08:23:15.002005Z",
     "iopub.status.busy": "2023-11-28T08:23:15.001722Z",
     "iopub.status.idle": "2023-11-28T08:23:15.307316Z",
     "shell.execute_reply": "2023-11-28T08:23:15.306377Z",
     "shell.execute_reply.started": "2023-11-28T08:23:15.001980Z"
    },
    "trusted": true
   },
   "outputs": [
    {
     "data": {
      "image/png": "[encoded data removed]",
      "text/plain": [
       "<Figure size 640x480 with 1 Axes>"
      ]
     },
     "metadata": {},
     "output_type": "display_data"
    },
    {
     "data": {
      "text/plain": [
       "<Figure size 640x480 with 0 Axes>"
      ]
     },
     "metadata": {},
     "output_type": "display_data"
    }
   ],
   "source": [
    "# Plot the training and validation accuracy over the epochs\n",
    "plt.plot(history.history['accuracy'])\n",
    "plt.plot(history.history['val_accuracy'])\n",
    "plt.title('Model accuracy')\n",
    "plt.ylabel('Accuracy')\n",
    "plt.xlabel('Epoch')\n",
    "plt.legend(['Train', 'Test'], loc='upper left')\n",
    "plt.show()\n",
    "plt.savefig('acc_plo.jpg')"
   ]
  },
  {
   "cell_type": "code",
   "execution_count": 30,
   "metadata": {
    "execution": {
     "iopub.execute_input": "2023-11-28T08:23:15.308847Z",
     "iopub.status.busy": "2023-11-28T08:23:15.308542Z",
     "iopub.status.idle": "2023-11-28T08:23:15.531850Z",
     "shell.execute_reply": "2023-11-28T08:23:15.530930Z",
     "shell.execute_reply.started": "2023-11-28T08:23:15.308821Z"
    },
    "trusted": true
   },
   "outputs": [
    {
     "data": {
      "image/png": "[encoded data removed]",
      "text/plain": [
       "<Figure size 640x480 with 1 Axes>"
      ]
     },
     "metadata": {},
     "output_type": "display_data"
    },
    {
     "data": {
      "text/plain": [
       "<Figure size 640x480 with 0 Axes>"
      ]
     },
     "metadata": {},
     "output_type": "display_data"
    }
   ],
   "source": [
    "# Plot the training and validation loss over the epochs\n",
    "plt.plot(history.history['loss'])\n",
    "plt.plot(history.history['val_loss'])\n",
    "plt.title('Model loss')\n",
    "plt.ylabel('Loss')\n",
    "plt.xlabel('Epoch')\n",
    "plt.legend(['Train', 'Test'], loc='upper left')\n",
    "plt.show()\n",
    "plt.savefig('los_plo.jpg')"
   ]
  },
  {
   "cell_type": "code",
   "execution_count": 31,
   "metadata": {
    "execution": {
     "iopub.execute_input": "2023-11-28T08:23:15.533681Z",
     "iopub.status.busy": "2023-11-28T08:23:15.533049Z",
     "iopub.status.idle": "2023-11-28T08:23:55.318360Z",
     "shell.execute_reply": "2023-11-28T08:23:55.317512Z",
     "shell.execute_reply.started": "2023-11-28T08:23:15.533647Z"
    },
    "trusted": true
   },
   "outputs": [
    {
     "name": "stdout",
     "output_type": "stream",
     "text": [
      "\u001b[1m13871/13871\u001b[0m \u001b[32m━━━━━━━━━━━━━━━━━━━━\u001b[0m\u001b[37m\u001b[0m \u001b[1m73s\u001b[0m 5ms/step\n"
     ]
    }
   ],
   "source": [
    "y_pred = model.predict(np.expand_dims(X_test, axis=2))"
   ]
  },
  {
   "cell_type": "code",
   "execution_count": 32,
   "metadata": {
    "execution": {
     "iopub.execute_input": "2023-11-28T08:23:55.320061Z",
     "iopub.status.busy": "2023-11-28T08:23:55.319705Z",
     "iopub.status.idle": "2023-11-28T08:23:56.296809Z",
     "shell.execute_reply": "2023-11-28T08:23:56.295831Z",
     "shell.execute_reply.started": "2023-11-28T08:23:55.320025Z"
    },
    "trusted": true
   },
   "outputs": [
    {
     "name": "stdout",
     "output_type": "stream",
     "text": [
      "              precision    recall  f1-score   support\n",
      "\n",
      "No Intrusion       0.98      1.00      0.99    323305\n",
      "   Intrusion       0.99      0.94      0.97    120536\n",
      "\n",
      "    accuracy                           0.98    443841\n",
      "   macro avg       0.99      0.97      0.98    443841\n",
      "weighted avg       0.98      0.98      0.98    443841\n",
      "\n"
     ]
    }
   ],
   "source": [
    "# Performance comparison table\n",
    "print(classification_report(y_test, np.round(y_pred), target_names=['No Intrusion', 'Intrusion']))"
   ]
  },
  {
   "cell_type": "code",
   "execution_count": 33,
   "metadata": {
    "execution": {
     "iopub.execute_input": "2023-11-28T08:23:56.298937Z",
     "iopub.status.busy": "2023-11-28T08:23:56.298279Z",
     "iopub.status.idle": "2023-11-28T08:23:56.678329Z",
     "shell.execute_reply": "2023-11-28T08:23:56.677400Z",
     "shell.execute_reply.started": "2023-11-28T08:23:56.298897Z"
    },
    "trusted": true
   },
   "outputs": [
    {
     "data": {
      "image/png": "[encoded data removed]",
      "text/plain": [
       "<Figure size 640x480 with 2 Axes>"
      ]
     },
     "metadata": {},
     "output_type": "display_data"
    },
    {
     "data": {
      "text/plain": [
       "<Figure size 640x480 with 0 Axes>"
      ]
     },
     "metadata": {},
     "output_type": "display_data"
    }
   ],
   "source": [
    "# Compute the confusion matrix\n",
    "conf_mat = confusion_matrix(y_test, np.round(y_pred))\n",
    "\n",
    "# Define the class labels\n",
    "class_labels = ['No Intrusion', 'Intrusion']\n",
    "\n",
    "# Create a heatmap plot of the confusion matrix\n",
    "sns.heatmap(conf_mat, annot=True, fmt='d', cmap='Blues', xticklabels=class_labels, yticklabels=class_labels)\n",
    "\n",
    "# Set the plot labels and title\n",
    "plt.xlabel('Predicted Label')\n",
    "plt.ylabel('True Label')\n",
    "plt.title('Confusion Matrix')\n",
    "\n",
    "# Show the plot\n",
    "plt.show()\n",
    "plt.savefig('con_max.jpg')"
   ]
  },
  {
   "cell_type": "code",
   "execution_count": 34,
   "metadata": {
    "execution": {
     "iopub.execute_input": "2023-11-28T08:23:56.679765Z",
     "iopub.status.busy": "2023-11-28T08:23:56.679474Z",
     "iopub.status.idle": "2023-11-28T08:23:56.964390Z",
     "shell.execute_reply": "2023-11-28T08:23:56.963428Z",
     "shell.execute_reply.started": "2023-11-28T08:23:56.679739Z"
    },
    "trusted": true
   },
   "outputs": [
    {
     "data": {
      "image/png": "[encoded data removed]",
      "text/plain": [
       "<Figure size 800x600 with 2 Axes>"
      ]
     },
     "metadata": {},
     "output_type": "display_data"
    },
    {
     "data": {
      "text/plain": [
       "<Figure size 640x480 with 0 Axes>"
      ]
     },
     "metadata": {},
     "output_type": "display_data"
    }
   ],
   "source": [
    "# Predict the test set\n",
    "y_pred = (y_pred > 0.5)\n",
    "\n",
    "# Compute confusion matrix\n",
    "cm = confusion_matrix(y_test, y_pred)\n",
    "cm_norm = cm.astype('float') / cm.sum(axis=1)[:, np.newaxis]\n",
    "# Define the class labels\n",
    "class_labels = ['No Intrusion', 'Intrusion']\n",
    "# Print confusion matrix as heatmap with percentages\n",
    "plt.figure(figsize=(8, 6))\n",
    "sns.heatmap(cm_norm, annot=True, cmap='Blues', xticklabels=class_labels, yticklabels=class_labels, fmt='.2%')\n",
    "plt.xlabel('Predicted labels')\n",
    "plt.ylabel('True labels')\n",
    "plt.title('Normalized Confusion Matrix as Percentages')\n",
    "plt.show()\n",
    "plt.savefig('con_per.jpg')"
   ]
  }
 ],
 "metadata": {
  "kaggle": {
   "accelerator": "none",
   "dataSources": [
    {
     "datasetId": 3920517,
     "sourceId": 6960620,
     "sourceType": "datasetVersion"
    }
   ],
   "dockerImageVersionId": 30579,
   "isGpuEnabled": false,
   "isInternetEnabled": true,
   "language": "python",
   "sourceType": "notebook"
  },
  "kernelspec": {
   "display_name": "Python 3",
   "language": "python",
   "name": "python3"
  },
  "language_info": {
   "codemirror_mode": {
    "name": "ipython",
    "version": 3
   },
   "file_extension": ".py",
   "mimetype": "text/x-python",
   "name": "python",
   "nbconvert_exporter": "python",
   "pygments_lexer": "ipython3",
   "version": "3.12.5"
  }
 },
 "nbformat": 4,
 "nbformat_minor": 4
}
