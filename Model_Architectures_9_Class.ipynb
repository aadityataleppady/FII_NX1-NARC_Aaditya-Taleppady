{
 "cells": [
  {
   "cell_type": "code",
   "execution_count": null,
   "metadata": {
    "_cell_guid": "b1076dfc-b9ad-4769-8c92-a6c4dae69d19",
    "_uuid": "8f2839f25d086af736a60e9eeb907d3b93b6e0e5",
    "execution": {
     "iopub.execute_input": "2023-11-15T05:19:27.920997Z",
     "iopub.status.busy": "2023-11-15T05:19:27.920553Z",
     "iopub.status.idle": "2023-11-15T05:19:28.756218Z",
     "shell.execute_reply": "2023-11-15T05:19:28.755419Z",
     "shell.execute_reply.started": "2023-11-15T05:19:27.920960Z"
    },
    "trusted": true
   },
   "outputs": [],
   "source": [
    "import pandas as pd\n",
    "import numpy as np\n",
    "import time\n",
    "import matplotlib.pyplot as plt\n",
    "import seaborn as sns"
   ]
  },
  {
   "cell_type": "code",
   "execution_count": null,
   "metadata": {
    "execution": {
     "iopub.execute_input": "2023-11-15T05:19:28.758336Z",
     "iopub.status.busy": "2023-11-15T05:19:28.757948Z",
     "iopub.status.idle": "2023-11-15T05:19:39.808110Z",
     "shell.execute_reply": "2023-11-15T05:19:39.807293Z",
     "shell.execute_reply.started": "2023-11-15T05:19:28.758308Z"
    },
    "trusted": true
   },
   "outputs": [],
   "source": [
    "from sklearn.feature_selection import SelectKBest, chi2\n",
    "from sklearn.model_selection import train_test_split\n",
    "from sklearn.preprocessing import StandardScaler\n",
    "from keras.models import Sequential\n",
    "from keras.layers import Dense, Dropout, Conv1D, MaxPooling1D, Flatten, LSTM, GRU, Bidirectional\n",
    "from tensorflow.keras.optimizers import Adam\n",
    "from sklearn.metrics import classification_report\n",
    "from sklearn.metrics import confusion_matrix\n",
    "from tensorflow.keras.utils import plot_model"
   ]
  },
  {
   "cell_type": "code",
   "execution_count": null,
   "metadata": {
    "execution": {
     "iopub.execute_input": "2023-11-15T05:19:39.809787Z",
     "iopub.status.busy": "2023-11-15T05:19:39.809242Z",
     "iopub.status.idle": "2023-11-15T05:20:20.196771Z",
     "shell.execute_reply": "2023-11-15T05:20:20.195779Z",
     "shell.execute_reply.started": "2023-11-15T05:19:39.809759Z"
    },
    "trusted": true
   },
   "outputs": [],
   "source": [
    "df = pd.read_csv(\"Edge-IIoTset_112.csv\", low_memory = False)"
   ]
  },
  {
   "cell_type": "code",
   "execution_count": null,
   "metadata": {
    "execution": {
     "iopub.execute_input": "2023-11-15T05:20:20.198197Z",
     "iopub.status.busy": "2023-11-15T05:20:20.197917Z",
     "iopub.status.idle": "2023-11-15T05:20:20.227465Z",
     "shell.execute_reply": "2023-11-15T05:20:20.226540Z",
     "shell.execute_reply.started": "2023-11-15T05:20:20.198172Z"
    },
    "trusted": true
   },
   "outputs": [],
   "source": [
    "df.info()"
   ]
  },
  {
   "cell_type": "code",
   "execution_count": null,
   "metadata": {
    "execution": {
     "iopub.execute_input": "2023-11-15T05:20:20.231180Z",
     "iopub.status.busy": "2023-11-15T05:20:20.230562Z",
     "iopub.status.idle": "2023-11-15T05:20:20.443195Z",
     "shell.execute_reply": "2023-11-15T05:20:20.442181Z",
     "shell.execute_reply.started": "2023-11-15T05:20:20.231123Z"
    },
    "trusted": true
   },
   "outputs": [],
   "source": [
    "print(df['Attack_type'].value_counts())"
   ]
  },
  {
   "cell_type": "code",
   "execution_count": null,
   "metadata": {
    "execution": {
     "iopub.execute_input": "2023-11-15T05:20:20.444696Z",
     "iopub.status.busy": "2023-11-15T05:20:20.444416Z",
     "iopub.status.idle": "2023-11-15T05:20:20.645673Z",
     "shell.execute_reply": "2023-11-15T05:20:20.644688Z",
     "shell.execute_reply.started": "2023-11-15T05:20:20.444670Z"
    },
    "trusted": true
   },
   "outputs": [],
   "source": [
    "# Creating a dictionary of Types\n",
    "attacks = {'Normal': 0,'MITM': 1, 'Uploading': 2, 'Ransomware': 3, 'SQL_injection': 4,\n",
    "       'DDoS_HTTP': 5, 'Password': 6,'Backdoor': 7, 'XSS': 8}\n",
    "df['Attack_type'] = df['Attack_type'].map(attacks)"
   ]
  },
  {
   "cell_type": "code",
   "execution_count": null,
   "metadata": {
    "execution": {
     "iopub.execute_input": "2023-11-15T05:20:20.647213Z",
     "iopub.status.busy": "2023-11-15T05:20:20.646913Z",
     "iopub.status.idle": "2023-11-15T05:20:21.187951Z",
     "shell.execute_reply": "2023-11-15T05:20:21.187096Z",
     "shell.execute_reply.started": "2023-11-15T05:20:20.647189Z"
    },
    "trusted": true
   },
   "outputs": [],
   "source": [
    "X = df.drop(columns=['Attack_label', 'Attack_type'])\n",
    "y = df['Attack_type']"
   ]
  },
  {
   "cell_type": "code",
   "execution_count": null,
   "metadata": {
    "execution": {
     "iopub.execute_input": "2023-11-15T05:20:21.189400Z",
     "iopub.status.busy": "2023-11-15T05:20:21.189076Z",
     "iopub.status.idle": "2023-11-15T05:20:24.739561Z",
     "shell.execute_reply": "2023-11-15T05:20:24.738065Z",
     "shell.execute_reply.started": "2023-11-15T05:20:21.189373Z"
    },
    "trusted": true
   },
   "outputs": [],
   "source": [
    "# Apply the Chi-Squared test\n",
    "X = X.select_dtypes(include=[np.number])\n",
    "chi_selector = SelectKBest(chi2, k='all')  # Set k to the desired number of features\n",
    "X_kbest = chi_selector.fit_transform(X, y)"
   ]
  },
  {
   "cell_type": "code",
   "execution_count": null,
   "metadata": {
    "execution": {
     "iopub.execute_input": "2023-11-15T05:20:24.742020Z",
     "iopub.status.busy": "2023-11-15T05:20:24.740999Z",
     "iopub.status.idle": "2023-11-15T05:20:24.754943Z",
     "shell.execute_reply": "2023-11-15T05:20:24.753939Z",
     "shell.execute_reply.started": "2023-11-15T05:20:24.741983Z"
    },
    "trusted": true
   },
   "outputs": [],
   "source": [
    "# Get the scores for each feature\n",
    "chi_scores = chi_selector.scores_\n",
    "\n",
    "# Combine scores with feature names\n",
    "chi_scores = pd.DataFrame({'feature': X.columns, 'score': chi_scores})\n",
    "\n",
    "# Sort the features by their scores\n",
    "chi_scores = chi_scores.sort_values(by='score', ascending=False)\n",
    "\n",
    "print(chi_scores)"
   ]
  },
  {
   "cell_type": "code",
   "execution_count": null,
   "metadata": {
    "execution": {
     "iopub.execute_input": "2023-11-15T05:20:24.756671Z",
     "iopub.status.busy": "2023-11-15T05:20:24.756301Z",
     "iopub.status.idle": "2023-11-15T05:20:24.762009Z",
     "shell.execute_reply": "2023-11-15T05:20:24.761039Z",
     "shell.execute_reply.started": "2023-11-15T05:20:24.756638Z"
    },
    "trusted": true
   },
   "outputs": [],
   "source": [
    "selected_features = chi_scores['feature'].tolist()[:79]  # Select top k features"
   ]
  },
  {
   "cell_type": "code",
   "execution_count": null,
   "metadata": {
    "execution": {
     "iopub.execute_input": "2023-11-15T05:20:24.763682Z",
     "iopub.status.busy": "2023-11-15T05:20:24.763328Z",
     "iopub.status.idle": "2023-11-15T05:20:28.383310Z",
     "shell.execute_reply": "2023-11-15T05:20:28.382278Z",
     "shell.execute_reply.started": "2023-11-15T05:20:24.763648Z"
    },
    "trusted": true
   },
   "outputs": [],
   "source": [
    "# Split the data into train (80%) and test (20%) sets\n",
    "X_train, X_test, y_train, y_test = train_test_split(X[selected_features], y, test_size=0.2, random_state=42)\n",
    "\n",
    "# Split the training data further into train (80%) and validation (20%) sets\n",
    "X_train, X_val, y_train, y_val = train_test_split(X_train, y_train, test_size=0.125, random_state=42)"
   ]
  },
  {
   "cell_type": "code",
   "execution_count": null,
   "metadata": {
    "execution": {
     "iopub.execute_input": "2023-11-15T05:20:28.384953Z",
     "iopub.status.busy": "2023-11-15T05:20:28.384639Z",
     "iopub.status.idle": "2023-11-15T05:20:28.389979Z",
     "shell.execute_reply": "2023-11-15T05:20:28.389061Z",
     "shell.execute_reply.started": "2023-11-15T05:20:28.384928Z"
    },
    "trusted": true
   },
   "outputs": [],
   "source": [
    "print(\"X_train shape:\", X_train.shape)\n",
    "print(\"X_val shape:\", X_val.shape)\n",
    "print(\"X_test shape:\", X_test.shape)"
   ]
  },
  {
   "cell_type": "code",
   "execution_count": null,
   "metadata": {
    "execution": {
     "iopub.execute_input": "2023-11-15T05:20:28.391378Z",
     "iopub.status.busy": "2023-11-15T05:20:28.391067Z",
     "iopub.status.idle": "2023-11-15T05:20:31.114791Z",
     "shell.execute_reply": "2023-11-15T05:20:31.113948Z",
     "shell.execute_reply.started": "2023-11-15T05:20:28.391355Z"
    },
    "trusted": true
   },
   "outputs": [],
   "source": [
    "scaler = StandardScaler().fit(X_train)\n",
    "X_train = scaler.transform(X_train)\n",
    "X_val = scaler.transform(X_val)\n",
    "X_test = scaler.transform(X_test)"
   ]
  },
  {
   "cell_type": "code",
   "execution_count": null,
   "metadata": {},
   "outputs": [],
   "source": [
    "def cnn_lstm_gru_model(input_shape, num_classes):\n",
    "    \n",
    "    model = Sequential([\n",
    "        Conv1D(filters=32, kernel_size=3, activation='relu', input_shape=input_shape),        \n",
    "        MaxPooling1D(pool_size=2),\n",
    "        \n",
    "        Conv1D(filters=64, kernel_size=3, activation='relu'),\n",
    "        MaxPooling1D(pool_size=2),\n",
    "        \n",
    "        LSTM(64, return_sequences=True),\n",
    "        GRU(64, return_sequences=False),\n",
    "        \n",
    "        Flatten(),\n",
    "        \n",
    "        Dense(128, activation='relu'),\n",
    "        Dropout(0.5),\n",
    "        Dense(num_classes, activation='softmax')\n",
    "    ])\n",
    "\n",
    "    model.compile(optimizer='adam', loss='sparse_categorical_crossentropy', metrics=['accuracy'])\n",
    "    return model"
   ]
  },
  {
   "cell_type": "code",
   "execution_count": null,
   "metadata": {},
   "outputs": [],
   "source": [
    "input_shape = (X_train.shape[1], 1)\n",
    "num_classes = 9\n",
    "model_cnn_lstm_gru = cnn_lstm_gru_model(input_shape, num_classes)\n",
    "model_cnn_lstm_gru.summary()\n",
    "plot_model(model_cnn_lstm_gru)"
   ]
  },
  {
   "cell_type": "code",
   "execution_count": null,
   "metadata": {},
   "outputs": [],
   "source": [
    "train_start_time = time.time()\n",
    "# Train the model\n",
    "history_cnn_lstm_gru = model_cnn_lstm_gru.fit(X_train, y_train, validation_data=(X_val, y_val), epochs=50, batch_size=32)\n",
    "# Record the ending time\n",
    "train_end_time = time.time()\n",
    "\n",
    "# Record the starting time for testing\n",
    "test_start_time = time.time()\n",
    "# Evaluate the model\n",
    "loss, accuracy = model_cnn_lstm_gru.evaluate(X_test, y_test, batch_size=32)\n",
    "# Record the ending time for testing\n",
    "test_end_time = time.time()\n",
    "\n",
    "print(f'Test Loss: {loss:.4f}')\n",
    "print(f'Test Accuracy: {accuracy:.4f}')\n",
    "\n",
    "# Calculate and print the training time\n",
    "train_time = train_end_time - train_start_time\n",
    "print(f\"Training time: {train_time:.2f} seconds\")\n",
    "\n",
    "# Calculate and print the testing time\n",
    "test_time = test_end_time - test_start_time\n",
    "print(f\"Testing time: {test_time:.2f} seconds\")"
   ]
  },
  {
   "cell_type": "code",
   "execution_count": null,
   "metadata": {
    "execution": {
     "iopub.execute_input": "2023-11-15T05:20:31.118757Z",
     "iopub.status.busy": "2023-11-15T05:20:31.118412Z",
     "iopub.status.idle": "2023-11-15T05:20:31.126460Z",
     "shell.execute_reply": "2023-11-15T05:20:31.125349Z",
     "shell.execute_reply.started": "2023-11-15T05:20:31.118716Z"
    },
    "trusted": true
   },
   "outputs": [],
   "source": [
    "def cnn_lstm_bigru_model(input_shape, num_classes):\n",
    "    \n",
    "    model = Sequential([\n",
    "        Conv1D(filters=32, kernel_size=3, activation='relu', input_shape=input_shape),        \n",
    "        MaxPooling1D(pool_size=2),\n",
    "        \n",
    "        Conv1D(filters=64, kernel_size=3, activation='relu'),\n",
    "        MaxPooling1D(pool_size=2),\n",
    "        \n",
    "        LSTM(64, return_sequences=True),\n",
    "        Bidirectional(GRU(64, return_sequences=False)),\n",
    "        \n",
    "        Dense(128, activation='relu'),\n",
    "        Dropout(0.5),\n",
    "        Dense(num_classes, activation='softmax')\n",
    "    ])\n",
    "\n",
    "    model.compile(optimizer='adam', loss='sparse_categorical_crossentropy', metrics=['accuracy'])\n",
    "    return model"
   ]
  },
  {
   "cell_type": "code",
   "execution_count": null,
   "metadata": {
    "execution": {
     "iopub.execute_input": "2023-11-15T05:20:31.127818Z",
     "iopub.status.busy": "2023-11-15T05:20:31.127499Z",
     "iopub.status.idle": "2023-11-15T05:20:34.487588Z",
     "shell.execute_reply": "2023-11-15T05:20:34.486650Z",
     "shell.execute_reply.started": "2023-11-15T05:20:31.127786Z"
    },
    "trusted": true
   },
   "outputs": [],
   "source": [
    "input_shape = (X_train.shape[1], 1)\n",
    "num_classes = 9\n",
    "model_cnn_lstm_bigru = cnn_lstm_bigru_model(input_shape, num_classes)\n",
    "model_cnn_lstm_bigru.summary()\n",
    "plot_model(model_cnn_lstm_bigru)"
   ]
  },
  {
   "cell_type": "code",
   "execution_count": null,
   "metadata": {
    "execution": {
     "iopub.execute_input": "2023-11-15T05:20:34.488896Z",
     "iopub.status.busy": "2023-11-15T05:20:34.488598Z",
     "iopub.status.idle": "2023-11-15T09:26:34.613884Z",
     "shell.execute_reply": "2023-11-15T09:26:34.612801Z",
     "shell.execute_reply.started": "2023-11-15T05:20:34.488871Z"
    },
    "trusted": true
   },
   "outputs": [],
   "source": [
    "train_start_time = time.time()\n",
    "# Train the model\n",
    "history_cnn_lstm_bigru = model_cnn_lstm_bigru.fit(X_train, y_train, validation_data=(X_val, y_val), epochs=50, batch_size=32)\n",
    "# Record the ending time\n",
    "train_end_time = time.time()\n",
    "\n",
    "# Record the starting time for testing\n",
    "test_start_time = time.time()\n",
    "# Evaluate the model\n",
    "loss, accuracy = model_cnn_lstm_bigru.evaluate(X_test, y_test, batch_size=32)\n",
    "# Record the ending time for testing\n",
    "test_end_time = time.time()\n",
    "\n",
    "print(f'Test Loss: {loss:.4f}')\n",
    "print(f'Test Accuracy: {accuracy:.4f}')\n",
    "\n",
    "# Calculate and print the training time\n",
    "train_time = train_end_time - train_start_time\n",
    "print(f\"Training time: {train_time:.2f} seconds\")\n",
    "\n",
    "# Calculate and print the testing time\n",
    "test_time = test_end_time - test_start_time\n",
    "print(f\"Testing time: {test_time:.2f} seconds\")"
   ]
  },
  {
   "cell_type": "code",
   "execution_count": null,
   "metadata": {},
   "outputs": [],
   "source": [
    "def cnn_lstm_model(input_shape, num_classes):\n",
    "    \n",
    "    model = Sequential([\n",
    "        Conv1D(filters=32, kernel_size=3, activation='relu', input_shape=input_shape),        \n",
    "        MaxPooling1D(pool_size=2),\n",
    "        \n",
    "        Conv1D(filters=64, kernel_size=3, activation='relu'),\n",
    "        MaxPooling1D(pool_size=2),\n",
    "        \n",
    "        LSTM(64, return_sequences=False),\n",
    "        \n",
    "        Dense(128, activation='relu'),\n",
    "        Dropout(0.5),\n",
    "        Dense(num_classes, activation='softmax')\n",
    "    ])\n",
    "\n",
    "    model.compile(optimizer='adam', loss='sparse_categorical_crossentropy', metrics=['accuracy'])\n",
    "    return model"
   ]
  },
  {
   "cell_type": "code",
   "execution_count": null,
   "metadata": {},
   "outputs": [],
   "source": [
    "input_shape = (X_train.shape[1], 1)\n",
    "num_classes = 9\n",
    "model_cnn_lstm = cnn_lstm_model(input_shape, num_classes)\n",
    "model_cnn_lstm.summary()\n",
    "plot_model(model_cnn_lstm)"
   ]
  },
  {
   "cell_type": "code",
   "execution_count": null,
   "metadata": {},
   "outputs": [],
   "source": [
    "train_start_time = time.time()\n",
    "# Train the model\n",
    "history_cnn_lstm = model_cnn_lstm.fit(X_train, y_train, validation_data=(X_val, y_val), epochs=50, batch_size=32)\n",
    "# Record the ending time\n",
    "train_end_time = time.time()\n",
    "\n",
    "# Record the starting time for testing\n",
    "test_start_time = time.time()\n",
    "# Evaluate the model\n",
    "loss, accuracy = model_cnn_lstm.evaluate(X_test, y_test, batch_size=32)\n",
    "# Record the ending time for testing\n",
    "test_end_time = time.time()\n",
    "\n",
    "print(f'Test Loss: {loss:.4f}')\n",
    "print(f'Test Accuracy: {accuracy:.4f}')\n",
    "\n",
    "# Calculate and print the training time\n",
    "train_time = train_end_time - train_start_time\n",
    "print(f\"Training time: {train_time:.2f} seconds\")\n",
    "\n",
    "# Calculate and print the testing time\n",
    "test_time = test_end_time - test_start_time\n",
    "print(f\"Testing time: {test_time:.2f} seconds\")"
   ]
  },
  {
   "cell_type": "code",
   "execution_count": null,
   "metadata": {
    "execution": {
     "iopub.execute_input": "2023-11-15T09:26:34.615897Z",
     "iopub.status.busy": "2023-11-15T09:26:34.615515Z",
     "iopub.status.idle": "2023-11-15T09:26:34.950524Z",
     "shell.execute_reply": "2023-11-15T09:26:34.949563Z",
     "shell.execute_reply.started": "2023-11-15T09:26:34.615867Z"
    },
    "trusted": true
   },
   "outputs": [],
   "source": [
    "# Plot the training and validation accuracy over the epochs\n",
    "\n",
    "# CNN-LSTM-GRU\n",
    "plt.plot(history_cnn_lstm_gru.history['accuracy'])\n",
    "plt.plot(history_cnn_lstm_gru.history['val_accuracy'])\n",
    "plt.title('Model accuracy')\n",
    "plt.ylabel('Accuracy')\n",
    "plt.xlabel('Epoch')\n",
    "plt.legend(['Train', 'Validation'], loc='upper left')\n",
    "plt.show()\n",
    "\n",
    "# CNN-LSTM-BiGRU\n",
    "plt.plot(history_cnn_lstm_bigru.history['accuracy'])\n",
    "plt.plot(history_cnn_lstm_bigru.history['val_accuracy'])\n",
    "plt.title('Model accuracy')\n",
    "plt.ylabel('Accuracy')\n",
    "plt.xlabel('Epoch')\n",
    "plt.legend(['Train', 'Validation'], loc='upper left')\n",
    "plt.show()\n",
    "\n",
    "# CNN-LSTM\n",
    "plt.plot(history_cnn_lstm.history['accuracy'])\n",
    "plt.plot(history_cnn_lstm.history['val_accuracy'])\n",
    "plt.title('Model accuracy')\n",
    "plt.ylabel('Accuracy')\n",
    "plt.xlabel('Epoch')\n",
    "plt.legend(['Train', 'Validation'], loc='upper left')\n",
    "plt.show()"
   ]
  },
  {
   "cell_type": "code",
   "execution_count": null,
   "metadata": {
    "execution": {
     "iopub.execute_input": "2023-11-15T09:26:34.952660Z",
     "iopub.status.busy": "2023-11-15T09:26:34.951966Z",
     "iopub.status.idle": "2023-11-15T09:26:35.270478Z",
     "shell.execute_reply": "2023-11-15T09:26:35.269659Z",
     "shell.execute_reply.started": "2023-11-15T09:26:34.952622Z"
    },
    "trusted": true
   },
   "outputs": [],
   "source": [
    "# Plot the training and validation loss over the epochs\n",
    "\n",
    "# CNN-LSTM-GRU\n",
    "plt.plot(history_cnn_lstm_gru.history['loss'])\n",
    "plt.plot(history_cnn_lstm_gru.history['val_loss'])\n",
    "plt.title('Model loss')\n",
    "plt.ylabel('Loss')\n",
    "plt.xlabel('Epoch')\n",
    "plt.legend(['Train', 'Validation'], loc='upper left')\n",
    "plt.show()\n",
    "\n",
    "# CNN-LSTM-BiGRU\n",
    "plt.plot(history_cnn_lstm_bigru.history['loss'])\n",
    "plt.plot(history_cnn_lstm_bigru.history['val_loss'])\n",
    "plt.title('Model loss')\n",
    "plt.ylabel('Loss')\n",
    "plt.xlabel('Epoch')\n",
    "plt.legend(['Train', 'Validation'], loc='upper left')\n",
    "plt.show()\n",
    "\n",
    "# CNN-LSTM\n",
    "plt.plot(history_cnn_lstm.history['loss'])\n",
    "plt.plot(history_cnn_lstm.history['val_loss'])\n",
    "plt.title('Model loss')\n",
    "plt.ylabel('Loss')\n",
    "plt.xlabel('Epoch')\n",
    "plt.legend(['Train', 'Validation'], loc='upper left')\n",
    "plt.show()"
   ]
  },
  {
   "cell_type": "code",
   "execution_count": null,
   "metadata": {
    "execution": {
     "iopub.execute_input": "2023-11-15T09:26:35.271838Z",
     "iopub.status.busy": "2023-11-15T09:26:35.271512Z",
     "iopub.status.idle": "2023-11-15T09:27:16.289779Z",
     "shell.execute_reply": "2023-11-15T09:27:16.288783Z",
     "shell.execute_reply.started": "2023-11-15T09:26:35.271810Z"
    },
    "trusted": true
   },
   "outputs": [],
   "source": [
    "# Make predictions for each model\n",
    "y_pred_cnn_lstm_gru = model_cnn_lstm_gru.predict(np.expand_dims(X_test, axis=2))\n",
    "y_pred_cnn_lstm_bigru = model_cnn_lstm_bigru.predict(np.expand_dims(X_test, axis=2))\n",
    "y_pred_cnn_lstm = model_cnn_lstm.predict(np.expand_dims(X_test, axis=2))"
   ]
  },
  {
   "cell_type": "code",
   "execution_count": null,
   "metadata": {
    "execution": {
     "iopub.execute_input": "2023-11-15T09:27:16.291553Z",
     "iopub.status.busy": "2023-11-15T09:27:16.291259Z",
     "iopub.status.idle": "2023-11-15T09:27:16.875972Z",
     "shell.execute_reply": "2023-11-15T09:27:16.875057Z",
     "shell.execute_reply.started": "2023-11-15T09:27:16.291528Z"
    },
    "trusted": true
   },
   "outputs": [],
   "source": [
    "# CNN-LSTM-GRU------------------------------------------------------------------------------------------------------------------------------------------------\n",
    "\n",
    "\n",
    "y_pred_classes_cnn_lstm_gru = np.argmax(y_pred_cnn_lstm_gru, axis=1)\n",
    "# Inverse the 'attacks' dictionary to map back numbers to names\n",
    "inverse_attacks = {v: k for k, v in attacks.items()}\n",
    "# Generate the classification report with attack names instead of numbers\n",
    "class_report = classification_report(y_test, y_pred_classes_cnn_lstm_gru, target_names=[inverse_attacks[i] for i in range(len(inverse_attacks))])\n",
    "print(class_report)\n",
    "\n",
    "\n",
    "# CNN-LSTM-BiGRU------------------------------------------------------------------------------------------------------------------------------------------------\n",
    "\n",
    "\n",
    "y_pred_classes_cnn_lstm_bigru = np.argmax(y_pred_cnn_lstm_bigru, axis=1)\n",
    "# Inverse the 'attacks' dictionary to map back numbers to names\n",
    "inverse_attacks = {v: k for k, v in attacks.items()}\n",
    "# Generate the classification report with attack names instead of numbers\n",
    "class_report = classification_report(y_test, y_pred_classes_cnn_lstm_bigru, target_names=[inverse_attacks[i] for i in range(len(inverse_attacks))])\n",
    "print(class_report)\n",
    "\n",
    "\n",
    "# CNN-LSTM------------------------------------------------------------------------------------------------------------------------------------------------\n",
    "\n",
    "\n",
    "y_pred_classes_cnn_lstm = np.argmax(y_pred_cnn_lstm, axis=1)\n",
    "# Inverse the 'attacks' dictionary to map back numbers to names\n",
    "inverse_attacks = {v: k for k, v in attacks.items()}\n",
    "# Generate the classification report with attack names instead of numbers\n",
    "class_report = classification_report(y_test, y_pred_classes_cnn_lstm, target_names=[inverse_attacks[i] for i in range(len(inverse_attacks))])\n",
    "print(class_report)"
   ]
  },
  {
   "cell_type": "code",
   "execution_count": null,
   "metadata": {
    "execution": {
     "iopub.execute_input": "2023-11-15T09:27:16.877381Z",
     "iopub.status.busy": "2023-11-15T09:27:16.877076Z",
     "iopub.status.idle": "2023-11-15T09:27:17.785491Z",
     "shell.execute_reply": "2023-11-15T09:27:17.784551Z",
     "shell.execute_reply.started": "2023-11-15T09:27:16.877354Z"
    },
    "trusted": true
   },
   "outputs": [],
   "source": [
    "# CNN-LSTM-GRU------------------------------------------------------------------------------------------------------------------------------------------------\n",
    "\n",
    "\n",
    "# Compute the confusion matrix\n",
    "conf_mat = confusion_matrix(y_test, y_pred_classes_cnn_lstm_gru)\n",
    "# Convert the 'attacks' dictionary to a list of class names ordered by the class number\n",
    "class_names_ordered = [attack for attack, number in sorted(attacks.items(), key=lambda item: item[1])]\n",
    "# Plot the heatmap using seaborn\n",
    "plt.figure(figsize=(15, 10))\n",
    "sns.heatmap(conf_mat, annot=True, fmt=\"d\", cmap=\"Blues\", xticklabels=class_names_ordered, yticklabels=class_names_ordered)\n",
    "plt.xlabel('Predicted Labels')\n",
    "plt.ylabel('True Labels')\n",
    "plt.title('CNN-LSTM-GRU Confusion Matrix')\n",
    "plt.show()\n",
    "\n",
    "\n",
    "# CNN-LSTM-BiGRU------------------------------------------------------------------------------------------------------------------------------------------------\n",
    "\n",
    "\n",
    "# Compute the confusion matrix\n",
    "conf_mat = confusion_matrix(y_test, y_pred_classes_cnn_lstm_bigru)\n",
    "# Convert the 'attacks' dictionary to a list of class names ordered by the class number\n",
    "class_names_ordered = [attack for attack, number in sorted(attacks.items(), key=lambda item: item[1])]\n",
    "# Plot the heatmap using seaborn\n",
    "plt.figure(figsize=(15, 10))\n",
    "sns.heatmap(conf_mat, annot=True, fmt=\"d\", cmap=\"Blues\", xticklabels=class_names_ordered, yticklabels=class_names_ordered)\n",
    "plt.xlabel('Predicted Labels')\n",
    "plt.ylabel('True Labels')\n",
    "plt.title('CNN-LSTM-BiGRU Confusion Matrix')\n",
    "plt.show()\n",
    "\n",
    "\n",
    "# CNN-LSTM------------------------------------------------------------------------------------------------------------------------------------------------\n",
    "\n",
    "\n",
    "# Compute the confusion matrix\n",
    "conf_mat = confusion_matrix(y_test, y_pred_classes_cnn_lstm)\n",
    "# Convert the 'attacks' dictionary to a list of class names ordered by the class number\n",
    "class_names_ordered = [attack for attack, number in sorted(attacks.items(), key=lambda item: item[1])]\n",
    "# Plot the heatmap using seaborn\n",
    "plt.figure(figsize=(15, 10))\n",
    "sns.heatmap(conf_mat, annot=True, fmt=\"d\", cmap=\"Blues\", xticklabels=class_names_ordered, yticklabels=class_names_ordered)\n",
    "plt.xlabel('Predicted Labels')\n",
    "plt.ylabel('True Labels')\n",
    "plt.title('CNN-LSTM Confusion Matrix')\n",
    "plt.show()"
   ]
  },
  {
   "cell_type": "code",
   "execution_count": null,
   "metadata": {
    "execution": {
     "iopub.execute_input": "2023-11-15T09:27:17.786805Z",
     "iopub.status.busy": "2023-11-15T09:27:17.786520Z",
     "iopub.status.idle": "2023-11-15T09:27:18.676854Z",
     "shell.execute_reply": "2023-11-15T09:27:18.676002Z",
     "shell.execute_reply.started": "2023-11-15T09:27:17.786779Z"
    },
    "trusted": true
   },
   "outputs": [],
   "source": [
    "# CNN-LSTM-GRU-----------------------------------------------------------------------------------------------------------------------------------------------\n",
    "\n",
    "\n",
    "# Compute the confusion matrix\n",
    "conf_mat = confusion_matrix(y_test, y_pred_classes_cnn_lstm_gru)\n",
    "# Normalize the confusion matrix by dividing each value by the sum of its row (i.e., the number of true instances for each label)\n",
    "conf_mat_normalized = conf_mat.astype('float') / conf_mat.sum(axis=1)[:, np.newaxis]\n",
    "# Convert the 'attacks' dictionary to a list of class names ordered by the class number\n",
    "class_names_ordered = [attack for attack, number in sorted(attacks.items(), key=lambda item: item[1])]\n",
    "# Plot the heatmap using seaborn\n",
    "plt.figure(figsize=(15, 10))\n",
    "sns.heatmap(conf_mat_normalized, annot=True, fmt=\".2%\", cmap=\"Blues\", xticklabels=class_names_ordered, yticklabels=class_names_ordered)\n",
    "plt.xlabel('Predicted Labels')\n",
    "plt.ylabel('True Labels')\n",
    "plt.title('CNN-LSTM-GRU Normalized Confusion Matrix as Percentages')\n",
    "plt.show()\n",
    "\n",
    "\n",
    "# CNN-LSTM-BiGRU-----------------------------------------------------------------------------------------------------------------------------------------------\n",
    "\n",
    "\n",
    "# Compute the confusion matrix\n",
    "conf_mat = confusion_matrix(y_test, y_pred_classes_cnn_lstm_bigru)\n",
    "# Normalize the confusion matrix by dividing each value by the sum of its row (i.e., the number of true instances for each label)\n",
    "conf_mat_normalized = conf_mat.astype('float') / conf_mat.sum(axis=1)[:, np.newaxis]\n",
    "# Convert the 'attacks' dictionary to a list of class names ordered by the class number\n",
    "class_names_ordered = [attack for attack, number in sorted(attacks.items(), key=lambda item: item[1])]\n",
    "# Plot the heatmap using seaborn\n",
    "plt.figure(figsize=(15, 10))\n",
    "sns.heatmap(conf_mat_normalized, annot=True, fmt=\".2%\", cmap=\"Blues\", xticklabels=class_names_ordered, yticklabels=class_names_ordered)\n",
    "plt.xlabel('Predicted Labels')\n",
    "plt.ylabel('True Labels')\n",
    "plt.title('CNN-LSTM-BiGRU Normalized Confusion Matrix as Percentages')\n",
    "plt.show()\n",
    "\n",
    "\n",
    "# CNN-LSTM-----------------------------------------------------------------------------------------------------------------------------------------------\n",
    "\n",
    "\n",
    "# Compute the confusion matrix\n",
    "conf_mat = confusion_matrix(y_test, y_pred_classes_cnn_lstm)\n",
    "# Normalize the confusion matrix by dividing each value by the sum of its row (i.e., the number of true instances for each label)\n",
    "conf_mat_normalized = conf_mat.astype('float') / conf_mat.sum(axis=1)[:, np.newaxis]\n",
    "# Convert the 'attacks' dictionary to a list of class names ordered by the class number\n",
    "class_names_ordered = [attack for attack, number in sorted(attacks.items(), key=lambda item: item[1])]\n",
    "# Plot the heatmap using seaborn\n",
    "plt.figure(figsize=(15, 10))\n",
    "sns.heatmap(conf_mat_normalized, annot=True, fmt=\".2%\", cmap=\"Blues\", xticklabels=class_names_ordered, yticklabels=class_names_ordered)\n",
    "plt.xlabel('Predicted Labels')\n",
    "plt.ylabel('True Labels')\n",
    "plt.title('CNN-LSTM Normalized Confusion Matrix as Percentages')\n",
    "plt.show()"
   ]
  },
  {
   "cell_type": "code",
   "execution_count": null,
   "metadata": {},
   "outputs": [],
   "source": [
    "num_classes = 9\n",
    "\n",
    "# Get predictions for training sets\n",
    "pred_cnn_lstm_bigru_train = model_cnn_lstm_bigru.predict(np.expand_dims(X_train, axis=2))\n",
    "pred_cnn_lstm_gru_train = model_cnn_lstm_gru.predict(np.expand_dims(X_train, axis=2))\n",
    "\n",
    "# Get predictions for validation sets\n",
    "pred_cnn_lstm_bigru_val = model_cnn_lstm_bigru.predict(np.expand_dims(X_val, axis=2))\n",
    "pred_cnn_lstm_gru_val = model_cnn_lstm_gru.predict(np.expand_dims(X_val, axis=2))\n",
    "\n",
    "# Concatenate predictions for validation sets\n",
    "X_conc_val = np.concatenate([pred_cnn_lstm_bigru_val, pred_cnn_lstm_gru_val], axis=1)\n",
    "\n",
    "# Concatenate predictions for training sets\n",
    "X_conc_train = np.concatenate([pred_cnn_lstm_bigru_train, pred_cnn_lstm_gru_train], axis=1)\n",
    "\n",
    "# Concatenate predictions for test sets\n",
    "X_conc_test = np.concatenate([y_pred_cnn_lstm_bigru, y_pred_cnn_lstm_gru], axis=1)\n",
    "\n",
    "\n",
    "# Define the ensemble model\n",
    "ensemble_model = Sequential([\n",
    "    Dense(64, activation='relu', input_shape=(X_conc_train.shape[1],)),\n",
    "    Dropout(0.5),\n",
    "    Dense(num_classes, activation='softmax')\n",
    "])\n",
    "\n",
    "ensemble_model.compile(optimizer='adam', loss='sparse_categorical_crossentropy', metrics=['accuracy'])"
   ]
  },
  {
   "cell_type": "code",
   "execution_count": null,
   "metadata": {},
   "outputs": [],
   "source": [
    "# Train the ensemble model\n",
    "\n",
    "train_start_time = time.time()\n",
    "\n",
    "ensemble_model.fit(X_conc_train, y_train, validation_data=(X_conc_val, y_val), epochs=50, batch_size=32)\n",
    "\n",
    "# Record the ending time\n",
    "train_end_time = time.time()\n",
    "\n",
    "# Record the starting time for testing\n",
    "test_start_time = time.time()\n",
    "# Evaluate the model\n",
    "loss, accuracy = ensemble_model.evaluate(X_conc_test, y_test, batch_size=32)\n",
    "# Record the ending time for testing\n",
    "test_end_time = time.time()\n",
    "\n",
    "print(f'Test Loss: {loss:.4f}')\n",
    "print(f'Test Accuracy: {accuracy:.4f}')\n",
    "\n",
    "# Calculate and print the training time\n",
    "train_time = train_end_time - train_start_time\n",
    "print(f\"Training time: {train_time:.2f} seconds\")\n",
    "\n",
    "# Calculate and print the testing time\n",
    "test_time = test_end_time - test_start_time\n",
    "print(f\"Testing time: {test_time:.2f} seconds\")"
   ]
  },
  {
   "cell_type": "code",
   "execution_count": null,
   "metadata": {},
   "outputs": [],
   "source": [
    "# Get predicted class labels\n",
    "final_pred = np.argmax(ensemble_model.predict(X_conc_test), axis=1)\n",
    "\n",
    "# Print the classification report\n",
    "print(\"Classification Report:\")\n",
    "print(classification_report(y_test, final_pred))\n",
    "\n",
    "# confusion matrix\n",
    "conf_mat = confusion_matrix(y_test, final_pred)\n",
    "\n",
    "# Normalize the confusion matrix by dividing each value by the sum of its row (i.e., the number of true instances for each label)\n",
    "conf_mat_normalized = conf_mat.astype('float') / conf_mat.sum(axis=1)[:, np.newaxis]\n",
    "\n",
    "# Convert the 'attacks' dictionary to a list of class names ordered by the class number\n",
    "class_names_ordered = [attack for attack, number in sorted(attacks.items(), key=lambda item: item[1])]\n",
    "\n",
    "# Plot the heatmap using seaborn\n",
    "plt.figure(figsize=(15, 10))\n",
    "sns.heatmap(conf_mat_normalized, annot=True, fmt=\".2%\", cmap=\"Blues\", xticklabels=class_names_ordered, yticklabels=class_names_ordered)\n",
    "plt.xlabel('Predicted Labels')\n",
    "plt.ylabel('True Labels')\n",
    "plt.title('Ensemble Model Normalized Confusion Matrix as Percentages')\n",
    "plt.show()"
   ]
  }
 ],
 "metadata": {
  "kaggle": {
   "accelerator": "none",
   "dataSources": [
    {
     "datasetId": 3920517,
     "sourceId": 6960620,
     "sourceType": "datasetVersion"
    }
   ],
   "dockerImageVersionId": 30580,
   "isGpuEnabled": false,
   "isInternetEnabled": true,
   "language": "python",
   "sourceType": "notebook"
  },
  "kernelspec": {
   "display_name": "Python 3",
   "language": "python",
   "name": "python3"
  },
  "language_info": {
   "codemirror_mode": {
    "name": "ipython",
    "version": 3
   },
   "file_extension": ".py",
   "mimetype": "text/x-python",
   "name": "python",
   "nbconvert_exporter": "python",
   "pygments_lexer": "ipython3",
   "version": "3.12.5"
  }
 },
 "nbformat": 4,
 "nbformat_minor": 4
}
